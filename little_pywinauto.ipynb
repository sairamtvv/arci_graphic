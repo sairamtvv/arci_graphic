{
 "cells": [
  {
   "cell_type": "code",
   "execution_count": 1,
   "metadata": {},
   "outputs": [],
   "source": [
    "import numpy as np"
   ]
  },
  {
   "cell_type": "code",
   "execution_count": 2,
   "metadata": {},
   "outputs": [],
   "source": [
    "import pandas as pd"
   ]
  },
  {
   "cell_type": "code",
   "execution_count": 3,
   "metadata": {},
   "outputs": [],
   "source": [
    "#Series"
   ]
  },
  {
   "cell_type": "code",
   "execution_count": 4,
   "metadata": {},
   "outputs": [],
   "source": [
    "labels=['a','b','c']\n",
    "my_list=[10,20,30]\n",
    "arr=np.array([10,20,30])\n",
    "d={'a':10,'b':20,'c':100}"
   ]
  },
  {
   "cell_type": "code",
   "execution_count": 6,
   "metadata": {},
   "outputs": [
    {
     "data": {
      "text/plain": [
       "0    10\n",
       "1    20\n",
       "2    30\n",
       "dtype: int64"
      ]
     },
     "execution_count": 6,
     "metadata": {},
     "output_type": "execute_result"
    }
   ],
   "source": [
    "pd.Series(my_list)"
   ]
  },
  {
   "cell_type": "code",
   "execution_count": 7,
   "metadata": {},
   "outputs": [
    {
     "data": {
      "text/plain": [
       "a    10\n",
       "b    20\n",
       "c    30\n",
       "dtype: int64"
      ]
     },
     "execution_count": 7,
     "metadata": {},
     "output_type": "execute_result"
    }
   ],
   "source": [
    "pd.Series(my_list,index=labels)"
   ]
  },
  {
   "cell_type": "code",
   "execution_count": 8,
   "metadata": {},
   "outputs": [
    {
     "data": {
      "text/plain": [
       "0    10\n",
       "1    20\n",
       "2    30\n",
       "dtype: int32"
      ]
     },
     "execution_count": 8,
     "metadata": {},
     "output_type": "execute_result"
    }
   ],
   "source": [
    "pd.Series(arr)"
   ]
  },
  {
   "cell_type": "code",
   "execution_count": 9,
   "metadata": {},
   "outputs": [
    {
     "data": {
      "text/plain": [
       "a    10\n",
       "b    20\n",
       "c    30\n",
       "dtype: int32"
      ]
     },
     "execution_count": 9,
     "metadata": {},
     "output_type": "execute_result"
    }
   ],
   "source": [
    "pd.Series(arr,labels)"
   ]
  },
  {
   "cell_type": "code",
   "execution_count": 10,
   "metadata": {},
   "outputs": [
    {
     "data": {
      "text/plain": [
       "a     10\n",
       "b     20\n",
       "c    100\n",
       "dtype: int64"
      ]
     },
     "execution_count": 10,
     "metadata": {},
     "output_type": "execute_result"
    }
   ],
   "source": [
    "pd.Series(d)"
   ]
  },
  {
   "cell_type": "code",
   "execution_count": 11,
   "metadata": {},
   "outputs": [
    {
     "data": {
      "text/plain": [
       "0      <built-in function sum>\n",
       "1    <built-in function print>\n",
       "2      <built-in function len>\n",
       "dtype: object"
      ]
     },
     "execution_count": 11,
     "metadata": {},
     "output_type": "execute_result"
    }
   ],
   "source": [
    "pd.Series([sum,print,len])"
   ]
  },
  {
   "cell_type": "code",
   "execution_count": 13,
   "metadata": {},
   "outputs": [],
   "source": [
    "ser1=pd.Series([1,2,3,4],index=[\"telan\",\"AP\",\"Mahar\",\"Tamilnadu\"])"
   ]
  },
  {
   "cell_type": "code",
   "execution_count": 14,
   "metadata": {},
   "outputs": [
    {
     "data": {
      "text/plain": [
       "telan        1\n",
       "AP           2\n",
       "Mahar        3\n",
       "Tamilnadu    4\n",
       "dtype: int64"
      ]
     },
     "execution_count": 14,
     "metadata": {},
     "output_type": "execute_result"
    }
   ],
   "source": [
    "ser1"
   ]
  },
  {
   "cell_type": "code",
   "execution_count": 15,
   "metadata": {},
   "outputs": [],
   "source": [
    "ser2=pd.Series([2,3,4,5],index=[\"kashmir\",\"punjab\",\"Tamilnadu\",\"AP\"])"
   ]
  },
  {
   "cell_type": "code",
   "execution_count": 16,
   "metadata": {},
   "outputs": [
    {
     "data": {
      "text/plain": [
       "kashmir      2\n",
       "punjab       3\n",
       "Tamilnadu    4\n",
       "AP           5\n",
       "dtype: int64"
      ]
     },
     "execution_count": 16,
     "metadata": {},
     "output_type": "execute_result"
    }
   ],
   "source": [
    "ser2"
   ]
  },
  {
   "cell_type": "code",
   "execution_count": 17,
   "metadata": {},
   "outputs": [
    {
     "data": {
      "text/plain": [
       "telan        1\n",
       "AP           2\n",
       "Mahar        3\n",
       "Tamilnadu    4\n",
       "dtype: int64"
      ]
     },
     "execution_count": 17,
     "metadata": {},
     "output_type": "execute_result"
    }
   ],
   "source": [
    "ser1"
   ]
  },
  {
   "cell_type": "code",
   "execution_count": 18,
   "metadata": {},
   "outputs": [
    {
     "data": {
      "text/plain": [
       "AP           7.0\n",
       "Mahar        NaN\n",
       "Tamilnadu    8.0\n",
       "kashmir      NaN\n",
       "punjab       NaN\n",
       "telan        NaN\n",
       "dtype: float64"
      ]
     },
     "execution_count": 18,
     "metadata": {},
     "output_type": "execute_result"
    }
   ],
   "source": [
    "ser1+ser2"
   ]
  },
  {
   "cell_type": "code",
   "execution_count": 19,
   "metadata": {},
   "outputs": [
    {
     "data": {
      "text/plain": [
       "telan        1\n",
       "AP           2\n",
       "Mahar        3\n",
       "Tamilnadu    4\n",
       "dtype: int64"
      ]
     },
     "execution_count": 19,
     "metadata": {},
     "output_type": "execute_result"
    }
   ],
   "source": [
    "ser1"
   ]
  },
  {
   "cell_type": "code",
   "execution_count": 20,
   "metadata": {},
   "outputs": [
    {
     "data": {
      "text/plain": [
       "4"
      ]
     },
     "execution_count": 20,
     "metadata": {},
     "output_type": "execute_result"
    }
   ],
   "source": [
    "ser1[\"Tamilnadu\"]"
   ]
  },
  {
   "cell_type": "code",
   "execution_count": 21,
   "metadata": {},
   "outputs": [],
   "source": [
    "np.random.seed(101)"
   ]
  },
  {
   "cell_type": "code",
   "execution_count": 24,
   "metadata": {},
   "outputs": [],
   "source": [
    "df=pd.DataFrame(np.random.rand(5,4),[\"A\",\"B\",\"c\",\"D\",\"E\"],[\"W\",\"X\",\"Y\",\"Z\"])"
   ]
  },
  {
   "cell_type": "code",
   "execution_count": 25,
   "metadata": {},
   "outputs": [
    {
     "data": {
      "text/html": [
       "<div>\n",
       "<style scoped>\n",
       "    .dataframe tbody tr th:only-of-type {\n",
       "        vertical-align: middle;\n",
       "    }\n",
       "\n",
       "    .dataframe tbody tr th {\n",
       "        vertical-align: top;\n",
       "    }\n",
       "\n",
       "    .dataframe thead th {\n",
       "        text-align: right;\n",
       "    }\n",
       "</style>\n",
       "<table border=\"1\" class=\"dataframe\">\n",
       "  <thead>\n",
       "    <tr style=\"text-align: right;\">\n",
       "      <th></th>\n",
       "      <th>W</th>\n",
       "      <th>X</th>\n",
       "      <th>Y</th>\n",
       "      <th>Z</th>\n",
       "    </tr>\n",
       "  </thead>\n",
       "  <tbody>\n",
       "    <tr>\n",
       "      <th>A</th>\n",
       "      <td>0.516399</td>\n",
       "      <td>0.570668</td>\n",
       "      <td>0.028474</td>\n",
       "      <td>0.171522</td>\n",
       "    </tr>\n",
       "    <tr>\n",
       "      <th>B</th>\n",
       "      <td>0.685277</td>\n",
       "      <td>0.833897</td>\n",
       "      <td>0.306966</td>\n",
       "      <td>0.893613</td>\n",
       "    </tr>\n",
       "    <tr>\n",
       "      <th>c</th>\n",
       "      <td>0.721544</td>\n",
       "      <td>0.189939</td>\n",
       "      <td>0.554228</td>\n",
       "      <td>0.352132</td>\n",
       "    </tr>\n",
       "    <tr>\n",
       "      <th>D</th>\n",
       "      <td>0.181892</td>\n",
       "      <td>0.785602</td>\n",
       "      <td>0.965483</td>\n",
       "      <td>0.232354</td>\n",
       "    </tr>\n",
       "    <tr>\n",
       "      <th>E</th>\n",
       "      <td>0.083561</td>\n",
       "      <td>0.603548</td>\n",
       "      <td>0.728993</td>\n",
       "      <td>0.276239</td>\n",
       "    </tr>\n",
       "  </tbody>\n",
       "</table>\n",
       "</div>"
      ],
      "text/plain": [
       "          W         X         Y         Z\n",
       "A  0.516399  0.570668  0.028474  0.171522\n",
       "B  0.685277  0.833897  0.306966  0.893613\n",
       "c  0.721544  0.189939  0.554228  0.352132\n",
       "D  0.181892  0.785602  0.965483  0.232354\n",
       "E  0.083561  0.603548  0.728993  0.276239"
      ]
     },
     "execution_count": 25,
     "metadata": {},
     "output_type": "execute_result"
    }
   ],
   "source": [
    "df"
   ]
  },
  {
   "cell_type": "code",
   "execution_count": 27,
   "metadata": {},
   "outputs": [
    {
     "data": {
      "text/plain": [
       "pandas.core.series.Series"
      ]
     },
     "execution_count": 27,
     "metadata": {},
     "output_type": "execute_result"
    }
   ],
   "source": [
    "type(df['W'])"
   ]
  },
  {
   "cell_type": "code",
   "execution_count": 28,
   "metadata": {},
   "outputs": [
    {
     "data": {
      "text/plain": [
       "pandas.core.frame.DataFrame"
      ]
     },
     "execution_count": 28,
     "metadata": {},
     "output_type": "execute_result"
    }
   ],
   "source": [
    "type(df)"
   ]
  },
  {
   "cell_type": "code",
   "execution_count": 29,
   "metadata": {},
   "outputs": [
    {
     "data": {
      "text/html": [
       "<div>\n",
       "<style scoped>\n",
       "    .dataframe tbody tr th:only-of-type {\n",
       "        vertical-align: middle;\n",
       "    }\n",
       "\n",
       "    .dataframe tbody tr th {\n",
       "        vertical-align: top;\n",
       "    }\n",
       "\n",
       "    .dataframe thead th {\n",
       "        text-align: right;\n",
       "    }\n",
       "</style>\n",
       "<table border=\"1\" class=\"dataframe\">\n",
       "  <thead>\n",
       "    <tr style=\"text-align: right;\">\n",
       "      <th></th>\n",
       "      <th>W</th>\n",
       "      <th>X</th>\n",
       "      <th>Y</th>\n",
       "      <th>Z</th>\n",
       "    </tr>\n",
       "  </thead>\n",
       "  <tbody>\n",
       "    <tr>\n",
       "      <th>A</th>\n",
       "      <td>0.516399</td>\n",
       "      <td>0.570668</td>\n",
       "      <td>0.028474</td>\n",
       "      <td>0.171522</td>\n",
       "    </tr>\n",
       "    <tr>\n",
       "      <th>B</th>\n",
       "      <td>0.685277</td>\n",
       "      <td>0.833897</td>\n",
       "      <td>0.306966</td>\n",
       "      <td>0.893613</td>\n",
       "    </tr>\n",
       "    <tr>\n",
       "      <th>c</th>\n",
       "      <td>0.721544</td>\n",
       "      <td>0.189939</td>\n",
       "      <td>0.554228</td>\n",
       "      <td>0.352132</td>\n",
       "    </tr>\n",
       "    <tr>\n",
       "      <th>D</th>\n",
       "      <td>0.181892</td>\n",
       "      <td>0.785602</td>\n",
       "      <td>0.965483</td>\n",
       "      <td>0.232354</td>\n",
       "    </tr>\n",
       "    <tr>\n",
       "      <th>E</th>\n",
       "      <td>0.083561</td>\n",
       "      <td>0.603548</td>\n",
       "      <td>0.728993</td>\n",
       "      <td>0.276239</td>\n",
       "    </tr>\n",
       "  </tbody>\n",
       "</table>\n",
       "</div>"
      ],
      "text/plain": [
       "          W         X         Y         Z\n",
       "A  0.516399  0.570668  0.028474  0.171522\n",
       "B  0.685277  0.833897  0.306966  0.893613\n",
       "c  0.721544  0.189939  0.554228  0.352132\n",
       "D  0.181892  0.785602  0.965483  0.232354\n",
       "E  0.083561  0.603548  0.728993  0.276239"
      ]
     },
     "execution_count": 29,
     "metadata": {},
     "output_type": "execute_result"
    }
   ],
   "source": [
    "df\n"
   ]
  },
  {
   "cell_type": "code",
   "execution_count": 31,
   "metadata": {},
   "outputs": [
    {
     "data": {
      "text/html": [
       "<div>\n",
       "<style scoped>\n",
       "    .dataframe tbody tr th:only-of-type {\n",
       "        vertical-align: middle;\n",
       "    }\n",
       "\n",
       "    .dataframe tbody tr th {\n",
       "        vertical-align: top;\n",
       "    }\n",
       "\n",
       "    .dataframe thead th {\n",
       "        text-align: right;\n",
       "    }\n",
       "</style>\n",
       "<table border=\"1\" class=\"dataframe\">\n",
       "  <thead>\n",
       "    <tr style=\"text-align: right;\">\n",
       "      <th></th>\n",
       "      <th>W</th>\n",
       "      <th>X</th>\n",
       "    </tr>\n",
       "  </thead>\n",
       "  <tbody>\n",
       "    <tr>\n",
       "      <th>A</th>\n",
       "      <td>0.516399</td>\n",
       "      <td>0.570668</td>\n",
       "    </tr>\n",
       "    <tr>\n",
       "      <th>B</th>\n",
       "      <td>0.685277</td>\n",
       "      <td>0.833897</td>\n",
       "    </tr>\n",
       "    <tr>\n",
       "      <th>c</th>\n",
       "      <td>0.721544</td>\n",
       "      <td>0.189939</td>\n",
       "    </tr>\n",
       "    <tr>\n",
       "      <th>D</th>\n",
       "      <td>0.181892</td>\n",
       "      <td>0.785602</td>\n",
       "    </tr>\n",
       "    <tr>\n",
       "      <th>E</th>\n",
       "      <td>0.083561</td>\n",
       "      <td>0.603548</td>\n",
       "    </tr>\n",
       "  </tbody>\n",
       "</table>\n",
       "</div>"
      ],
      "text/plain": [
       "          W         X\n",
       "A  0.516399  0.570668\n",
       "B  0.685277  0.833897\n",
       "c  0.721544  0.189939\n",
       "D  0.181892  0.785602\n",
       "E  0.083561  0.603548"
      ]
     },
     "execution_count": 31,
     "metadata": {},
     "output_type": "execute_result"
    }
   ],
   "source": [
    "df[['W','X']]"
   ]
  },
  {
   "cell_type": "code",
   "execution_count": 32,
   "metadata": {},
   "outputs": [],
   "source": [
    "df['new']=df['W']+df[\"X\"]"
   ]
  },
  {
   "cell_type": "code",
   "execution_count": 33,
   "metadata": {},
   "outputs": [
    {
     "data": {
      "text/html": [
       "<div>\n",
       "<style scoped>\n",
       "    .dataframe tbody tr th:only-of-type {\n",
       "        vertical-align: middle;\n",
       "    }\n",
       "\n",
       "    .dataframe tbody tr th {\n",
       "        vertical-align: top;\n",
       "    }\n",
       "\n",
       "    .dataframe thead th {\n",
       "        text-align: right;\n",
       "    }\n",
       "</style>\n",
       "<table border=\"1\" class=\"dataframe\">\n",
       "  <thead>\n",
       "    <tr style=\"text-align: right;\">\n",
       "      <th></th>\n",
       "      <th>W</th>\n",
       "      <th>X</th>\n",
       "      <th>Y</th>\n",
       "      <th>Z</th>\n",
       "      <th>new</th>\n",
       "    </tr>\n",
       "  </thead>\n",
       "  <tbody>\n",
       "    <tr>\n",
       "      <th>A</th>\n",
       "      <td>0.516399</td>\n",
       "      <td>0.570668</td>\n",
       "      <td>0.028474</td>\n",
       "      <td>0.171522</td>\n",
       "      <td>1.087066</td>\n",
       "    </tr>\n",
       "    <tr>\n",
       "      <th>B</th>\n",
       "      <td>0.685277</td>\n",
       "      <td>0.833897</td>\n",
       "      <td>0.306966</td>\n",
       "      <td>0.893613</td>\n",
       "      <td>1.519174</td>\n",
       "    </tr>\n",
       "    <tr>\n",
       "      <th>c</th>\n",
       "      <td>0.721544</td>\n",
       "      <td>0.189939</td>\n",
       "      <td>0.554228</td>\n",
       "      <td>0.352132</td>\n",
       "      <td>0.911483</td>\n",
       "    </tr>\n",
       "    <tr>\n",
       "      <th>D</th>\n",
       "      <td>0.181892</td>\n",
       "      <td>0.785602</td>\n",
       "      <td>0.965483</td>\n",
       "      <td>0.232354</td>\n",
       "      <td>0.967494</td>\n",
       "    </tr>\n",
       "    <tr>\n",
       "      <th>E</th>\n",
       "      <td>0.083561</td>\n",
       "      <td>0.603548</td>\n",
       "      <td>0.728993</td>\n",
       "      <td>0.276239</td>\n",
       "      <td>0.687110</td>\n",
       "    </tr>\n",
       "  </tbody>\n",
       "</table>\n",
       "</div>"
      ],
      "text/plain": [
       "          W         X         Y         Z       new\n",
       "A  0.516399  0.570668  0.028474  0.171522  1.087066\n",
       "B  0.685277  0.833897  0.306966  0.893613  1.519174\n",
       "c  0.721544  0.189939  0.554228  0.352132  0.911483\n",
       "D  0.181892  0.785602  0.965483  0.232354  0.967494\n",
       "E  0.083561  0.603548  0.728993  0.276239  0.687110"
      ]
     },
     "execution_count": 33,
     "metadata": {},
     "output_type": "execute_result"
    }
   ],
   "source": [
    "df"
   ]
  },
  {
   "cell_type": "code",
   "execution_count": 38,
   "metadata": {},
   "outputs": [],
   "source": [
    "df.drop(\"new\",axis=1,inplace=True)"
   ]
  },
  {
   "cell_type": "code",
   "execution_count": 39,
   "metadata": {},
   "outputs": [
    {
     "data": {
      "text/html": [
       "<div>\n",
       "<style scoped>\n",
       "    .dataframe tbody tr th:only-of-type {\n",
       "        vertical-align: middle;\n",
       "    }\n",
       "\n",
       "    .dataframe tbody tr th {\n",
       "        vertical-align: top;\n",
       "    }\n",
       "\n",
       "    .dataframe thead th {\n",
       "        text-align: right;\n",
       "    }\n",
       "</style>\n",
       "<table border=\"1\" class=\"dataframe\">\n",
       "  <thead>\n",
       "    <tr style=\"text-align: right;\">\n",
       "      <th></th>\n",
       "      <th>W</th>\n",
       "      <th>X</th>\n",
       "      <th>Y</th>\n",
       "      <th>Z</th>\n",
       "    </tr>\n",
       "  </thead>\n",
       "  <tbody>\n",
       "    <tr>\n",
       "      <th>A</th>\n",
       "      <td>0.516399</td>\n",
       "      <td>0.570668</td>\n",
       "      <td>0.028474</td>\n",
       "      <td>0.171522</td>\n",
       "    </tr>\n",
       "    <tr>\n",
       "      <th>B</th>\n",
       "      <td>0.685277</td>\n",
       "      <td>0.833897</td>\n",
       "      <td>0.306966</td>\n",
       "      <td>0.893613</td>\n",
       "    </tr>\n",
       "    <tr>\n",
       "      <th>c</th>\n",
       "      <td>0.721544</td>\n",
       "      <td>0.189939</td>\n",
       "      <td>0.554228</td>\n",
       "      <td>0.352132</td>\n",
       "    </tr>\n",
       "    <tr>\n",
       "      <th>D</th>\n",
       "      <td>0.181892</td>\n",
       "      <td>0.785602</td>\n",
       "      <td>0.965483</td>\n",
       "      <td>0.232354</td>\n",
       "    </tr>\n",
       "    <tr>\n",
       "      <th>E</th>\n",
       "      <td>0.083561</td>\n",
       "      <td>0.603548</td>\n",
       "      <td>0.728993</td>\n",
       "      <td>0.276239</td>\n",
       "    </tr>\n",
       "  </tbody>\n",
       "</table>\n",
       "</div>"
      ],
      "text/plain": [
       "          W         X         Y         Z\n",
       "A  0.516399  0.570668  0.028474  0.171522\n",
       "B  0.685277  0.833897  0.306966  0.893613\n",
       "c  0.721544  0.189939  0.554228  0.352132\n",
       "D  0.181892  0.785602  0.965483  0.232354\n",
       "E  0.083561  0.603548  0.728993  0.276239"
      ]
     },
     "execution_count": 39,
     "metadata": {},
     "output_type": "execute_result"
    }
   ],
   "source": [
    "df"
   ]
  },
  {
   "cell_type": "code",
   "execution_count": 41,
   "metadata": {},
   "outputs": [
    {
     "data": {
      "text/plain": [
       "(5, 4)"
      ]
     },
     "execution_count": 41,
     "metadata": {},
     "output_type": "execute_result"
    }
   ],
   "source": [
    "df.shape"
   ]
  },
  {
   "cell_type": "code",
   "execution_count": 43,
   "metadata": {},
   "outputs": [
    {
     "data": {
      "text/html": [
       "<div>\n",
       "<style scoped>\n",
       "    .dataframe tbody tr th:only-of-type {\n",
       "        vertical-align: middle;\n",
       "    }\n",
       "\n",
       "    .dataframe tbody tr th {\n",
       "        vertical-align: top;\n",
       "    }\n",
       "\n",
       "    .dataframe thead th {\n",
       "        text-align: right;\n",
       "    }\n",
       "</style>\n",
       "<table border=\"1\" class=\"dataframe\">\n",
       "  <thead>\n",
       "    <tr style=\"text-align: right;\">\n",
       "      <th></th>\n",
       "      <th>W</th>\n",
       "      <th>X</th>\n",
       "      <th>Y</th>\n",
       "    </tr>\n",
       "  </thead>\n",
       "  <tbody>\n",
       "    <tr>\n",
       "      <th>A</th>\n",
       "      <td>0.516399</td>\n",
       "      <td>0.570668</td>\n",
       "      <td>0.028474</td>\n",
       "    </tr>\n",
       "    <tr>\n",
       "      <th>B</th>\n",
       "      <td>0.685277</td>\n",
       "      <td>0.833897</td>\n",
       "      <td>0.306966</td>\n",
       "    </tr>\n",
       "    <tr>\n",
       "      <th>c</th>\n",
       "      <td>0.721544</td>\n",
       "      <td>0.189939</td>\n",
       "      <td>0.554228</td>\n",
       "    </tr>\n",
       "    <tr>\n",
       "      <th>D</th>\n",
       "      <td>0.181892</td>\n",
       "      <td>0.785602</td>\n",
       "      <td>0.965483</td>\n",
       "    </tr>\n",
       "    <tr>\n",
       "      <th>E</th>\n",
       "      <td>0.083561</td>\n",
       "      <td>0.603548</td>\n",
       "      <td>0.728993</td>\n",
       "    </tr>\n",
       "  </tbody>\n",
       "</table>\n",
       "</div>"
      ],
      "text/plain": [
       "          W         X         Y\n",
       "A  0.516399  0.570668  0.028474\n",
       "B  0.685277  0.833897  0.306966\n",
       "c  0.721544  0.189939  0.554228\n",
       "D  0.181892  0.785602  0.965483\n",
       "E  0.083561  0.603548  0.728993"
      ]
     },
     "execution_count": 43,
     "metadata": {},
     "output_type": "execute_result"
    }
   ],
   "source": [
    "df.drop(\"Z\",axis=1)"
   ]
  },
  {
   "cell_type": "code",
   "execution_count": 44,
   "metadata": {},
   "outputs": [
    {
     "data": {
      "text/html": [
       "<div>\n",
       "<style scoped>\n",
       "    .dataframe tbody tr th:only-of-type {\n",
       "        vertical-align: middle;\n",
       "    }\n",
       "\n",
       "    .dataframe tbody tr th {\n",
       "        vertical-align: top;\n",
       "    }\n",
       "\n",
       "    .dataframe thead th {\n",
       "        text-align: right;\n",
       "    }\n",
       "</style>\n",
       "<table border=\"1\" class=\"dataframe\">\n",
       "  <thead>\n",
       "    <tr style=\"text-align: right;\">\n",
       "      <th></th>\n",
       "      <th>W</th>\n",
       "      <th>X</th>\n",
       "      <th>Y</th>\n",
       "      <th>Z</th>\n",
       "    </tr>\n",
       "  </thead>\n",
       "  <tbody>\n",
       "    <tr>\n",
       "      <th>A</th>\n",
       "      <td>0.516399</td>\n",
       "      <td>0.570668</td>\n",
       "      <td>0.028474</td>\n",
       "      <td>0.171522</td>\n",
       "    </tr>\n",
       "    <tr>\n",
       "      <th>B</th>\n",
       "      <td>0.685277</td>\n",
       "      <td>0.833897</td>\n",
       "      <td>0.306966</td>\n",
       "      <td>0.893613</td>\n",
       "    </tr>\n",
       "    <tr>\n",
       "      <th>c</th>\n",
       "      <td>0.721544</td>\n",
       "      <td>0.189939</td>\n",
       "      <td>0.554228</td>\n",
       "      <td>0.352132</td>\n",
       "    </tr>\n",
       "    <tr>\n",
       "      <th>D</th>\n",
       "      <td>0.181892</td>\n",
       "      <td>0.785602</td>\n",
       "      <td>0.965483</td>\n",
       "      <td>0.232354</td>\n",
       "    </tr>\n",
       "    <tr>\n",
       "      <th>E</th>\n",
       "      <td>0.083561</td>\n",
       "      <td>0.603548</td>\n",
       "      <td>0.728993</td>\n",
       "      <td>0.276239</td>\n",
       "    </tr>\n",
       "  </tbody>\n",
       "</table>\n",
       "</div>"
      ],
      "text/plain": [
       "          W         X         Y         Z\n",
       "A  0.516399  0.570668  0.028474  0.171522\n",
       "B  0.685277  0.833897  0.306966  0.893613\n",
       "c  0.721544  0.189939  0.554228  0.352132\n",
       "D  0.181892  0.785602  0.965483  0.232354\n",
       "E  0.083561  0.603548  0.728993  0.276239"
      ]
     },
     "execution_count": 44,
     "metadata": {},
     "output_type": "execute_result"
    }
   ],
   "source": [
    "df"
   ]
  },
  {
   "cell_type": "code",
   "execution_count": 45,
   "metadata": {},
   "outputs": [
    {
     "data": {
      "text/plain": [
       "W    0.516399\n",
       "X    0.570668\n",
       "Y    0.028474\n",
       "Z    0.171522\n",
       "Name: A, dtype: float64"
      ]
     },
     "execution_count": 45,
     "metadata": {},
     "output_type": "execute_result"
    }
   ],
   "source": [
    "df.loc['A']"
   ]
  },
  {
   "cell_type": "code",
   "execution_count": 46,
   "metadata": {},
   "outputs": [
    {
     "data": {
      "text/plain": [
       "W    0.516399\n",
       "X    0.570668\n",
       "Y    0.028474\n",
       "Z    0.171522\n",
       "Name: A, dtype: float64"
      ]
     },
     "execution_count": 46,
     "metadata": {},
     "output_type": "execute_result"
    }
   ],
   "source": [
    "df.iloc[0]"
   ]
  },
  {
   "cell_type": "code",
   "execution_count": 50,
   "metadata": {},
   "outputs": [
    {
     "data": {
      "text/html": [
       "<div>\n",
       "<style scoped>\n",
       "    .dataframe tbody tr th:only-of-type {\n",
       "        vertical-align: middle;\n",
       "    }\n",
       "\n",
       "    .dataframe tbody tr th {\n",
       "        vertical-align: top;\n",
       "    }\n",
       "\n",
       "    .dataframe thead th {\n",
       "        text-align: right;\n",
       "    }\n",
       "</style>\n",
       "<table border=\"1\" class=\"dataframe\">\n",
       "  <thead>\n",
       "    <tr style=\"text-align: right;\">\n",
       "      <th></th>\n",
       "      <th>W</th>\n",
       "      <th>X</th>\n",
       "      <th>Y</th>\n",
       "      <th>Z</th>\n",
       "    </tr>\n",
       "  </thead>\n",
       "  <tbody>\n",
       "    <tr>\n",
       "      <th>A</th>\n",
       "      <td>0.516399</td>\n",
       "      <td>0.570668</td>\n",
       "      <td>0.028474</td>\n",
       "      <td>0.171522</td>\n",
       "    </tr>\n",
       "    <tr>\n",
       "      <th>D</th>\n",
       "      <td>0.181892</td>\n",
       "      <td>0.785602</td>\n",
       "      <td>0.965483</td>\n",
       "      <td>0.232354</td>\n",
       "    </tr>\n",
       "  </tbody>\n",
       "</table>\n",
       "</div>"
      ],
      "text/plain": [
       "          W         X         Y         Z\n",
       "A  0.516399  0.570668  0.028474  0.171522\n",
       "D  0.181892  0.785602  0.965483  0.232354"
      ]
     },
     "execution_count": 50,
     "metadata": {},
     "output_type": "execute_result"
    }
   ],
   "source": [
    "df.loc[[\"A\",\"D\"]]"
   ]
  },
  {
   "cell_type": "code",
   "execution_count": 51,
   "metadata": {},
   "outputs": [
    {
     "data": {
      "text/html": [
       "<div>\n",
       "<style scoped>\n",
       "    .dataframe tbody tr th:only-of-type {\n",
       "        vertical-align: middle;\n",
       "    }\n",
       "\n",
       "    .dataframe tbody tr th {\n",
       "        vertical-align: top;\n",
       "    }\n",
       "\n",
       "    .dataframe thead th {\n",
       "        text-align: right;\n",
       "    }\n",
       "</style>\n",
       "<table border=\"1\" class=\"dataframe\">\n",
       "  <thead>\n",
       "    <tr style=\"text-align: right;\">\n",
       "      <th></th>\n",
       "      <th>W</th>\n",
       "      <th>X</th>\n",
       "      <th>Y</th>\n",
       "      <th>Z</th>\n",
       "    </tr>\n",
       "  </thead>\n",
       "  <tbody>\n",
       "    <tr>\n",
       "      <th>A</th>\n",
       "      <td>0.516399</td>\n",
       "      <td>0.570668</td>\n",
       "      <td>0.028474</td>\n",
       "      <td>0.171522</td>\n",
       "    </tr>\n",
       "    <tr>\n",
       "      <th>B</th>\n",
       "      <td>0.685277</td>\n",
       "      <td>0.833897</td>\n",
       "      <td>0.306966</td>\n",
       "      <td>0.893613</td>\n",
       "    </tr>\n",
       "    <tr>\n",
       "      <th>c</th>\n",
       "      <td>0.721544</td>\n",
       "      <td>0.189939</td>\n",
       "      <td>0.554228</td>\n",
       "      <td>0.352132</td>\n",
       "    </tr>\n",
       "    <tr>\n",
       "      <th>D</th>\n",
       "      <td>0.181892</td>\n",
       "      <td>0.785602</td>\n",
       "      <td>0.965483</td>\n",
       "      <td>0.232354</td>\n",
       "    </tr>\n",
       "    <tr>\n",
       "      <th>E</th>\n",
       "      <td>0.083561</td>\n",
       "      <td>0.603548</td>\n",
       "      <td>0.728993</td>\n",
       "      <td>0.276239</td>\n",
       "    </tr>\n",
       "  </tbody>\n",
       "</table>\n",
       "</div>"
      ],
      "text/plain": [
       "          W         X         Y         Z\n",
       "A  0.516399  0.570668  0.028474  0.171522\n",
       "B  0.685277  0.833897  0.306966  0.893613\n",
       "c  0.721544  0.189939  0.554228  0.352132\n",
       "D  0.181892  0.785602  0.965483  0.232354\n",
       "E  0.083561  0.603548  0.728993  0.276239"
      ]
     },
     "execution_count": 51,
     "metadata": {},
     "output_type": "execute_result"
    }
   ],
   "source": [
    "df"
   ]
  },
  {
   "cell_type": "code",
   "execution_count": 53,
   "metadata": {},
   "outputs": [
    {
     "data": {
      "text/html": [
       "<div>\n",
       "<style scoped>\n",
       "    .dataframe tbody tr th:only-of-type {\n",
       "        vertical-align: middle;\n",
       "    }\n",
       "\n",
       "    .dataframe tbody tr th {\n",
       "        vertical-align: top;\n",
       "    }\n",
       "\n",
       "    .dataframe thead th {\n",
       "        text-align: right;\n",
       "    }\n",
       "</style>\n",
       "<table border=\"1\" class=\"dataframe\">\n",
       "  <thead>\n",
       "    <tr style=\"text-align: right;\">\n",
       "      <th></th>\n",
       "      <th>X</th>\n",
       "      <th>Y</th>\n",
       "    </tr>\n",
       "  </thead>\n",
       "  <tbody>\n",
       "    <tr>\n",
       "      <th>A</th>\n",
       "      <td>0.570668</td>\n",
       "      <td>0.028474</td>\n",
       "    </tr>\n",
       "    <tr>\n",
       "      <th>D</th>\n",
       "      <td>0.785602</td>\n",
       "      <td>0.965483</td>\n",
       "    </tr>\n",
       "  </tbody>\n",
       "</table>\n",
       "</div>"
      ],
      "text/plain": [
       "          X         Y\n",
       "A  0.570668  0.028474\n",
       "D  0.785602  0.965483"
      ]
     },
     "execution_count": 53,
     "metadata": {},
     "output_type": "execute_result"
    }
   ],
   "source": [
    "df.iloc[[0,3],[1,2]]"
   ]
  },
  {
   "cell_type": "code",
   "execution_count": 54,
   "metadata": {},
   "outputs": [
    {
     "data": {
      "text/html": [
       "<div>\n",
       "<style scoped>\n",
       "    .dataframe tbody tr th:only-of-type {\n",
       "        vertical-align: middle;\n",
       "    }\n",
       "\n",
       "    .dataframe tbody tr th {\n",
       "        vertical-align: top;\n",
       "    }\n",
       "\n",
       "    .dataframe thead th {\n",
       "        text-align: right;\n",
       "    }\n",
       "</style>\n",
       "<table border=\"1\" class=\"dataframe\">\n",
       "  <thead>\n",
       "    <tr style=\"text-align: right;\">\n",
       "      <th></th>\n",
       "      <th>W</th>\n",
       "      <th>X</th>\n",
       "      <th>Y</th>\n",
       "      <th>Z</th>\n",
       "    </tr>\n",
       "  </thead>\n",
       "  <tbody>\n",
       "    <tr>\n",
       "      <th>A</th>\n",
       "      <td>0.516399</td>\n",
       "      <td>0.570668</td>\n",
       "      <td>0.028474</td>\n",
       "      <td>0.171522</td>\n",
       "    </tr>\n",
       "    <tr>\n",
       "      <th>B</th>\n",
       "      <td>0.685277</td>\n",
       "      <td>0.833897</td>\n",
       "      <td>0.306966</td>\n",
       "      <td>0.893613</td>\n",
       "    </tr>\n",
       "    <tr>\n",
       "      <th>c</th>\n",
       "      <td>0.721544</td>\n",
       "      <td>0.189939</td>\n",
       "      <td>0.554228</td>\n",
       "      <td>0.352132</td>\n",
       "    </tr>\n",
       "    <tr>\n",
       "      <th>D</th>\n",
       "      <td>0.181892</td>\n",
       "      <td>0.785602</td>\n",
       "      <td>0.965483</td>\n",
       "      <td>0.232354</td>\n",
       "    </tr>\n",
       "    <tr>\n",
       "      <th>E</th>\n",
       "      <td>0.083561</td>\n",
       "      <td>0.603548</td>\n",
       "      <td>0.728993</td>\n",
       "      <td>0.276239</td>\n",
       "    </tr>\n",
       "  </tbody>\n",
       "</table>\n",
       "</div>"
      ],
      "text/plain": [
       "          W         X         Y         Z\n",
       "A  0.516399  0.570668  0.028474  0.171522\n",
       "B  0.685277  0.833897  0.306966  0.893613\n",
       "c  0.721544  0.189939  0.554228  0.352132\n",
       "D  0.181892  0.785602  0.965483  0.232354\n",
       "E  0.083561  0.603548  0.728993  0.276239"
      ]
     },
     "execution_count": 54,
     "metadata": {},
     "output_type": "execute_result"
    }
   ],
   "source": [
    "df"
   ]
  },
  {
   "cell_type": "code",
   "execution_count": 56,
   "metadata": {},
   "outputs": [
    {
     "data": {
      "text/html": [
       "<div>\n",
       "<style scoped>\n",
       "    .dataframe tbody tr th:only-of-type {\n",
       "        vertical-align: middle;\n",
       "    }\n",
       "\n",
       "    .dataframe tbody tr th {\n",
       "        vertical-align: top;\n",
       "    }\n",
       "\n",
       "    .dataframe thead th {\n",
       "        text-align: right;\n",
       "    }\n",
       "</style>\n",
       "<table border=\"1\" class=\"dataframe\">\n",
       "  <thead>\n",
       "    <tr style=\"text-align: right;\">\n",
       "      <th></th>\n",
       "      <th>W</th>\n",
       "      <th>X</th>\n",
       "      <th>Y</th>\n",
       "      <th>Z</th>\n",
       "    </tr>\n",
       "  </thead>\n",
       "  <tbody>\n",
       "    <tr>\n",
       "      <th>A</th>\n",
       "      <td>True</td>\n",
       "      <td>True</td>\n",
       "      <td>False</td>\n",
       "      <td>False</td>\n",
       "    </tr>\n",
       "    <tr>\n",
       "      <th>B</th>\n",
       "      <td>True</td>\n",
       "      <td>True</td>\n",
       "      <td>False</td>\n",
       "      <td>True</td>\n",
       "    </tr>\n",
       "    <tr>\n",
       "      <th>c</th>\n",
       "      <td>True</td>\n",
       "      <td>False</td>\n",
       "      <td>True</td>\n",
       "      <td>False</td>\n",
       "    </tr>\n",
       "    <tr>\n",
       "      <th>D</th>\n",
       "      <td>False</td>\n",
       "      <td>True</td>\n",
       "      <td>True</td>\n",
       "      <td>False</td>\n",
       "    </tr>\n",
       "    <tr>\n",
       "      <th>E</th>\n",
       "      <td>False</td>\n",
       "      <td>True</td>\n",
       "      <td>True</td>\n",
       "      <td>False</td>\n",
       "    </tr>\n",
       "  </tbody>\n",
       "</table>\n",
       "</div>"
      ],
      "text/plain": [
       "       W      X      Y      Z\n",
       "A   True   True  False  False\n",
       "B   True   True  False   True\n",
       "c   True  False   True  False\n",
       "D  False   True   True  False\n",
       "E  False   True   True  False"
      ]
     },
     "execution_count": 56,
     "metadata": {},
     "output_type": "execute_result"
    }
   ],
   "source": [
    "df>0.5"
   ]
  },
  {
   "cell_type": "code",
   "execution_count": 58,
   "metadata": {},
   "outputs": [
    {
     "data": {
      "text/html": [
       "<div>\n",
       "<style scoped>\n",
       "    .dataframe tbody tr th:only-of-type {\n",
       "        vertical-align: middle;\n",
       "    }\n",
       "\n",
       "    .dataframe tbody tr th {\n",
       "        vertical-align: top;\n",
       "    }\n",
       "\n",
       "    .dataframe thead th {\n",
       "        text-align: right;\n",
       "    }\n",
       "</style>\n",
       "<table border=\"1\" class=\"dataframe\">\n",
       "  <thead>\n",
       "    <tr style=\"text-align: right;\">\n",
       "      <th></th>\n",
       "      <th>W</th>\n",
       "      <th>X</th>\n",
       "      <th>Y</th>\n",
       "      <th>Z</th>\n",
       "    </tr>\n",
       "  </thead>\n",
       "  <tbody>\n",
       "    <tr>\n",
       "      <th>A</th>\n",
       "      <td>0.516399</td>\n",
       "      <td>0.570668</td>\n",
       "      <td>NaN</td>\n",
       "      <td>NaN</td>\n",
       "    </tr>\n",
       "    <tr>\n",
       "      <th>B</th>\n",
       "      <td>0.685277</td>\n",
       "      <td>0.833897</td>\n",
       "      <td>NaN</td>\n",
       "      <td>0.893613</td>\n",
       "    </tr>\n",
       "    <tr>\n",
       "      <th>c</th>\n",
       "      <td>0.721544</td>\n",
       "      <td>NaN</td>\n",
       "      <td>0.554228</td>\n",
       "      <td>NaN</td>\n",
       "    </tr>\n",
       "    <tr>\n",
       "      <th>D</th>\n",
       "      <td>NaN</td>\n",
       "      <td>0.785602</td>\n",
       "      <td>0.965483</td>\n",
       "      <td>NaN</td>\n",
       "    </tr>\n",
       "    <tr>\n",
       "      <th>E</th>\n",
       "      <td>NaN</td>\n",
       "      <td>0.603548</td>\n",
       "      <td>0.728993</td>\n",
       "      <td>NaN</td>\n",
       "    </tr>\n",
       "  </tbody>\n",
       "</table>\n",
       "</div>"
      ],
      "text/plain": [
       "          W         X         Y         Z\n",
       "A  0.516399  0.570668       NaN       NaN\n",
       "B  0.685277  0.833897       NaN  0.893613\n",
       "c  0.721544       NaN  0.554228       NaN\n",
       "D       NaN  0.785602  0.965483       NaN\n",
       "E       NaN  0.603548  0.728993       NaN"
      ]
     },
     "execution_count": 58,
     "metadata": {},
     "output_type": "execute_result"
    }
   ],
   "source": [
    "df[df>0.5]"
   ]
  },
  {
   "cell_type": "code",
   "execution_count": 60,
   "metadata": {},
   "outputs": [
    {
     "data": {
      "text/plain": [
       "A     True\n",
       "B     True\n",
       "c     True\n",
       "D    False\n",
       "E    False\n",
       "Name: W, dtype: bool"
      ]
     },
     "execution_count": 60,
     "metadata": {},
     "output_type": "execute_result"
    }
   ],
   "source": [
    "df['W']>0.5"
   ]
  },
  {
   "cell_type": "code",
   "execution_count": 62,
   "metadata": {},
   "outputs": [
    {
     "data": {
      "text/html": [
       "<div>\n",
       "<style scoped>\n",
       "    .dataframe tbody tr th:only-of-type {\n",
       "        vertical-align: middle;\n",
       "    }\n",
       "\n",
       "    .dataframe tbody tr th {\n",
       "        vertical-align: top;\n",
       "    }\n",
       "\n",
       "    .dataframe thead th {\n",
       "        text-align: right;\n",
       "    }\n",
       "</style>\n",
       "<table border=\"1\" class=\"dataframe\">\n",
       "  <thead>\n",
       "    <tr style=\"text-align: right;\">\n",
       "      <th></th>\n",
       "      <th>W</th>\n",
       "      <th>X</th>\n",
       "      <th>Y</th>\n",
       "      <th>Z</th>\n",
       "    </tr>\n",
       "  </thead>\n",
       "  <tbody>\n",
       "    <tr>\n",
       "      <th>A</th>\n",
       "      <td>0.516399</td>\n",
       "      <td>0.570668</td>\n",
       "      <td>0.028474</td>\n",
       "      <td>0.171522</td>\n",
       "    </tr>\n",
       "    <tr>\n",
       "      <th>B</th>\n",
       "      <td>0.685277</td>\n",
       "      <td>0.833897</td>\n",
       "      <td>0.306966</td>\n",
       "      <td>0.893613</td>\n",
       "    </tr>\n",
       "    <tr>\n",
       "      <th>c</th>\n",
       "      <td>0.721544</td>\n",
       "      <td>0.189939</td>\n",
       "      <td>0.554228</td>\n",
       "      <td>0.352132</td>\n",
       "    </tr>\n",
       "  </tbody>\n",
       "</table>\n",
       "</div>"
      ],
      "text/plain": [
       "          W         X         Y         Z\n",
       "A  0.516399  0.570668  0.028474  0.171522\n",
       "B  0.685277  0.833897  0.306966  0.893613\n",
       "c  0.721544  0.189939  0.554228  0.352132"
      ]
     },
     "execution_count": 62,
     "metadata": {},
     "output_type": "execute_result"
    }
   ],
   "source": [
    "df[df['W']>0.5]"
   ]
  },
  {
   "cell_type": "code",
   "execution_count": 63,
   "metadata": {},
   "outputs": [
    {
     "data": {
      "text/html": [
       "<div>\n",
       "<style scoped>\n",
       "    .dataframe tbody tr th:only-of-type {\n",
       "        vertical-align: middle;\n",
       "    }\n",
       "\n",
       "    .dataframe tbody tr th {\n",
       "        vertical-align: top;\n",
       "    }\n",
       "\n",
       "    .dataframe thead th {\n",
       "        text-align: right;\n",
       "    }\n",
       "</style>\n",
       "<table border=\"1\" class=\"dataframe\">\n",
       "  <thead>\n",
       "    <tr style=\"text-align: right;\">\n",
       "      <th></th>\n",
       "      <th>W</th>\n",
       "      <th>X</th>\n",
       "      <th>Y</th>\n",
       "      <th>Z</th>\n",
       "    </tr>\n",
       "  </thead>\n",
       "  <tbody>\n",
       "    <tr>\n",
       "      <th>A</th>\n",
       "      <td>0.516399</td>\n",
       "      <td>0.570668</td>\n",
       "      <td>0.028474</td>\n",
       "      <td>0.171522</td>\n",
       "    </tr>\n",
       "    <tr>\n",
       "      <th>B</th>\n",
       "      <td>0.685277</td>\n",
       "      <td>0.833897</td>\n",
       "      <td>0.306966</td>\n",
       "      <td>0.893613</td>\n",
       "    </tr>\n",
       "    <tr>\n",
       "      <th>c</th>\n",
       "      <td>0.721544</td>\n",
       "      <td>0.189939</td>\n",
       "      <td>0.554228</td>\n",
       "      <td>0.352132</td>\n",
       "    </tr>\n",
       "    <tr>\n",
       "      <th>D</th>\n",
       "      <td>0.181892</td>\n",
       "      <td>0.785602</td>\n",
       "      <td>0.965483</td>\n",
       "      <td>0.232354</td>\n",
       "    </tr>\n",
       "    <tr>\n",
       "      <th>E</th>\n",
       "      <td>0.083561</td>\n",
       "      <td>0.603548</td>\n",
       "      <td>0.728993</td>\n",
       "      <td>0.276239</td>\n",
       "    </tr>\n",
       "  </tbody>\n",
       "</table>\n",
       "</div>"
      ],
      "text/plain": [
       "          W         X         Y         Z\n",
       "A  0.516399  0.570668  0.028474  0.171522\n",
       "B  0.685277  0.833897  0.306966  0.893613\n",
       "c  0.721544  0.189939  0.554228  0.352132\n",
       "D  0.181892  0.785602  0.965483  0.232354\n",
       "E  0.083561  0.603548  0.728993  0.276239"
      ]
     },
     "execution_count": 63,
     "metadata": {},
     "output_type": "execute_result"
    }
   ],
   "source": [
    "df"
   ]
  },
  {
   "cell_type": "code",
   "execution_count": 65,
   "metadata": {},
   "outputs": [
    {
     "data": {
      "text/html": [
       "<div>\n",
       "<style scoped>\n",
       "    .dataframe tbody tr th:only-of-type {\n",
       "        vertical-align: middle;\n",
       "    }\n",
       "\n",
       "    .dataframe tbody tr th {\n",
       "        vertical-align: top;\n",
       "    }\n",
       "\n",
       "    .dataframe thead th {\n",
       "        text-align: right;\n",
       "    }\n",
       "</style>\n",
       "<table border=\"1\" class=\"dataframe\">\n",
       "  <thead>\n",
       "    <tr style=\"text-align: right;\">\n",
       "      <th></th>\n",
       "      <th>W</th>\n",
       "      <th>X</th>\n",
       "      <th>Y</th>\n",
       "      <th>Z</th>\n",
       "    </tr>\n",
       "  </thead>\n",
       "  <tbody>\n",
       "    <tr>\n",
       "      <th>A</th>\n",
       "      <td>0.516399</td>\n",
       "      <td>0.570668</td>\n",
       "      <td>NaN</td>\n",
       "      <td>NaN</td>\n",
       "    </tr>\n",
       "    <tr>\n",
       "      <th>B</th>\n",
       "      <td>0.685277</td>\n",
       "      <td>0.833897</td>\n",
       "      <td>NaN</td>\n",
       "      <td>0.893613</td>\n",
       "    </tr>\n",
       "    <tr>\n",
       "      <th>c</th>\n",
       "      <td>0.721544</td>\n",
       "      <td>NaN</td>\n",
       "      <td>0.554228</td>\n",
       "      <td>NaN</td>\n",
       "    </tr>\n",
       "    <tr>\n",
       "      <th>D</th>\n",
       "      <td>NaN</td>\n",
       "      <td>0.785602</td>\n",
       "      <td>0.965483</td>\n",
       "      <td>NaN</td>\n",
       "    </tr>\n",
       "    <tr>\n",
       "      <th>E</th>\n",
       "      <td>NaN</td>\n",
       "      <td>0.603548</td>\n",
       "      <td>0.728993</td>\n",
       "      <td>NaN</td>\n",
       "    </tr>\n",
       "  </tbody>\n",
       "</table>\n",
       "</div>"
      ],
      "text/plain": [
       "          W         X         Y         Z\n",
       "A  0.516399  0.570668       NaN       NaN\n",
       "B  0.685277  0.833897       NaN  0.893613\n",
       "c  0.721544       NaN  0.554228       NaN\n",
       "D       NaN  0.785602  0.965483       NaN\n",
       "E       NaN  0.603548  0.728993       NaN"
      ]
     },
     "execution_count": 65,
     "metadata": {},
     "output_type": "execute_result"
    }
   ],
   "source": [
    "df[df>0.5]"
   ]
  },
  {
   "cell_type": "code",
   "execution_count": 66,
   "metadata": {},
   "outputs": [
    {
     "data": {
      "text/html": [
       "<div>\n",
       "<style scoped>\n",
       "    .dataframe tbody tr th:only-of-type {\n",
       "        vertical-align: middle;\n",
       "    }\n",
       "\n",
       "    .dataframe tbody tr th {\n",
       "        vertical-align: top;\n",
       "    }\n",
       "\n",
       "    .dataframe thead th {\n",
       "        text-align: right;\n",
       "    }\n",
       "</style>\n",
       "<table border=\"1\" class=\"dataframe\">\n",
       "  <thead>\n",
       "    <tr style=\"text-align: right;\">\n",
       "      <th></th>\n",
       "      <th>W</th>\n",
       "      <th>X</th>\n",
       "      <th>Y</th>\n",
       "      <th>Z</th>\n",
       "    </tr>\n",
       "  </thead>\n",
       "  <tbody>\n",
       "    <tr>\n",
       "      <th>A</th>\n",
       "      <td>0.516399</td>\n",
       "      <td>0.570668</td>\n",
       "      <td>0.028474</td>\n",
       "      <td>0.171522</td>\n",
       "    </tr>\n",
       "    <tr>\n",
       "      <th>B</th>\n",
       "      <td>0.685277</td>\n",
       "      <td>0.833897</td>\n",
       "      <td>0.306966</td>\n",
       "      <td>0.893613</td>\n",
       "    </tr>\n",
       "    <tr>\n",
       "      <th>c</th>\n",
       "      <td>0.721544</td>\n",
       "      <td>0.189939</td>\n",
       "      <td>0.554228</td>\n",
       "      <td>0.352132</td>\n",
       "    </tr>\n",
       "    <tr>\n",
       "      <th>D</th>\n",
       "      <td>0.181892</td>\n",
       "      <td>0.785602</td>\n",
       "      <td>0.965483</td>\n",
       "      <td>0.232354</td>\n",
       "    </tr>\n",
       "    <tr>\n",
       "      <th>E</th>\n",
       "      <td>0.083561</td>\n",
       "      <td>0.603548</td>\n",
       "      <td>0.728993</td>\n",
       "      <td>0.276239</td>\n",
       "    </tr>\n",
       "  </tbody>\n",
       "</table>\n",
       "</div>"
      ],
      "text/plain": [
       "          W         X         Y         Z\n",
       "A  0.516399  0.570668  0.028474  0.171522\n",
       "B  0.685277  0.833897  0.306966  0.893613\n",
       "c  0.721544  0.189939  0.554228  0.352132\n",
       "D  0.181892  0.785602  0.965483  0.232354\n",
       "E  0.083561  0.603548  0.728993  0.276239"
      ]
     },
     "execution_count": 66,
     "metadata": {},
     "output_type": "execute_result"
    }
   ],
   "source": [
    "df"
   ]
  },
  {
   "cell_type": "code",
   "execution_count": 69,
   "metadata": {},
   "outputs": [
    {
     "data": {
      "text/plain": [
       "c    0.189939\n",
       "D    0.785602\n",
       "E    0.603548\n",
       "Name: X, dtype: float64"
      ]
     },
     "execution_count": 69,
     "metadata": {},
     "output_type": "execute_result"
    }
   ],
   "source": [
    "df[df[\"Y\"]>0.5][\"X\"]"
   ]
  },
  {
   "cell_type": "code",
   "execution_count": 72,
   "metadata": {},
   "outputs": [
    {
     "data": {
      "text/html": [
       "<div>\n",
       "<style scoped>\n",
       "    .dataframe tbody tr th:only-of-type {\n",
       "        vertical-align: middle;\n",
       "    }\n",
       "\n",
       "    .dataframe tbody tr th {\n",
       "        vertical-align: top;\n",
       "    }\n",
       "\n",
       "    .dataframe thead th {\n",
       "        text-align: right;\n",
       "    }\n",
       "</style>\n",
       "<table border=\"1\" class=\"dataframe\">\n",
       "  <thead>\n",
       "    <tr style=\"text-align: right;\">\n",
       "      <th></th>\n",
       "      <th>W</th>\n",
       "      <th>X</th>\n",
       "      <th>Y</th>\n",
       "      <th>Z</th>\n",
       "    </tr>\n",
       "  </thead>\n",
       "  <tbody>\n",
       "    <tr>\n",
       "      <th>A</th>\n",
       "      <td>0.516399</td>\n",
       "      <td>0.570668</td>\n",
       "      <td>0.028474</td>\n",
       "      <td>0.171522</td>\n",
       "    </tr>\n",
       "    <tr>\n",
       "      <th>B</th>\n",
       "      <td>0.685277</td>\n",
       "      <td>0.833897</td>\n",
       "      <td>0.306966</td>\n",
       "      <td>0.893613</td>\n",
       "    </tr>\n",
       "    <tr>\n",
       "      <th>c</th>\n",
       "      <td>0.721544</td>\n",
       "      <td>0.189939</td>\n",
       "      <td>0.554228</td>\n",
       "      <td>0.352132</td>\n",
       "    </tr>\n",
       "    <tr>\n",
       "      <th>D</th>\n",
       "      <td>0.181892</td>\n",
       "      <td>0.785602</td>\n",
       "      <td>0.965483</td>\n",
       "      <td>0.232354</td>\n",
       "    </tr>\n",
       "    <tr>\n",
       "      <th>E</th>\n",
       "      <td>0.083561</td>\n",
       "      <td>0.603548</td>\n",
       "      <td>0.728993</td>\n",
       "      <td>0.276239</td>\n",
       "    </tr>\n",
       "  </tbody>\n",
       "</table>\n",
       "</div>"
      ],
      "text/plain": [
       "          W         X         Y         Z\n",
       "A  0.516399  0.570668  0.028474  0.171522\n",
       "B  0.685277  0.833897  0.306966  0.893613\n",
       "c  0.721544  0.189939  0.554228  0.352132\n",
       "D  0.181892  0.785602  0.965483  0.232354\n",
       "E  0.083561  0.603548  0.728993  0.276239"
      ]
     },
     "execution_count": 72,
     "metadata": {},
     "output_type": "execute_result"
    }
   ],
   "source": [
    "df"
   ]
  },
  {
   "cell_type": "code",
   "execution_count": 83,
   "metadata": {},
   "outputs": [
    {
     "data": {
      "text/html": [
       "<div>\n",
       "<style scoped>\n",
       "    .dataframe tbody tr th:only-of-type {\n",
       "        vertical-align: middle;\n",
       "    }\n",
       "\n",
       "    .dataframe tbody tr th {\n",
       "        vertical-align: top;\n",
       "    }\n",
       "\n",
       "    .dataframe thead th {\n",
       "        text-align: right;\n",
       "    }\n",
       "</style>\n",
       "<table border=\"1\" class=\"dataframe\">\n",
       "  <thead>\n",
       "    <tr style=\"text-align: right;\">\n",
       "      <th></th>\n",
       "      <th>W</th>\n",
       "      <th>X</th>\n",
       "      <th>Y</th>\n",
       "      <th>Z</th>\n",
       "    </tr>\n",
       "  </thead>\n",
       "  <tbody>\n",
       "    <tr>\n",
       "      <th>c</th>\n",
       "      <td>0.721544</td>\n",
       "      <td>0.189939</td>\n",
       "      <td>0.554228</td>\n",
       "      <td>0.352132</td>\n",
       "    </tr>\n",
       "    <tr>\n",
       "      <th>D</th>\n",
       "      <td>0.181892</td>\n",
       "      <td>0.785602</td>\n",
       "      <td>0.965483</td>\n",
       "      <td>0.232354</td>\n",
       "    </tr>\n",
       "    <tr>\n",
       "      <th>E</th>\n",
       "      <td>0.083561</td>\n",
       "      <td>0.603548</td>\n",
       "      <td>0.728993</td>\n",
       "      <td>0.276239</td>\n",
       "    </tr>\n",
       "  </tbody>\n",
       "</table>\n",
       "</div>"
      ],
      "text/plain": [
       "          W         X         Y         Z\n",
       "c  0.721544  0.189939  0.554228  0.352132\n",
       "D  0.181892  0.785602  0.965483  0.232354\n",
       "E  0.083561  0.603548  0.728993  0.276239"
      ]
     },
     "execution_count": 83,
     "metadata": {},
     "output_type": "execute_result"
    }
   ],
   "source": [
    "booldf=df[\"Y\"]>0.4\n",
    "result=df[booldf]\n",
    "result[\"X\"]\n"
   ]
  },
  {
   "cell_type": "code",
   "execution_count": 92,
   "metadata": {},
   "outputs": [
    {
     "data": {
      "text/html": [
       "<div>\n",
       "<style scoped>\n",
       "    .dataframe tbody tr th:only-of-type {\n",
       "        vertical-align: middle;\n",
       "    }\n",
       "\n",
       "    .dataframe tbody tr th {\n",
       "        vertical-align: top;\n",
       "    }\n",
       "\n",
       "    .dataframe thead th {\n",
       "        text-align: right;\n",
       "    }\n",
       "</style>\n",
       "<table border=\"1\" class=\"dataframe\">\n",
       "  <thead>\n",
       "    <tr style=\"text-align: right;\">\n",
       "      <th></th>\n",
       "      <th>W</th>\n",
       "      <th>X</th>\n",
       "      <th>Y</th>\n",
       "      <th>Z</th>\n",
       "    </tr>\n",
       "  </thead>\n",
       "  <tbody>\n",
       "    <tr>\n",
       "      <th>A</th>\n",
       "      <td>0.516399</td>\n",
       "      <td>0.570668</td>\n",
       "      <td>0.028474</td>\n",
       "      <td>0.171522</td>\n",
       "    </tr>\n",
       "    <tr>\n",
       "      <th>B</th>\n",
       "      <td>0.685277</td>\n",
       "      <td>0.833897</td>\n",
       "      <td>0.306966</td>\n",
       "      <td>0.893613</td>\n",
       "    </tr>\n",
       "    <tr>\n",
       "      <th>c</th>\n",
       "      <td>0.721544</td>\n",
       "      <td>0.189939</td>\n",
       "      <td>0.554228</td>\n",
       "      <td>0.352132</td>\n",
       "    </tr>\n",
       "    <tr>\n",
       "      <th>D</th>\n",
       "      <td>0.181892</td>\n",
       "      <td>0.785602</td>\n",
       "      <td>0.965483</td>\n",
       "      <td>0.232354</td>\n",
       "    </tr>\n",
       "    <tr>\n",
       "      <th>E</th>\n",
       "      <td>0.083561</td>\n",
       "      <td>0.603548</td>\n",
       "      <td>0.728993</td>\n",
       "      <td>0.276239</td>\n",
       "    </tr>\n",
       "  </tbody>\n",
       "</table>\n",
       "</div>"
      ],
      "text/plain": [
       "          W         X         Y         Z\n",
       "A  0.516399  0.570668  0.028474  0.171522\n",
       "B  0.685277  0.833897  0.306966  0.893613\n",
       "c  0.721544  0.189939  0.554228  0.352132\n",
       "D  0.181892  0.785602  0.965483  0.232354\n",
       "E  0.083561  0.603548  0.728993  0.276239"
      ]
     },
     "execution_count": 92,
     "metadata": {},
     "output_type": "execute_result"
    }
   ],
   "source": [
    "df[(df[\"W\"]>0.5) | (df[\"Z\"]>0.2)]"
   ]
  },
  {
   "cell_type": "code",
   "execution_count": 89,
   "metadata": {},
   "outputs": [
    {
     "data": {
      "text/plain": [
       "A     True\n",
       "B     True\n",
       "c     True\n",
       "D    False\n",
       "E    False\n",
       "Name: W, dtype: bool"
      ]
     },
     "execution_count": 89,
     "metadata": {},
     "output_type": "execute_result"
    }
   ],
   "source": [
    "df[\"W\"]>0.5"
   ]
  },
  {
   "cell_type": "code",
   "execution_count": 1,
   "metadata": {},
   "outputs": [
    {
     "ename": "MatchError",
     "evalue": "Could not find 'Printer' in 'dict_keys(['PaperGroupBox', 'Paper', 'GroupBox', 'Static', 'Si&ze:Static', 'Si&ze:', 'ComboBox', 'Si&ze:ComboBox', 'Static0', 'Static1', 'Static2', '&Source:', '&Source:Static', 'ComboBox0', 'ComboBox1', 'ComboBox2', '&Source:ComboBox', 'Orientation', 'GroupBox0', 'GroupBox1', 'GroupBox2', 'OrientationGroupBox', 'P&ortrait', 'P&ortraitRadioButton', 'RadioButton', 'L&andscape', 'L&andscapeRadioButton', 'RadioButton0', 'RadioButton1', 'RadioButton2', 'Margins (inches)', 'Margins (inches)GroupBox', 'GroupBox3', 'Static3', '&Left:Static', '&Left:', '&Left:Edit', 'Edit', 'Static4', '&Right:', '&Right:Static', '&Right:Edit', 'Edit0', 'Edit1', 'Edit2', 'Static5', '&Top:', '&Top:Static', '&Top:Edit', 'Edit3', 'Static6', '&Bottom:Static', '&Bottom:', '&Bottom:Edit', 'Edit4', 'Static7', '&Header:', '&Header:Static', '&Header:Edit', 'Edit5', 'Static8', '&Footer:', '&Footer:Static', '&Footer:Edit', 'Edit6', 'OK', 'OKButton', 'Button', 'Cancel', 'CancelButton', 'Button0', 'Button1', 'Button2', 'Preview', 'PreviewGroupBox', 'GroupBox4', 'Static9', 'Margins (inches)Static', 'Static10', 'PreviewStatic', 'Static11', 'PreviewStatic0', 'PreviewStatic1', 'PreviewStatic2'])'",
     "output_type": "error",
     "traceback": [
      "\u001b[1;31m---------------------------------------------------------------------------\u001b[0m",
      "\u001b[1;31mTimeoutError\u001b[0m                              Traceback (most recent call last)",
      "\u001b[1;32mC:\\ProgramData\\Anaconda3\\lib\\site-packages\\pywinauto-0.6.7-py3.7.egg\\pywinauto\\application.py\u001b[0m in \u001b[0;36m__resolve_control\u001b[1;34m(self, criteria, timeout, retry_interval)\u001b[0m\n\u001b[0;32m    255\u001b[0m                  controls.InvalidElement),\n\u001b[1;32m--> 256\u001b[1;33m                 criteria)\n\u001b[0m\u001b[0;32m    257\u001b[0m \u001b[1;33m\u001b[0m\u001b[0m\n",
      "\u001b[1;32mC:\\ProgramData\\Anaconda3\\lib\\site-packages\\pywinauto-0.6.7-py3.7.egg\\pywinauto\\timings.py\u001b[0m in \u001b[0;36mwait_until_passes\u001b[1;34m(timeout, retry_interval, func, exceptions, *args, **kwargs)\u001b[0m\n\u001b[0;32m    457\u001b[0m                 \u001b[0merr\u001b[0m\u001b[1;33m.\u001b[0m\u001b[0moriginal_exception\u001b[0m \u001b[1;33m=\u001b[0m \u001b[0me\u001b[0m\u001b[1;33m\u001b[0m\u001b[1;33m\u001b[0m\u001b[0m\n\u001b[1;32m--> 458\u001b[1;33m                 \u001b[1;32mraise\u001b[0m \u001b[0merr\u001b[0m\u001b[1;33m\u001b[0m\u001b[1;33m\u001b[0m\u001b[0m\n\u001b[0m\u001b[0;32m    459\u001b[0m \u001b[1;33m\u001b[0m\u001b[0m\n",
      "\u001b[1;31mTimeoutError\u001b[0m: ",
      "\nDuring handling of the above exception, another exception occurred:\n",
      "\u001b[1;31mMatchError\u001b[0m                                Traceback (most recent call last)",
      "\u001b[1;32m<ipython-input-1-c71b172c1836>\u001b[0m in \u001b[0;36m<module>\u001b[1;34m\u001b[0m\n\u001b[0;32m     56\u001b[0m \u001b[1;33m\u001b[0m\u001b[0m\n\u001b[0;32m     57\u001b[0m \u001b[1;31m# ----- Next Page Setup Dialog ----\u001b[0m\u001b[1;33m\u001b[0m\u001b[1;33m\u001b[0m\u001b[1;33m\u001b[0m\u001b[0m\n\u001b[1;32m---> 58\u001b[1;33m \u001b[0mapp\u001b[0m\u001b[1;33m[\u001b[0m\u001b[1;34m'PageSetupDlg'\u001b[0m\u001b[1;33m]\u001b[0m\u001b[1;33m[\u001b[0m\u001b[1;34m'Printer'\u001b[0m\u001b[1;33m]\u001b[0m\u001b[1;33m.\u001b[0m\u001b[0mclick\u001b[0m\u001b[1;33m(\u001b[0m\u001b[1;33m)\u001b[0m\u001b[1;33m\u001b[0m\u001b[1;33m\u001b[0m\u001b[0m\n\u001b[0m\u001b[0;32m     59\u001b[0m \u001b[1;33m\u001b[0m\u001b[0m\n\u001b[0;32m     60\u001b[0m \u001b[0mapp\u001b[0m\u001b[1;33m[\u001b[0m\u001b[1;34m'PageSetupDlg'\u001b[0m\u001b[1;33m]\u001b[0m\u001b[1;33m[\u001b[0m\u001b[1;34m'Network'\u001b[0m\u001b[1;33m]\u001b[0m\u001b[1;33m.\u001b[0m\u001b[0mclick\u001b[0m\u001b[1;33m(\u001b[0m\u001b[1;33m)\u001b[0m\u001b[1;33m\u001b[0m\u001b[1;33m\u001b[0m\u001b[0m\n",
      "\u001b[1;32mC:\\ProgramData\\Anaconda3\\lib\\site-packages\\pywinauto-0.6.7-py3.7.egg\\pywinauto\\application.py\u001b[0m in \u001b[0;36m__getattribute__\u001b[1;34m(self, attr_name)\u001b[0m\n\u001b[0;32m    360\u001b[0m         \u001b[1;32mif\u001b[0m \u001b[0mlen\u001b[0m\u001b[1;33m(\u001b[0m\u001b[0mself\u001b[0m\u001b[1;33m.\u001b[0m\u001b[0mcriteria\u001b[0m\u001b[1;33m)\u001b[0m \u001b[1;33m>=\u001b[0m \u001b[1;36m2\u001b[0m\u001b[1;33m:\u001b[0m\u001b[1;33m\u001b[0m\u001b[1;33m\u001b[0m\u001b[0m\n\u001b[0;32m    361\u001b[0m \u001b[1;33m\u001b[0m\u001b[0m\n\u001b[1;32m--> 362\u001b[1;33m             \u001b[0mctrls\u001b[0m \u001b[1;33m=\u001b[0m \u001b[0mself\u001b[0m\u001b[1;33m.\u001b[0m\u001b[0m__resolve_control\u001b[0m\u001b[1;33m(\u001b[0m\u001b[0mself\u001b[0m\u001b[1;33m.\u001b[0m\u001b[0mcriteria\u001b[0m\u001b[1;33m)\u001b[0m\u001b[1;33m\u001b[0m\u001b[1;33m\u001b[0m\u001b[0m\n\u001b[0m\u001b[0;32m    363\u001b[0m \u001b[1;33m\u001b[0m\u001b[0m\n\u001b[0;32m    364\u001b[0m             \u001b[1;32mtry\u001b[0m\u001b[1;33m:\u001b[0m\u001b[1;33m\u001b[0m\u001b[1;33m\u001b[0m\u001b[0m\n",
      "\u001b[1;32mC:\\ProgramData\\Anaconda3\\lib\\site-packages\\pywinauto-0.6.7-py3.7.egg\\pywinauto\\application.py\u001b[0m in \u001b[0;36m__resolve_control\u001b[1;34m(self, criteria, timeout, retry_interval)\u001b[0m\n\u001b[0;32m    257\u001b[0m \u001b[1;33m\u001b[0m\u001b[0m\n\u001b[0;32m    258\u001b[0m         \u001b[1;32mexcept\u001b[0m \u001b[0mTimeoutError\u001b[0m \u001b[1;32mas\u001b[0m \u001b[0me\u001b[0m\u001b[1;33m:\u001b[0m\u001b[1;33m\u001b[0m\u001b[1;33m\u001b[0m\u001b[0m\n\u001b[1;32m--> 259\u001b[1;33m             \u001b[1;32mraise\u001b[0m \u001b[0me\u001b[0m\u001b[1;33m.\u001b[0m\u001b[0moriginal_exception\u001b[0m\u001b[1;33m\u001b[0m\u001b[1;33m\u001b[0m\u001b[0m\n\u001b[0m\u001b[0;32m    260\u001b[0m \u001b[1;33m\u001b[0m\u001b[0m\n\u001b[0;32m    261\u001b[0m         \u001b[1;32mreturn\u001b[0m \u001b[0mctrl\u001b[0m\u001b[1;33m\u001b[0m\u001b[1;33m\u001b[0m\u001b[0m\n",
      "\u001b[1;32mC:\\ProgramData\\Anaconda3\\lib\\site-packages\\pywinauto-0.6.7-py3.7.egg\\pywinauto\\timings.py\u001b[0m in \u001b[0;36mwait_until_passes\u001b[1;34m(timeout, retry_interval, func, exceptions, *args, **kwargs)\u001b[0m\n\u001b[0;32m    434\u001b[0m         \u001b[1;32mtry\u001b[0m\u001b[1;33m:\u001b[0m\u001b[1;33m\u001b[0m\u001b[1;33m\u001b[0m\u001b[0m\n\u001b[0;32m    435\u001b[0m             \u001b[1;31m# Call the function with any arguments\u001b[0m\u001b[1;33m\u001b[0m\u001b[1;33m\u001b[0m\u001b[1;33m\u001b[0m\u001b[0m\n\u001b[1;32m--> 436\u001b[1;33m             \u001b[0mfunc_val\u001b[0m \u001b[1;33m=\u001b[0m \u001b[0mfunc\u001b[0m\u001b[1;33m(\u001b[0m\u001b[1;33m*\u001b[0m\u001b[0margs\u001b[0m\u001b[1;33m,\u001b[0m \u001b[1;33m**\u001b[0m\u001b[0mkwargs\u001b[0m\u001b[1;33m)\u001b[0m\u001b[1;33m\u001b[0m\u001b[1;33m\u001b[0m\u001b[0m\n\u001b[0m\u001b[0;32m    437\u001b[0m \u001b[1;33m\u001b[0m\u001b[0m\n\u001b[0;32m    438\u001b[0m             \u001b[1;31m# if no exception is raised then we are finished\u001b[0m\u001b[1;33m\u001b[0m\u001b[1;33m\u001b[0m\u001b[1;33m\u001b[0m\u001b[0m\n",
      "\u001b[1;32mC:\\ProgramData\\Anaconda3\\lib\\site-packages\\pywinauto-0.6.7-py3.7.egg\\pywinauto\\application.py\u001b[0m in \u001b[0;36m__get_ctrl\u001b[1;34m(self, criteria_)\u001b[0m\n\u001b[0;32m    218\u001b[0m                 \u001b[1;32mif\u001b[0m \u001b[1;34m'backend'\u001b[0m \u001b[1;32mnot\u001b[0m \u001b[1;32min\u001b[0m \u001b[0mctrl_criteria\u001b[0m\u001b[1;33m:\u001b[0m\u001b[1;33m\u001b[0m\u001b[1;33m\u001b[0m\u001b[0m\n\u001b[0;32m    219\u001b[0m                     \u001b[0mctrl_criteria\u001b[0m\u001b[1;33m[\u001b[0m\u001b[1;34m'backend'\u001b[0m\u001b[1;33m]\u001b[0m \u001b[1;33m=\u001b[0m \u001b[0mself\u001b[0m\u001b[1;33m.\u001b[0m\u001b[0mbackend\u001b[0m\u001b[1;33m.\u001b[0m\u001b[0mname\u001b[0m\u001b[1;33m\u001b[0m\u001b[1;33m\u001b[0m\u001b[0m\n\u001b[1;32m--> 220\u001b[1;33m                 \u001b[0mctrl\u001b[0m \u001b[1;33m=\u001b[0m \u001b[0mself\u001b[0m\u001b[1;33m.\u001b[0m\u001b[0mbackend\u001b[0m\u001b[1;33m.\u001b[0m\u001b[0mgeneric_wrapper_class\u001b[0m\u001b[1;33m(\u001b[0m\u001b[0mfindwindows\u001b[0m\u001b[1;33m.\u001b[0m\u001b[0mfind_element\u001b[0m\u001b[1;33m(\u001b[0m\u001b[1;33m**\u001b[0m\u001b[0mctrl_criteria\u001b[0m\u001b[1;33m)\u001b[0m\u001b[1;33m)\u001b[0m\u001b[1;33m\u001b[0m\u001b[1;33m\u001b[0m\u001b[0m\n\u001b[0m\u001b[0;32m    221\u001b[0m                 \u001b[0mprevious_parent\u001b[0m \u001b[1;33m=\u001b[0m \u001b[0mctrl\u001b[0m\u001b[1;33m.\u001b[0m\u001b[0melement_info\u001b[0m\u001b[1;33m\u001b[0m\u001b[1;33m\u001b[0m\u001b[0m\n\u001b[0;32m    222\u001b[0m                 \u001b[0mctrls\u001b[0m\u001b[1;33m.\u001b[0m\u001b[0mappend\u001b[0m\u001b[1;33m(\u001b[0m\u001b[0mctrl\u001b[0m\u001b[1;33m)\u001b[0m\u001b[1;33m\u001b[0m\u001b[1;33m\u001b[0m\u001b[0m\n",
      "\u001b[1;32mC:\\ProgramData\\Anaconda3\\lib\\site-packages\\pywinauto-0.6.7-py3.7.egg\\pywinauto\\findwindows.py\u001b[0m in \u001b[0;36mfind_element\u001b[1;34m(**kwargs)\u001b[0m\n\u001b[0;32m     82\u001b[0m     \u001b[0mso\u001b[0m \u001b[0mplease\u001b[0m \u001b[0msee\u001b[0m \u001b[1;33m:\u001b[0m\u001b[0mpy\u001b[0m\u001b[1;33m:\u001b[0m\u001b[0mfunc\u001b[0m\u001b[1;33m:\u001b[0m\u001b[0;31m`\u001b[0m\u001b[0mfind_elements\u001b[0m\u001b[0;31m`\u001b[0m \u001b[1;32mfor\u001b[0m \u001b[0mthe\u001b[0m \u001b[0mfull\u001b[0m \u001b[0mparameters\u001b[0m \u001b[0mdescription\u001b[0m\u001b[1;33m.\u001b[0m\u001b[1;33m\u001b[0m\u001b[1;33m\u001b[0m\u001b[0m\n\u001b[0;32m     83\u001b[0m     \"\"\"\n\u001b[1;32m---> 84\u001b[1;33m     \u001b[0melements\u001b[0m \u001b[1;33m=\u001b[0m \u001b[0mfind_elements\u001b[0m\u001b[1;33m(\u001b[0m\u001b[1;33m**\u001b[0m\u001b[0mkwargs\u001b[0m\u001b[1;33m)\u001b[0m\u001b[1;33m\u001b[0m\u001b[1;33m\u001b[0m\u001b[0m\n\u001b[0m\u001b[0;32m     85\u001b[0m \u001b[1;33m\u001b[0m\u001b[0m\n\u001b[0;32m     86\u001b[0m     \u001b[1;32mif\u001b[0m \u001b[1;32mnot\u001b[0m \u001b[0melements\u001b[0m\u001b[1;33m:\u001b[0m\u001b[1;33m\u001b[0m\u001b[1;33m\u001b[0m\u001b[0m\n",
      "\u001b[1;32mC:\\ProgramData\\Anaconda3\\lib\\site-packages\\pywinauto-0.6.7-py3.7.egg\\pywinauto\\findwindows.py\u001b[0m in \u001b[0;36mfind_elements\u001b[1;34m(class_name, class_name_re, parent, process, title, title_re, top_level_only, visible_only, enabled_only, best_match, handle, ctrl_index, found_index, predicate_func, active_only, control_id, control_type, auto_id, framework_id, backend, depth)\u001b[0m\n\u001b[0;32m    301\u001b[0m                 \u001b[1;31m# since the list of elements was retrieved\u001b[0m\u001b[1;33m\u001b[0m\u001b[1;33m\u001b[0m\u001b[1;33m\u001b[0m\u001b[0m\n\u001b[0;32m    302\u001b[0m                 \u001b[1;32mcontinue\u001b[0m\u001b[1;33m\u001b[0m\u001b[1;33m\u001b[0m\u001b[0m\n\u001b[1;32m--> 303\u001b[1;33m         \u001b[0melements\u001b[0m \u001b[1;33m=\u001b[0m \u001b[0mfindbestmatch\u001b[0m\u001b[1;33m.\u001b[0m\u001b[0mfind_best_control_matches\u001b[0m\u001b[1;33m(\u001b[0m\u001b[0mbest_match\u001b[0m\u001b[1;33m,\u001b[0m \u001b[0mwrapped_elems\u001b[0m\u001b[1;33m)\u001b[0m\u001b[1;33m\u001b[0m\u001b[1;33m\u001b[0m\u001b[0m\n\u001b[0m\u001b[0;32m    304\u001b[0m \u001b[1;33m\u001b[0m\u001b[0m\n\u001b[0;32m    305\u001b[0m         \u001b[1;31m# convert found elements back to ElementInfo\u001b[0m\u001b[1;33m\u001b[0m\u001b[1;33m\u001b[0m\u001b[1;33m\u001b[0m\u001b[0m\n",
      "\u001b[1;32mC:\\ProgramData\\Anaconda3\\lib\\site-packages\\pywinauto-0.6.7-py3.7.egg\\pywinauto\\findbestmatch.py\u001b[0m in \u001b[0;36mfind_best_control_matches\u001b[1;34m(search_text, controls)\u001b[0m\n\u001b[0;32m    531\u001b[0m \u001b[1;33m\u001b[0m\u001b[0m\n\u001b[0;32m    532\u001b[0m     \u001b[1;32mif\u001b[0m \u001b[0mbest_ratio\u001b[0m \u001b[1;33m<\u001b[0m \u001b[0mfind_best_control_match_cutoff\u001b[0m\u001b[1;33m:\u001b[0m\u001b[1;33m\u001b[0m\u001b[1;33m\u001b[0m\u001b[0m\n\u001b[1;32m--> 533\u001b[1;33m         \u001b[1;32mraise\u001b[0m \u001b[0mMatchError\u001b[0m\u001b[1;33m(\u001b[0m\u001b[0mitems\u001b[0m \u001b[1;33m=\u001b[0m \u001b[0mname_control_map\u001b[0m\u001b[1;33m.\u001b[0m\u001b[0mkeys\u001b[0m\u001b[1;33m(\u001b[0m\u001b[1;33m)\u001b[0m\u001b[1;33m,\u001b[0m \u001b[0mtofind\u001b[0m \u001b[1;33m=\u001b[0m \u001b[0msearch_text\u001b[0m\u001b[1;33m)\u001b[0m\u001b[1;33m\u001b[0m\u001b[1;33m\u001b[0m\u001b[0m\n\u001b[0m\u001b[0;32m    534\u001b[0m \u001b[1;33m\u001b[0m\u001b[0m\n\u001b[0;32m    535\u001b[0m     \u001b[1;32mreturn\u001b[0m \u001b[1;33m[\u001b[0m\u001b[0mname_control_map\u001b[0m\u001b[1;33m[\u001b[0m\u001b[0mbest_text\u001b[0m\u001b[1;33m]\u001b[0m \u001b[1;32mfor\u001b[0m \u001b[0mbest_text\u001b[0m \u001b[1;32min\u001b[0m \u001b[0mbest_texts\u001b[0m\u001b[1;33m]\u001b[0m\u001b[1;33m\u001b[0m\u001b[1;33m\u001b[0m\u001b[0m\n",
      "\u001b[1;31mMatchError\u001b[0m: Could not find 'Printer' in 'dict_keys(['PaperGroupBox', 'Paper', 'GroupBox', 'Static', 'Si&ze:Static', 'Si&ze:', 'ComboBox', 'Si&ze:ComboBox', 'Static0', 'Static1', 'Static2', '&Source:', '&Source:Static', 'ComboBox0', 'ComboBox1', 'ComboBox2', '&Source:ComboBox', 'Orientation', 'GroupBox0', 'GroupBox1', 'GroupBox2', 'OrientationGroupBox', 'P&ortrait', 'P&ortraitRadioButton', 'RadioButton', 'L&andscape', 'L&andscapeRadioButton', 'RadioButton0', 'RadioButton1', 'RadioButton2', 'Margins (inches)', 'Margins (inches)GroupBox', 'GroupBox3', 'Static3', '&Left:Static', '&Left:', '&Left:Edit', 'Edit', 'Static4', '&Right:', '&Right:Static', '&Right:Edit', 'Edit0', 'Edit1', 'Edit2', 'Static5', '&Top:', '&Top:Static', '&Top:Edit', 'Edit3', 'Static6', '&Bottom:Static', '&Bottom:', '&Bottom:Edit', 'Edit4', 'Static7', '&Header:', '&Header:Static', '&Header:Edit', 'Edit5', 'Static8', '&Footer:', '&Footer:Static', '&Footer:Edit', 'Edit6', 'OK', 'OKButton', 'Button', 'Cancel', 'CancelButton', 'Button0', 'Button1', 'Button2', 'Preview', 'PreviewGroupBox', 'GroupBox4', 'Static9', 'Margins (inches)Static', 'Static10', 'PreviewStatic', 'Static11', 'PreviewStatic0', 'PreviewStatic1', 'PreviewStatic2'])'"
     ]
    }
   ],
   "source": [
    "# GUI Application automation and testing library\n",
    "# Copyright (C) 2006-2018 Mark Mc Mahon and Contributors\n",
    "# https://github.com/pywinauto/pywinauto/graphs/contributors\n",
    "# http://pywinauto.readthedocs.io/en/latest/credits.html\n",
    "# All rights reserved.\n",
    "#\n",
    "# Redistribution and use in source and binary forms, with or without\n",
    "# modification, are permitted provided that the following conditions are met:\n",
    "#\n",
    "# * Redistributions of source code must retain the above copyright notice, this\n",
    "#   list of conditions and the following disclaimer.\n",
    "#\n",
    "# * Redistributions in binary form must reproduce the above copyright notice,\n",
    "#   this list of conditions and the following disclaimer in the documentation\n",
    "#   and/or other materials provided with the distribution.\n",
    "#\n",
    "# * Neither the name of pywinauto nor the names of its\n",
    "#   contributors may be used to endorse or promote products derived from\n",
    "#   this software without specific prior written permission.\n",
    "#\n",
    "# THIS SOFTWARE IS PROVIDED BY THE COPYRIGHT HOLDERS AND CONTRIBUTORS \"AS IS\"\n",
    "# AND ANY EXPRESS OR IMPLIED WARRANTIES, INCLUDING, BUT NOT LIMITED TO, THE\n",
    "# IMPLIED WARRANTIES OF MERCHANTABILITY AND FITNESS FOR A PARTICULAR PURPOSE ARE\n",
    "# DISCLAIMED. IN NO EVENT SHALL THE COPYRIGHT HOLDER OR CONTRIBUTORS BE LIABLE\n",
    "# FOR ANY DIRECT, INDIRECT, INCIDENTAL, SPECIAL, EXEMPLARY, OR CONSEQUENTIAL\n",
    "# DAMAGES (INCLUDING, BUT NOT LIMITED TO, PROCUREMENT OF SUBSTITUTE GOODS OR\n",
    "# SERVICES; LOSS OF USE, DATA, OR PROFITS; OR BUSINESS INTERRUPTION) HOWEVER\n",
    "# CAUSED AND ON ANY THEORY OF LIABILITY, WHETHER IN CONTRACT, STRICT LIABILITY,\n",
    "# OR TORT (INCLUDING NEGLIGENCE OR OTHERWISE) ARISING IN ANY WAY OUT OF THE USE\n",
    "# OF THIS SOFTWARE, EVEN IF ADVISED OF THE POSSIBILITY OF SUCH DAMAGE.\n",
    "\n",
    "\"\"\"Run some automations to test things\"\"\"\n",
    "from __future__ import unicode_literals\n",
    "from __future__ import print_function\n",
    "\n",
    "from pywinauto import application\n",
    "#from pywinauto import tests\n",
    "#from pywinauto.findbestmatch import MatchError\n",
    "\n",
    "\n",
    "#application.set_timing(3, .5, 10, .5, .4, .2, .2, .1, .2, .5)\n",
    "\n",
    "app = application.Application()\n",
    "app.start(r\"notepad.exe\")\n",
    "\n",
    "app['Notepad'].wait('ready')\n",
    "\n",
    "app['Notepad'].menu_select(\"File->PageSetup\")\n",
    "\n",
    "# ----- Page Setup Dialog ----\n",
    "# Select the 4th combobox item\n",
    "app['PageSetupDlg']['ComboBox1'].select(4)\n",
    "\n",
    "# Select the 'Letter' combobox item\n",
    "app['PageSetupDlg']['ComboBox1'].select(\"Letter\")\n",
    "\n",
    "# ----- Next Page Setup Dialog ----\n",
    "app['PageSetupDlg']['Printer'].click()\n",
    "\n",
    "app['PageSetupDlg']['Network'].click()\n",
    "\n",
    "# ----- Connect To Printer Dialog ----\n",
    "# Select a checkbox\n",
    "app['ConnectToPrinter']['ExpandByDef'].check()\n",
    "# Uncheck it again - but use click this time!\n",
    "app['ConnectToPrinter']['ExpandByDef'].click()\n",
    "\n",
    "app['ConnectToPrinter']['OK'].close_click()\n",
    "\n",
    "# ----- 2nd Page Setup Dialog again ----\n",
    "app['PageSetupDlg2']['Properties'].click()\n",
    "\n",
    "# ----- Document Properties Dialog ----\n",
    "doc_props = app.window(title_re = \".*Document Properties\")\n",
    "\n",
    "# Two ways of selecting tabs\n",
    "doc_props['TabCtrl'].select(2)\n",
    "doc_props['TabCtrl'].select(\"Layout\")\n",
    "\n",
    "# click a Radio button\n",
    "doc_props['RotatedLandscape'].click()\n",
    "doc_props['Portrait'].click()\n",
    "\n",
    "# open the Advanced options dialog in two steps\n",
    "advbutton = doc_props['Advanced']\n",
    "advbutton.click()\n",
    "\n",
    "# ----- Advanced Options Dialog ----\n",
    "# close the 4 windows\n",
    "app.window(title_re = \".* Advanced Options\")['Ok'].click()\n",
    "\n",
    "# ----- Document Properties Dialog again ----\n",
    "doc_props['Cancel'].close_click()\n",
    "# ----- 2nd Page Setup Dialog again ----\n",
    "app['PageSetup2']['OK'].close_click()\n",
    "# ----- Page Setup Dialog ----\n",
    "app['PageSetup']['Ok'].close_click()\n",
    "\n",
    "# type some text\n",
    "app['Notepad']['Edit'].set_edit_text(\"I am typing s\\xe4me text to Notepad\"\n",
    "    \"\\r\\n\\r\\nAnd then I am going to quit\")\n",
    "\n",
    "# exit notepad\n",
    "app['NotepadDialog'].menu_select(\"File->Exit\")\n",
    "app['Notepad']['No'].close_click()\n",
    "\n"
   ]
  },
  {
   "cell_type": "code",
   "execution_count": 5,
   "metadata": {},
   "outputs": [
    {
     "data": {
      "text/plain": [
       "<uiawrapper.UIAWrapper - '', Dialog, 0>"
      ]
     },
     "execution_count": 5,
     "metadata": {},
     "output_type": "execute_result"
    }
   ],
   "source": [
    "import pywinauto\n",
    "from pywinauto.application import Application\n",
    "app = Application(backend=\"uia\").start(\"notepad.exe\")\n",
    "app.UntitledNotepad.type_keys(\"%FX\")\n",
    "\n"
   ]
  },
  {
   "cell_type": "code",
   "execution_count": 7,
   "metadata": {},
   "outputs": [
    {
     "name": "stdout",
     "output_type": "stream",
     "text": [
      "ProcessNotFoundError has been raised. OK.\n",
      "AppStartError has been raised. OK.\n",
      "========================================\n",
      "Windows of this application: [<hwndwrapper.DialogWrapper - 'Page Setup', Dialog, 263670>, <hwndwrapper.DialogWrapper - 'Untitled - Notepad', Notepad, 656894>, <hwndwrapper.HwndWrapper - '', ComboLBox, 525060>, <hwndwrapper.HwndWrapper - '', ComboLBox, 1049402>, <hwndwrapper.DialogWrapper - 'M', MSCTFIME UI, 459572>, <hwndwrapper.DialogWrapper - 'Default IME', IME, 394040>]\n",
      "The list of identifiers for the Page Setup dialog in Notepad\n",
      "========================================\n",
      "Control Identifiers:\n",
      "\n",
      "Dialog - 'Page Setup'    (L363, T179, R913, B537)\n",
      "['Dialog', 'Page Setup', 'Page SetupDialog']\n",
      "child_window(title=\"Page Setup\", class_name=\"#32770\")\n",
      "   | \n",
      "   | GroupBox - 'Paper'    (L383, T223, R719, B314)\n",
      "   | ['PaperGroupBox', 'Paper', 'GroupBox', 'GroupBox0', 'GroupBox1']\n",
      "   | child_window(title=\"Paper\", class_name=\"Button\")\n",
      "   | \n",
      "   | Static - 'Si&ze:'    (L395, T249, R449, B262)\n",
      "   | ['Static', 'Si&ze:Static', 'Si&ze:', 'Static0', 'Static1']\n",
      "   | child_window(title=\"Si&ze:\", class_name=\"Static\")\n",
      "   | \n",
      "   | ComboBox - 'Letter'    (L467, T247, R707, B268)\n",
      "   | ['ComboBox', 'Si&ze:ComboBox', 'ComboBox0', 'ComboBox1']\n",
      "   | child_window(title=\"Letter\", class_name=\"ComboBox\")\n",
      "   | \n",
      "   | Static - '&Source:'    (L395, T283, R449, B296)\n",
      "   | ['Static2', '&Source:', '&Source:Static']\n",
      "   | child_window(title=\"&Source:\", class_name=\"Static\")\n",
      "   | \n",
      "   | ComboBox - ''    (L467, T278, R707, B299)\n",
      "   | ['ComboBox2', '&Source:ComboBox']\n",
      "   | child_window(class_name=\"ComboBox\")\n",
      "   | \n",
      "   | GroupBox - 'Orientation'    (L383, T322, R479, B413)\n",
      "   | ['Orientation', 'GroupBox2', 'OrientationGroupBox']\n",
      "   | child_window(title=\"Orientation\", class_name=\"Button\")\n",
      "   | \n",
      "   | RadioButton - 'P&ortrait'    (L395, T343, R473, B363)\n",
      "   | ['P&ortrait', 'P&ortraitRadioButton', 'RadioButton', 'RadioButton0', 'RadioButton1']\n",
      "   | child_window(title=\"P&ortrait\", class_name=\"Button\")\n",
      "   | \n",
      "   | RadioButton - 'L&andscape'    (L395, T377, R473, B397)\n",
      "   | ['L&andscape', 'L&andscapeRadioButton', 'RadioButton2']\n",
      "   | child_window(title=\"L&andscape\", class_name=\"Button\")\n",
      "   | \n",
      "   | GroupBox - 'Margins (inches)'    (L491, T322, R719, B413)\n",
      "   | ['Margins (inches)', 'Margins (inches)GroupBox', 'GroupBox3']\n",
      "   | child_window(title=\"Margins (inches)\", class_name=\"Button\")\n",
      "   | \n",
      "   | Static - '&Left:'    (L503, T348, R551, B361)\n",
      "   | ['Static3', '&Left:Static', '&Left:']\n",
      "   | child_window(title=\"&Left:\", class_name=\"Static\")\n",
      "   | \n",
      "   | Edit - '0.75'    (L551, T343, R593, B363)\n",
      "   | ['&Left:Edit', 'Edit', 'Edit0', 'Edit1']\n",
      "   | child_window(title=\"0.75\", class_name=\"Edit\")\n",
      "   | \n",
      "   | Static - '&Right:'    (L617, T348, R665, B361)\n",
      "   | ['Static4', '&Right:', '&Right:Static']\n",
      "   | child_window(title=\"&Right:\", class_name=\"Static\")\n",
      "   | \n",
      "   | Edit - '0.75'    (L665, T343, R707, B363)\n",
      "   | ['&Right:Edit', 'Edit2']\n",
      "   | child_window(title=\"0.75\", class_name=\"Edit\")\n",
      "   | \n",
      "   | Static - '&Top:'    (L503, T379, R551, B392)\n",
      "   | ['Static5', '&Top:', '&Top:Static']\n",
      "   | child_window(title=\"&Top:\", class_name=\"Static\")\n",
      "   | \n",
      "   | Edit - '1'    (L551, T377, R593, B397)\n",
      "   | ['&Top:Edit', 'Edit3']\n",
      "   | child_window(title=\"1\", class_name=\"Edit\")\n",
      "   | \n",
      "   | Static - '&Bottom:'    (L617, T379, R665, B392)\n",
      "   | ['Static6', '&Bottom:Static', '&Bottom:']\n",
      "   | child_window(title=\"&Bottom:\", class_name=\"Static\")\n",
      "   | \n",
      "   | Edit - '1'    (L665, T377, R707, B397)\n",
      "   | ['&Bottom:Edit', 'Edit4']\n",
      "   | child_window(title=\"1\", class_name=\"Edit\")\n",
      "   | \n",
      "   | Static - '&Header:'    (L383, T429, R427, B442)\n",
      "   | ['Static7', '&Header:', '&Header:Static']\n",
      "   | child_window(title=\"&Header:\", class_name=\"Static\")\n",
      "   | \n",
      "   | Edit - '&f'    (L455, T428, R716, B448)\n",
      "   | ['&Header:Edit', 'Edit5']\n",
      "   | child_window(title=\"&f\", class_name=\"Edit\")\n",
      "   | \n",
      "   | Static - '&Footer:'    (L383, T460, R427, B473)\n",
      "   | ['Static8', '&Footer:', '&Footer:Static']\n",
      "   | child_window(title=\"&Footer:\", class_name=\"Static\")\n",
      "   | \n",
      "   | Edit - 'Page &p'    (L455, T459, R716, B479)\n",
      "   | ['&Footer:Edit', 'Edit6']\n",
      "   | child_window(title=\"Page &p\", class_name=\"Edit\")\n",
      "   | \n",
      "   | Button - 'OK'    (L737, T493, R812, B516)\n",
      "   | ['OK', 'OKButton', 'Button', 'Button0', 'Button1']\n",
      "   | child_window(title=\"OK\", class_name=\"Button\")\n",
      "   | \n",
      "   | Button - 'Cancel'    (L818, T493, R893, B516)\n",
      "   | ['Cancel', 'CancelButton', 'Button2']\n",
      "   | child_window(title=\"Cancel\", class_name=\"Button\")\n",
      "   | \n",
      "   | Button - '&Printer...'    (L818, T493, R893, B516)\n",
      "   | ['&Printer...', '&Printer...Button', 'Button3']\n",
      "   | child_window(title=\"&Printer...\", class_name=\"Button\")\n",
      "   | \n",
      "   | GroupBox - 'Preview'    (L731, T223, R893, B480)\n",
      "   | ['Preview', 'PreviewGroupBox', 'GroupBox4']\n",
      "   | child_window(title=\"Preview\", class_name=\"Button\")\n",
      "   | \n",
      "   | Static - ''    (L762, T285, R862, B415)\n",
      "   | ['Static9', 'Margins (inches)Static']\n",
      "   | child_window(class_name=\"Static\")\n",
      "   | \n",
      "   | Static - ''    (L862, T293, R870, B423)\n",
      "   | ['Static10', 'PreviewStatic', 'PreviewStatic0', 'PreviewStatic1']\n",
      "   | child_window(class_name=\"Static\")\n",
      "   | \n",
      "   | Static - ''    (L770, T415, R870, B423)\n",
      "   | ['Static11', 'PreviewStatic2']\n",
      "   | child_window(class_name=\"Static\")\n",
      "========================================\n",
      "The list of identifiers for the 2nd Edit control in the dialog\n",
      "Control Identifiers:\n",
      "\n",
      "Edit - '0.75'    (L665, T343, R707, B363)\n",
      "['', 'Edit']\n",
      "child_window(title=\"0.75\", class_name=\"Edit\")\n",
      "========================================\n"
     ]
    }
   ],
   "source": [
    "from __future__ import unicode_literals\n",
    "from __future__ import print_function\n",
    "\n",
    "try:\n",
    "    from pywinauto import application\n",
    "except ImportError:\n",
    "    import os.path\n",
    "    pywinauto_path = os.path.abspath(__file__)\n",
    "    pywinauto_path = os.path.split(os.path.split(pywinauto_path)[0])[0]\n",
    "    import sys\n",
    "    sys.path.append(pywinauto_path)\n",
    "    from pywinauto import application\n",
    "\n",
    "#from pywinauto import tests\n",
    "#from pywinauto.findbestmatch import MatchError\n",
    "from pywinauto.timings import Timings\n",
    "\n",
    "Timings.window_find_timeout = 10\n",
    "\n",
    "def test_exceptions():\n",
    "    \"\"\"Test some things that should raise exceptions\"\"\"\n",
    "    # test that trying to connect_ to a non existent app fails\n",
    "    try:\n",
    "        app = application.Application()\n",
    "        app.connect(path=r\"No process with this please\")\n",
    "        assert False\n",
    "    except application.ProcessNotFoundError:\n",
    "        print('ProcessNotFoundError has been raised. OK.')\n",
    "\n",
    "    # test that trying to connect_ to a non existent app fails\n",
    "    try:\n",
    "        app = application.Application()\n",
    "        app.start(cmd_line = r\"No process with this please\")\n",
    "        assert False\n",
    "    except application.AppStartError:\n",
    "        print('AppStartError has been raised. OK.')\n",
    "\n",
    "#    # try when it isn't connected\n",
    "#    try:\n",
    "#        app = application.Application()\n",
    "#        #app.start_(ur\"c:\\windows\\system32\\notepad.exe\")\n",
    "#        app.Notepad.click()\n",
    "#        #assert False\n",
    "#    except application.AppNotConnected:\n",
    "#        pass\n",
    "\n",
    "\n",
    "\n",
    "def get_info():\n",
    "    \"\"\"Run Notepad, print some identifiers and exit\"\"\"\n",
    "    app = application.Application()\n",
    "\n",
    "    app.start(r\"notepad.exe\")\n",
    "\n",
    "    app.Notepad.menu_select(\"File->PageSetup\")\n",
    "\n",
    "    print(\"==\" * 20)\n",
    "    print(\"Windows of this application:\", app.windows())\n",
    "\n",
    "    print(\"The list of identifiers for the Page Setup dialog in Notepad\")\n",
    "    print(\"==\" * 20)\n",
    "    app.PageSetup.print_control_identifiers()\n",
    "    print(\"==\" * 20)\n",
    "    print(\"The list of identifiers for the 2nd Edit control in the dialog\")\n",
    "    app.PageSetup.Edit2.print_control_identifiers()\n",
    "    print(\"==\" * 20)\n",
    "\n",
    "    app.PageSetup.OK.close_click()\n",
    "    app.Notepad.menu_select(\"File->Exit\")\n",
    "\n",
    "\n",
    "\n",
    "if __name__ == '__main__':\n",
    "    test_exceptions()\n",
    "    get_info()\n"
   ]
  },
  {
   "cell_type": "code",
   "execution_count": 12,
   "metadata": {},
   "outputs": [
    {
     "ename": "ElementAmbiguousError",
     "evalue": "There are 2 elements that match the criteria {'title_re': '.*Notepad*', 'backend': 'uia', 'visible_only': False}",
     "output_type": "error",
     "traceback": [
      "\u001b[1;31m---------------------------------------------------------------------------\u001b[0m",
      "\u001b[1;31mElementAmbiguousError\u001b[0m                     Traceback (most recent call last)",
      "\u001b[1;32m<ipython-input-12-d9d213eb70f5>\u001b[0m in \u001b[0;36m<module>\u001b[1;34m\u001b[0m\n\u001b[0;32m      1\u001b[0m \u001b[1;31m# Import pywinauto Application class\u001b[0m\u001b[1;33m\u001b[0m\u001b[1;33m\u001b[0m\u001b[1;33m\u001b[0m\u001b[0m\n\u001b[0;32m      2\u001b[0m \u001b[1;32mfrom\u001b[0m \u001b[0mpywinauto\u001b[0m\u001b[1;33m.\u001b[0m\u001b[0mapplication\u001b[0m \u001b[1;32mimport\u001b[0m \u001b[0mApplication\u001b[0m\u001b[1;33m\u001b[0m\u001b[1;33m\u001b[0m\u001b[0m\n\u001b[1;32m----> 3\u001b[1;33m \u001b[0mapp\u001b[0m \u001b[1;33m=\u001b[0m \u001b[0mApplication\u001b[0m\u001b[1;33m(\u001b[0m\u001b[0mbackend\u001b[0m\u001b[1;33m=\u001b[0m\u001b[1;34m\"uia\"\u001b[0m\u001b[1;33m)\u001b[0m\u001b[1;33m.\u001b[0m\u001b[0mconnect\u001b[0m\u001b[1;33m(\u001b[0m\u001b[0mtitle_re\u001b[0m\u001b[1;33m=\u001b[0m\u001b[1;34m\".*Notepad*\"\u001b[0m\u001b[1;33m)\u001b[0m\u001b[1;33m\u001b[0m\u001b[1;33m\u001b[0m\u001b[0m\n\u001b[0m\u001b[0;32m      4\u001b[0m \u001b[0mmain_dlg\u001b[0m \u001b[1;33m=\u001b[0m \u001b[0mapp\u001b[0m\u001b[1;33m.\u001b[0m\u001b[0mwindow\u001b[0m\u001b[1;33m(\u001b[0m\u001b[0mtitle\u001b[0m\u001b[1;33m=\u001b[0m\u001b[1;34m'Untitled - Notepad'\u001b[0m\u001b[1;33m)\u001b[0m\u001b[1;33m\u001b[0m\u001b[1;33m\u001b[0m\u001b[0m\n",
      "\u001b[1;32mC:\\ProgramData\\Anaconda3\\lib\\site-packages\\pywinauto-0.6.7-py3.7.egg\\pywinauto\\application.py\u001b[0m in \u001b[0;36mconnect\u001b[1;34m(self, **kwargs)\u001b[0m\n\u001b[0;32m    976\u001b[0m                     ).process_id\n\u001b[0;32m    977\u001b[0m             \u001b[1;32melse\u001b[0m\u001b[1;33m:\u001b[0m\u001b[1;33m\u001b[0m\u001b[1;33m\u001b[0m\u001b[0m\n\u001b[1;32m--> 978\u001b[1;33m                 \u001b[0mself\u001b[0m\u001b[1;33m.\u001b[0m\u001b[0mprocess\u001b[0m \u001b[1;33m=\u001b[0m \u001b[0mfindwindows\u001b[0m\u001b[1;33m.\u001b[0m\u001b[0mfind_element\u001b[0m\u001b[1;33m(\u001b[0m\u001b[1;33m**\u001b[0m\u001b[0mkwargs\u001b[0m\u001b[1;33m)\u001b[0m\u001b[1;33m.\u001b[0m\u001b[0mprocess_id\u001b[0m\u001b[1;33m\u001b[0m\u001b[1;33m\u001b[0m\u001b[0m\n\u001b[0m\u001b[0;32m    979\u001b[0m             \u001b[0mconnected\u001b[0m \u001b[1;33m=\u001b[0m \u001b[1;32mTrue\u001b[0m\u001b[1;33m\u001b[0m\u001b[1;33m\u001b[0m\u001b[0m\n\u001b[0;32m    980\u001b[0m \u001b[1;33m\u001b[0m\u001b[0m\n",
      "\u001b[1;32mC:\\ProgramData\\Anaconda3\\lib\\site-packages\\pywinauto-0.6.7-py3.7.egg\\pywinauto\\findwindows.py\u001b[0m in \u001b[0;36mfind_element\u001b[1;34m(**kwargs)\u001b[0m\n\u001b[0;32m     96\u001b[0m \u001b[1;33m\u001b[0m\u001b[0m\n\u001b[0;32m     97\u001b[0m         \u001b[0mexception\u001b[0m\u001b[1;33m.\u001b[0m\u001b[0melements\u001b[0m \u001b[1;33m=\u001b[0m \u001b[0melements\u001b[0m\u001b[1;33m\u001b[0m\u001b[1;33m\u001b[0m\u001b[0m\n\u001b[1;32m---> 98\u001b[1;33m         \u001b[1;32mraise\u001b[0m \u001b[0mexception\u001b[0m\u001b[1;33m\u001b[0m\u001b[1;33m\u001b[0m\u001b[0m\n\u001b[0m\u001b[0;32m     99\u001b[0m \u001b[1;33m\u001b[0m\u001b[0m\n\u001b[0;32m    100\u001b[0m     \u001b[1;32mreturn\u001b[0m \u001b[0melements\u001b[0m\u001b[1;33m[\u001b[0m\u001b[1;36m0\u001b[0m\u001b[1;33m]\u001b[0m\u001b[1;33m\u001b[0m\u001b[1;33m\u001b[0m\u001b[0m\n",
      "\u001b[1;31mElementAmbiguousError\u001b[0m: There are 2 elements that match the criteria {'title_re': '.*Notepad*', 'backend': 'uia', 'visible_only': False}"
     ]
    }
   ],
   "source": [
    "# Import pywinauto Application class\n",
    "from pywinauto.application import Application\n",
    "app = Application(backend=\"uia\").connect(title_re=\".*LuCam Capture*\")\n",
    "main_dlg = app.window(title='LuCam Capture')"
   ]
  },
  {
   "cell_type": "code",
   "execution_count": 10,
   "metadata": {},
   "outputs": [
    {
     "data": {
      "text/plain": [
       "<pywinauto.application.WindowSpecification at 0x3d7b3bbf60>"
      ]
     },
     "execution_count": 10,
     "metadata": {},
     "output_type": "execute_result"
    }
   ],
   "source": [
    "main_dlg"
   ]
  },
  {
   "cell_type": "code",
   "execution_count": 11,
   "metadata": {},
   "outputs": [
    {
     "name": "stdout",
     "output_type": "stream",
     "text": [
      "Control Identifiers:\n",
      "\n",
      "Dialog - 'LuCam Capture'    (L0, T0, R0, B0)\n",
      "['Dialog', 'LuCam Capture', 'LuCam CaptureDialog']\n",
      "child_window(title=\"LuCam Capture\", control_type=\"Window\")\n",
      "   | \n",
      "   | ComboBox - ''    (L-31982, T-31925, R-31775, B-31904)\n",
      "   | ['ComboBox', 'Image SizeComboBox', 'ComboBox0', 'ComboBox1', 'Image SizeComboBox0', 'Image SizeComboBox1']\n",
      "   | child_window(auto_id=\"1022\", control_type=\"ComboBox\")\n",
      "   |    | \n",
      "   |    | Static - ''    (L3, T3, R187, B18)\n",
      "   |    | ['Static', '', 'Static0', 'Static1', '0', '1']\n",
      "   |    | \n",
      "   |    | Button - 'Open'    (L-31794, T-31923, R-31777, B-31906)\n",
      "   |    | ['Open', 'OpenButton', 'Button2', 'Open0', 'Open1', 'OpenButton0', 'OpenButton1']\n",
      "   |    | child_window(title=\"Open\", auto_id=\"DropDown\", control_type=\"Button\")\n",
      "   | \n",
      "   | RadioButton - 'USB'    (L-31989, T-31989, R-31942, B-31973)\n",
      "   | ['USBRadioButton', 'USB', 'RadioButton', 'RadioButton0', 'RadioButton1']\n",
      "   | child_window(title=\"USB\", auto_id=\"1103\", control_type=\"RadioButton\")\n",
      "   | \n",
      "   | RadioButton - 'GigE Vision'    (L-31935, T-31989, R-31857, B-31973)\n",
      "   | ['GigE Vision', 'GigE VisionRadioButton', 'RadioButton2']\n",
      "   | child_window(title=\"GigE Vision\", auto_id=\"1104\", control_type=\"RadioButton\")\n",
      "   | \n",
      "   | Button - 'Connect'    (L-31797, T-31993, R-31722, B-31970)\n",
      "   | ['Connect', 'ConnectButton', 'Button', 'Button0', 'Button1']\n",
      "   | child_window(title=\"Connect\", auto_id=\"1105\", control_type=\"Button\")\n",
      "   | \n",
      "   | ComboBox - ''    (L-31746, T-31925, R-31677, B-31904)\n",
      "   | ['ComboBox2', 'Image SizeComboBox2']\n",
      "   | child_window(auto_id=\"1110\", control_type=\"ComboBox\")\n",
      "   |    | \n",
      "   |    | Static - ''    (L3, T3, R49, B18)\n",
      "   |    | ['Static2', '2']\n",
      "   |    | \n",
      "   |    | Button - 'Open'    (L-31696, T-31923, R-31679, B-31906)\n",
      "   |    | ['Open2', 'OpenButton2', 'Button3']\n",
      "   |    | child_window(title=\"Open\", auto_id=\"DropDown\", control_type=\"Button\")\n",
      "   | \n",
      "   | Edit - ''    (L-31746, T-31896, R-31677, B-31876)\n",
      "   | ['Image SizeEdit', 'Edit', 'Edit0', 'Edit1']\n",
      "   | child_window(auto_id=\"1109\", control_type=\"Edit\")\n",
      "   | \n",
      "   | Button - 'Capture'    (L-31983, T-31855, R-31908, B-31831)\n",
      "   | ['CaptureButton', 'Capture', 'Button4', 'CaptureButton0', 'CaptureButton1', 'Capture0', 'Capture1']\n",
      "   | child_window(title=\"Capture\", auto_id=\"1045\", control_type=\"Button\")\n",
      "   | \n",
      "   | Button - 'Hide Capture'    (L-31898, T-31855, R-31823, B-31831)\n",
      "   | ['Hide Capture', 'Hide CaptureButton', 'Button5', 'Hide Capture0', 'Hide Capture1', 'Hide CaptureButton0', 'Hide CaptureButton1']\n",
      "   | child_window(title=\"Hide Capture\", auto_id=\"1046\", control_type=\"Button\")\n",
      "   | \n",
      "   | Button - 'Save As...'    (L-31983, T-31821, R-31908, B-31797)\n",
      "   | ['Save As...Button', 'Save As...', 'Button6', 'Save As...Button0', 'Save As...Button1', 'Save As...0', 'Save As...1']\n",
      "   | child_window(title=\"Save As...\", auto_id=\"1009\", control_type=\"Button\")\n",
      "   | \n",
      "   | ComboBox - ''    (L-31746, T-31846, R-31677, B-31825)\n",
      "   | ['ComboBox3', 'TapsComboBox', 'TapsComboBox0', 'TapsComboBox1']\n",
      "   | child_window(auto_id=\"1112\", control_type=\"ComboBox\")\n",
      "   |    | \n",
      "   |    | Static - ''    (L3, T3, R49, B18)\n",
      "   |    | ['Static3', '3']\n",
      "   |    | \n",
      "   |    | Button - 'Open'    (L-31696, T-31844, R-31679, B-31827)\n",
      "   |    | ['Open3', 'OpenButton3', 'Button7']\n",
      "   |    | child_window(title=\"Open\", auto_id=\"DropDown\", control_type=\"Button\")\n",
      "   | \n",
      "   | Edit - ''    (L-31965, T-31638, R-31908, B-31617)\n",
      "   | ['Iris:Edit', 'Edit2']\n",
      "   | child_window(auto_id=\"1012\", control_type=\"Edit\")\n",
      "   | \n",
      "   | UpDown - ''    (L-31905, T-31638, R-31888, B-31617)\n",
      "   | ['Iris:UpDown', 'UpDown', 'UpDown0', 'UpDown1']\n",
      "   | child_window(auto_id=\"1124\", control_type=\"Spinner\")\n",
      "   |    | \n",
      "   |    | Button - 'More'    (L-31905, T-31638, R-31888, B-31627)\n",
      "   |    | ['More', 'MoreButton', 'Button8', 'More0', 'More1', 'MoreButton0', 'MoreButton1']\n",
      "   |    | child_window(title=\"More\", auto_id=\"MoreButton\", control_type=\"Button\")\n",
      "   |    | \n",
      "   |    | Button - 'Less'    (L-31905, T-31627, R-31888, B-31617)\n",
      "   |    | ['LessButton', 'Less', 'Button9', 'LessButton0', 'LessButton1', 'Less0', 'Less1']\n",
      "   |    | child_window(title=\"Less\", auto_id=\"LessButton\", control_type=\"Button\")\n",
      "   | \n",
      "   | Edit - ''    (L-31833, T-31639, R-31776, B-31618)\n",
      "   | ['Focus:Edit', 'Edit3', 'Focus:Edit0', 'Focus:Edit1']\n",
      "   | child_window(auto_id=\"1039\", control_type=\"Edit\")\n",
      "   | \n",
      "   | UpDown - ''    (L-31773, T-31641, R-31756, B-31618)\n",
      "   | ['UpDown2', 'Focus:UpDown']\n",
      "   | child_window(auto_id=\"1123\", control_type=\"Spinner\")\n",
      "   |    | \n",
      "   |    | Button - 'More'    (L-31773, T-31641, R-31756, B-31629)\n",
      "   |    | ['More2', 'MoreButton2', 'Button10']\n",
      "   |    | child_window(title=\"More\", auto_id=\"MoreButton\", control_type=\"Button\")\n",
      "   |    | \n",
      "   |    | Button - 'Less'    (L-31773, T-31629, R-31756, B-31618)\n",
      "   |    | ['LessButton2', 'Less2', 'Button11']\n",
      "   |    | child_window(title=\"Less\", auto_id=\"LessButton\", control_type=\"Button\")\n",
      "   | \n",
      "   | Static - 'Exposure (ms):'    (L-31982, T-31782, R-31908, B-31766)\n",
      "   | ['Static4', 'Exposure (ms):Static', 'Exposure (ms):', 'Exposure (ms):Static0', 'Exposure (ms):Static1', 'Exposure (ms):0', 'Exposure (ms):1']\n",
      "   | child_window(title=\"Exposure (ms):\", auto_id=\"1037\", control_type=\"Text\")\n",
      "   | \n",
      "   | Slider - 'Exposure (ms):'    (L-31910, T-31781, R-31725, B-31766)\n",
      "   | ['Slider', 'Exposure (ms):Slider', 'Slider0', 'Slider1']\n",
      "   | child_window(title=\"Exposure (ms):\", auto_id=\"1004\", control_type=\"Slider\")\n",
      "   |    | \n",
      "   |    | Thumb - 'Position'    (L-31905, T-31779, R-31900, B-31770)\n",
      "   |    | ['Thumb', 'Position', 'PositionThumb', 'Thumb0', 'Thumb1', 'Position0', 'Position1', 'PositionThumb0', 'PositionThumb1']\n",
      "   |    | child_window(title=\"Position\", control_type=\"Thumb\")\n",
      "   |    | \n",
      "   |    | Button - 'Page right'    (L-31900, T-31777, R-31730, B-31773)\n",
      "   |    | ['Page right', 'Page rightButton', 'Button12', 'Page right0', 'Page right1', 'Page rightButton0', 'Page rightButton1']\n",
      "   |    | child_window(title=\"Page right\", control_type=\"Button\")\n",
      "   | \n",
      "   | CheckBox - 'AEC'    (L-31713, T-31787, R-31671, B-31771)\n",
      "   | ['CheckBox', 'AECCheckBox', 'AEC', 'CheckBox0', 'CheckBox1']\n",
      "   | child_window(title=\"AEC\", auto_id=\"1005\", control_type=\"CheckBox\")\n",
      "   | \n",
      "   | Static - 'Gain (x):'    (L-31983, T-31743, R-31914, B-31727)\n",
      "   | ['Static5', 'Gain (x):Static', 'Gain (x):']\n",
      "   | child_window(title=\"Gain (x):\", auto_id=\"1038\", control_type=\"Text\")\n",
      "   | \n",
      "   | CheckBox - 'AGC'    (L-31713, T-31743, R-31671, B-31727)\n",
      "   | ['CheckBox2', 'AGC', 'AGCCheckBox']\n",
      "   | child_window(title=\"AGC\", auto_id=\"1007\", control_type=\"CheckBox\")\n",
      "   | \n",
      "   | CheckBox - 'AWB'    (L-31713, T-31696, R-31668, B-31680)\n",
      "   | ['CheckBox3', 'AWB', 'AWBCheckBox']\n",
      "   | child_window(title=\"AWB\", auto_id=\"1008\", control_type=\"CheckBox\")\n",
      "   | \n",
      "   | Static - 'Gamma:'    (L-31955, T-31696, R-31914, B-31676)\n",
      "   | ['Static6', 'Gamma:Static', 'Gamma:']\n",
      "   | child_window(title=\"Gamma:\", auto_id=\"1140\", control_type=\"Text\")\n",
      "   | \n",
      "   | Edit - 'Gamma:'    (L-31910, T-31699, R-31865, B-31679)\n",
      "   | ['Gamma:Edit', 'Edit4']\n",
      "   | child_window(title=\"Gamma:\", auto_id=\"1010\", control_type=\"Edit\")\n",
      "   | \n",
      "   | Button - 'White Balance'    (L-31815, T-31701, R-31731, B-31677)\n",
      "   | ['White Balance', 'White BalanceButton', 'Button13']\n",
      "   | child_window(title=\"White Balance\", auto_id=\"1013\", control_type=\"Button\")\n",
      "   | \n",
      "   | GroupBox - 'Snapshot'    (L-31991, T-31605, R-31659, B-31384)\n",
      "   | ['SnapshotGroupBox', 'GroupBox', 'Snapshot', 'GroupBox0', 'GroupBox1']\n",
      "   | child_window(title=\"Snapshot\", auto_id=\"1143\", control_type=\"Group\")\n",
      "   | \n",
      "   | Button - 'Capture'    (L-31742, T-31587, R-31667, B-31563)\n",
      "   | ['CaptureButton2', 'Capture2', 'Button14']\n",
      "   | child_window(title=\"Capture\", auto_id=\"1015\", control_type=\"Button\")\n",
      "   | \n",
      "   | Edit - ''    (L-31868, T-31555, R-31811, B-31534)\n",
      "   | ['Exposure Delay (ms):Edit', 'Edit5']\n",
      "   | child_window(auto_id=\"1016\", control_type=\"Edit\")\n",
      "   | \n",
      "   | Static - 'Exposure Delay (ms):'    (L-31982, T-31553, R-31880, B-31535)\n",
      "   | ['Static7', 'Exposure Delay (ms):Static', 'Exposure Delay (ms):']\n",
      "   | child_window(title=\"Exposure Delay (ms):\", auto_id=\"1019\", control_type=\"Text\")\n",
      "   | \n",
      "   | Static - 'Exposure (ms):'    (L-31982, T-31582, R-31910, B-31566)\n",
      "   | ['Static8', 'Exposure (ms):Static2', 'Exposure (ms):2']\n",
      "   | child_window(title=\"Exposure (ms):\", auto_id=\"1054\", control_type=\"Text\")\n",
      "   | \n",
      "   | Edit - 'Exposure (ms):'    (L-31868, T-31584, R-31811, B-31563)\n",
      "   | ['Exposure (ms):Edit', 'Focus:Edit2', 'Edit6']\n",
      "   | child_window(title=\"Exposure (ms):\", auto_id=\"1017\", control_type=\"Edit\")\n",
      "   | \n",
      "   | CheckBox - 'Use Strobe Output'    (L-31982, T-31469, R-31869, B-31453)\n",
      "   | ['CheckBox4', 'Use Strobe Output', 'Use Strobe OutputCheckBox']\n",
      "   | child_window(title=\"Use Strobe Output\", auto_id=\"1018\", control_type=\"CheckBox\")\n",
      "   | \n",
      "   | Button - 'Hide Capture'    (L-31742, T-31558, R-31667, B-31534)\n",
      "   | ['Hide Capture2', 'Hide CaptureButton2', 'Button15']\n",
      "   | child_window(title=\"Hide Capture\", auto_id=\"1020\", control_type=\"Button\")\n",
      "   | \n",
      "   | Static - 'Image Size'    (L-31980, T-31941, R-31920, B-31925)\n",
      "   | ['Static9', 'Image Size', 'Image SizeStatic']\n",
      "   | child_window(title=\"Image Size\", auto_id=\"1142\", control_type=\"Text\")\n",
      "   | \n",
      "   | GroupBox - 'Frame Rate'    (L-31755, T-31943, R-31672, B-31863)\n",
      "   | ['Frame RateGroupBox', 'Frame Rate', 'GroupBox2']\n",
      "   | child_window(title=\"Frame Rate\", auto_id=\"1033\", control_type=\"Group\")\n",
      "   | \n",
      "   | CheckBox - 'Wait for HW Input Trigger'    (L-31982, T-31496, R-31824, B-31480)\n",
      "   | ['CheckBox5', 'Wait for HW Input TriggerCheckBox', 'Wait for HW Input Trigger']\n",
      "   | child_window(title=\"Wait for HW Input Trigger\", auto_id=\"1021\", control_type=\"CheckBox\")\n",
      "   | \n",
      "   | CheckBox - '16 Bits per Pixel'    (L-31982, T-31524, R-31875, B-31508)\n",
      "   | ['CheckBox6', '16 Bits per PixelCheckBox', '16 Bits per Pixel']\n",
      "   | child_window(title=\"16 Bits per Pixel\", auto_id=\"1025\", control_type=\"CheckBox\")\n",
      "   | \n",
      "   | CheckBox - 'Capture & Save Bayer Data'    (L-31898, T-31818, R-31742, B-31802)\n",
      "   | ['CheckBox7', 'Capture & Save Bayer DataCheckBox', 'Capture & Save Bayer Data']\n",
      "   | child_window(title=\"Capture & Save Bayer Data\", auto_id=\"1034\", control_type=\"CheckBox\")\n",
      "   | \n",
      "   | Button - 'Save As...'    (L-31742, T-31529, R-31667, B-31505)\n",
      "   | ['Save As...Button2', 'Save As...2', 'Button16']\n",
      "   | child_window(title=\"Save As...\", auto_id=\"1026\", control_type=\"Button\")\n",
      "   | \n",
      "   | Edit - ''    (L-31851, T-31444, R-31806, B-31424)\n",
      "   | ['Strobe Delay (ms):Edit', 'Edit7']\n"
     ]
    },
    {
     "name": "stdout",
     "output_type": "stream",
     "text": [
      "   | child_window(auto_id=\"1035\", control_type=\"Edit\")\n",
      "   | \n",
      "   | Static - 'Strobe Delay (ms):'    (L-31965, T-31441, R-31867, B-31425)\n",
      "   | ['Static10', 'Strobe Delay (ms):Static', 'Strobe Delay (ms):']\n",
      "   | child_window(title=\"Strobe Delay (ms):\", auto_id=\"1036\", control_type=\"Text\")\n",
      "   | \n",
      "   | CheckBox - 'Extended Gain'    (L-31976, T-31724, R-31881, B-31708)\n",
      "   | ['CheckBox8', 'Extended Gain', 'Extended GainCheckBox']\n",
      "   | child_window(title=\"Extended Gain\", auto_id=\"1106\", control_type=\"CheckBox\")\n",
      "   | \n",
      "   | Static - 'Taps'    (L-31746, T-31860, R-31720, B-31847)\n",
      "   | ['Static11', 'TapsStatic', 'Taps', 'Taps0', 'Taps1', 'TapsStatic0', 'TapsStatic1']\n",
      "   | child_window(title=\"Taps\", auto_id=\"1113\", control_type=\"Text\")\n",
      "   | \n",
      "   | ComboBox - 'Taps'    (L-31742, T-31485, R-31667, B-31464)\n",
      "   | ['ComboBox4', 'TapsComboBox2', 'Taps2']\n",
      "   | child_window(title=\"Taps\", auto_id=\"1114\", control_type=\"ComboBox\")\n",
      "   |    | \n",
      "   |    | Static - 'Taps'    (L3, T3, R55, B18)\n",
      "   |    | ['Static12', 'TapsStatic2', 'Taps3']\n",
      "   |    | child_window(title=\"Taps\", control_type=\"Text\")\n",
      "   |    | \n",
      "   |    | Button - 'Open'    (L-31686, T-31483, R-31669, B-31466)\n",
      "   |    | ['Open4', 'OpenButton4', 'Button17']\n",
      "   |    | child_window(title=\"Open\", auto_id=\"DropDown\", control_type=\"Button\")\n",
      "   | \n",
      "   | Static - 'Taps'    (L-31742, T-31499, R-31716, B-31486)\n",
      "   | ['Static13', 'TapsStatic3', 'Taps4']\n",
      "   | child_window(title=\"Taps\", auto_id=\"1115\", control_type=\"Text\")\n",
      "   | \n",
      "   | GroupBox - 'Video'    (L-31991, T-31964, R-31659, B-31673)\n",
      "   | ['Video', 'VideoGroupBox', 'GroupBox3']\n",
      "   | child_window(title=\"Video\", auto_id=\"1141\", control_type=\"Group\")\n",
      "   | \n",
      "   | Static - 'Still Speed'    (L-31742, T-31459, R-31691, B-31446)\n",
      "   | ['Static14', 'Still SpeedStatic', 'Still Speed', 'Still Speed0', 'Still Speed1', 'Still SpeedStatic0', 'Still SpeedStatic1']\n",
      "   | child_window(title=\"Still Speed\", auto_id=\"1117\", control_type=\"Text\")\n",
      "   | \n",
      "   | ComboBox - 'Still Speed'    (L-31742, T-31444, R-31667, B-31423)\n",
      "   | ['ComboBox5', 'Still Speed2', 'Still SpeedComboBox']\n",
      "   | child_window(title=\"Still Speed\", auto_id=\"1116\", control_type=\"ComboBox\")\n",
      "   |    | \n",
      "   |    | Static - 'Still Speed'    (L3, T3, R55, B18)\n",
      "   |    | ['Static15', 'Still SpeedStatic2', 'Still Speed3']\n",
      "   |    | child_window(title=\"Still Speed\", control_type=\"Text\")\n",
      "   |    | \n",
      "   |    | Button - 'Open'    (L-31686, T-31442, R-31669, B-31425)\n",
      "   |    | ['Open5', 'OpenButton5', 'Button18']\n",
      "   |    | child_window(title=\"Open\", auto_id=\"DropDown\", control_type=\"Button\")\n",
      "   | \n",
      "   | Static - 'Iris:'    (L-31985, T-31638, R-31968, B-31617)\n",
      "   | ['Static16', 'Iris:', 'Iris:Static']\n",
      "   | child_window(title=\"Iris:\", auto_id=\"1126\", control_type=\"Text\")\n",
      "   | \n",
      "   | Static - 'Focus:'    (L-31869, T-31639, R-31836, B-31616)\n",
      "   | ['Static17', 'Focus:', 'Focus:Static']\n",
      "   | child_window(title=\"Focus:\", auto_id=\"1120\", control_type=\"Text\")\n",
      "   | \n",
      "   | GroupBox - 'Lens Control'    (L-31991, T-31670, R-31659, B-31610)\n",
      "   | ['Lens ControlGroupBox', 'GroupBox4', 'Lens Control']\n",
      "   | child_window(title=\"Lens Control\", auto_id=\"1125\", control_type=\"Group\")\n",
      "   | \n",
      "   | CheckBox - 'Active'    (L-31722, T-31659, R-31668, B-31643)\n",
      "   | ['CheckBox9', 'Active', 'ActiveCheckBox']\n",
      "   | child_window(title=\"Active\", auto_id=\"1122\", control_type=\"CheckBox\")\n",
      "   | \n",
      "   | Slider - ''    (L-31910, T-31743, R-31725, B-31728)\n",
      "   | ['Slider2', 'Gain (x):Slider']\n",
      "   | child_window(auto_id=\"1006\", control_type=\"Slider\")\n",
      "   |    | \n",
      "   |    | Thumb - 'Position'    (L-31905, T-31741, R-31900, B-31732)\n",
      "   |    | ['Thumb2', 'Position2', 'PositionThumb2']\n",
      "   |    | child_window(title=\"Position\", control_type=\"Thumb\")\n",
      "   |    | \n",
      "   |    | Button - 'Page right'    (L-31900, T-31739, R-31730, B-31735)\n",
      "   |    | ['Page right2', 'Page rightButton2', 'Button19']\n",
      "   |    | child_window(title=\"Page right\", control_type=\"Button\")\n",
      "   | \n",
      "   | Edit - ''    (L-31781, T-31727, R-31731, B-31707)\n",
      "   | ['Gain (x):Edit', 'Edit8']\n",
      "   | child_window(auto_id=\"1133\", control_type=\"Edit\")\n",
      "   | \n",
      "   | Edit - ''    (L-31781, T-31766, R-31731, B-31746)\n",
      "   | ['TapsEdit', 'Edit9']\n",
      "   | child_window(auto_id=\"1136\", control_type=\"Edit\")\n",
      "   | \n",
      "   | Edit - ''    (L-31833, T-31639, R-31776, B-31618)\n",
      "   | ['Focus:Edit3', 'Edit10']\n",
      "   | child_window(auto_id=\"1043\", control_type=\"Edit\")\n",
      "   | \n",
      "   | CheckBox - 'Auto Focus'    (L-31743, T-31641, R-31668, B-31617)\n",
      "   | ['CheckBox10', 'Auto Focus', 'Auto FocusCheckBox']\n",
      "   | child_window(title=\"Auto Focus\", auto_id=\"1139\", control_type=\"CheckBox\")\n",
      "   | \n",
      "   | Button - 'Start Preview'    (L-31982, T-31888, R-31907, B-31864)\n",
      "   | ['Start Preview', 'Start PreviewButton', 'Button20']\n",
      "   | child_window(title=\"Start Preview\", auto_id=\"1000\", control_type=\"Button\")\n",
      "   | \n",
      "   | TitleBar - ''    (L-31981, T-31997, R-31843, B-31974)\n",
      "   | ['4', 'TitleBar']\n",
      "   |    | \n",
      "   |    | Menu - 'System'    (L-31992, T-31992, R-31970, B-31970)\n",
      "   |    | ['Menu', 'SystemMenu', 'System', 'System0', 'System1', 'Menu0', 'Menu1']\n",
      "   |    | child_window(title=\"System\", control_type=\"MenuBar\")\n",
      "   |    |    | \n",
      "   |    |    | MenuItem - 'System'    (L-31992, T-31992, R-31970, B-31970)\n",
      "   |    |    | ['SystemMenuItem', 'System2', 'MenuItem', 'MenuItem0', 'MenuItem1']\n",
      "   |    |    | child_window(title=\"System\", control_type=\"MenuItem\")\n",
      "   |    | \n",
      "   |    | Button - 'Restore'    (L-31942, T-32004, R-31914, B-31983)\n",
      "   |    | ['Restore', 'RestoreButton', 'Button21']\n",
      "   |    | child_window(title=\"Restore\", control_type=\"Button\")\n",
      "   |    | \n",
      "   |    | Button - 'Maximize'    (L-31914, T-32004, R-31888, B-31983)\n",
      "   |    | ['MaximizeButton', 'Maximize', 'Button22']\n",
      "   |    | child_window(title=\"Maximize\", control_type=\"Button\")\n",
      "   |    | \n",
      "   |    | Button - 'Close'    (L-31888, T-32004, R-31841, B-31983)\n",
      "   |    | ['Close', 'CloseButton', 'Button23']\n",
      "   |    | child_window(title=\"Close\", control_type=\"Button\")\n",
      "   | \n",
      "   | Menu - 'Application'    (L-31992, T-31992, R-31648, B-31973)\n",
      "   | ['Menu2', 'Application', 'ApplicationMenu']\n",
      "   | child_window(title=\"Application\", control_type=\"MenuBar\")\n",
      "   |    | \n",
      "   |    | MenuItem - 'File'    (L-31997, T-31974, R-31965, B-31955)\n",
      "   |    | ['File', 'FileMenuItem', 'MenuItem2']\n",
      "   |    | child_window(title=\"File\", control_type=\"MenuItem\")\n",
      "   |    | \n",
      "   |    | MenuItem - 'View'    (L-31965, T-31974, R-31926, B-31955)\n",
      "   |    | ['View', 'ViewMenuItem', 'MenuItem3']\n",
      "   |    | child_window(title=\"View\", control_type=\"MenuItem\")\n",
      "   |    | \n",
      "   |    | MenuItem - 'Options'    (L-31926, T-31974, R-31870, B-31955)\n",
      "   |    | ['Options', 'OptionsMenuItem', 'MenuItem4']\n",
      "   |    | child_window(title=\"Options\", control_type=\"MenuItem\")\n",
      "   |    | \n",
      "   |    | MenuItem - 'Help'    (L-31870, T-31974, R-31831, B-31955)\n",
      "   |    | ['HelpMenuItem', 'Help', 'MenuItem5']\n",
      "   |    | child_window(title=\"Help\", control_type=\"MenuItem\")\n"
     ]
    }
   ],
   "source": [
    "main_dlg.print_control_identifiers()"
   ]
  },
  {
   "cell_type": "code",
   "execution_count": 14,
   "metadata": {},
   "outputs": [],
   "source": [
    "from pywinauto.application import Application\n",
    "app = Application(backend=\"uia\").connect(title_re=\".*Untitled - Notepad*\")\n",
    "main_dlg = app.window(title='Untitled - Notepad')"
   ]
  },
  {
   "cell_type": "code",
   "execution_count": 15,
   "metadata": {},
   "outputs": [
    {
     "name": "stdout",
     "output_type": "stream",
     "text": [
      "Control Identifiers:\n",
      "\n",
      "Dialog - 'Untitled - Notepad'    (L355, T128, R1097, B652)\n",
      "['Dialog', 'Untitled - NotepadDialog', 'Untitled - Notepad']\n",
      "child_window(title=\"Untitled - Notepad\", control_type=\"Window\")\n",
      "   | \n",
      "   | Edit - ''    (L363, T179, R1089, B621)\n",
      "   | ['', 'Edit', '0', '1', 'Edit0', 'Edit1']\n",
      "   | child_window(auto_id=\"15\", control_type=\"Edit\")\n",
      "   |    | \n",
      "   |    | ScrollBar - 'Vertical'    (L1070, T181, R1087, B602)\n",
      "   |    | ['Vertical', 'VerticalScrollBar', 'ScrollBar', 'ScrollBar0', 'ScrollBar1']\n",
      "   |    | child_window(title=\"Vertical\", auto_id=\"NonClientVerticalScrollBar\", control_type=\"ScrollBar\")\n",
      "   |    |    | \n",
      "   |    |    | Button - 'Line up'    (L1070, T181, R1087, B198)\n",
      "   |    |    | ['Line upButton', 'Line up', 'Button', 'Button0', 'Button1']\n",
      "   |    |    | child_window(title=\"Line up\", auto_id=\"UpButton\", control_type=\"Button\")\n",
      "   |    |    | \n",
      "   |    |    | Button - 'Line down'    (L1070, T585, R1087, B602)\n",
      "   |    |    | ['Line down', 'Line downButton', 'Button2']\n",
      "   |    |    | child_window(title=\"Line down\", auto_id=\"DownButton\", control_type=\"Button\")\n",
      "   |    | \n",
      "   |    | ScrollBar - 'Horizontal'    (L365, T602, R1070, B619)\n",
      "   |    | ['HorizontalScrollBar', 'Horizontal', 'ScrollBar2']\n",
      "   |    | child_window(title=\"Horizontal\", auto_id=\"NonClientHorizontalScrollBar\", control_type=\"ScrollBar\")\n",
      "   |    |    | \n",
      "   |    |    | Button - 'Column left'    (L365, T602, R382, B619)\n",
      "   |    |    | ['Column left', 'Column leftButton', 'Button3']\n",
      "   |    |    | child_window(title=\"Column left\", auto_id=\"UpButton\", control_type=\"Button\")\n",
      "   |    |    | \n",
      "   |    |    | Button - 'Column right'    (L1053, T602, R1070, B619)\n",
      "   |    |    | ['Column right', 'Column rightButton', 'Button4']\n",
      "   |    |    | child_window(title=\"Column right\", auto_id=\"DownButton\", control_type=\"Button\")\n",
      "   |    | \n",
      "   |    | Thumb - ''    (L1070, T602, R1087, B619)\n",
      "   |    | ['2', 'Thumb']\n",
      "   | \n",
      "   | StatusBar - ''    (L363, T621, R1089, B644)\n",
      "   | ['StatusBar', '   Ln 1, Col 1  StatusBar']\n",
      "   | child_window(auto_id=\"1025\", control_type=\"StatusBar\")\n",
      "   |    | \n",
      "   |    | Static - ''    (L363, T623, R907, B644)\n",
      "   |    | ['Static', '3', 'Static0', 'Static1']\n",
      "   |    | \n",
      "   |    | Static - '   Ln 1, Col 1  '    (L909, T623, R1073, B644)\n",
      "   |    | ['Static2', '   Ln 1, Col 1  Static', '   Ln 1, Col 1  ']\n",
      "   |    | child_window(title=\"   Ln 1, Col 1  \", control_type=\"Text\")\n",
      "   | \n",
      "   | TitleBar - ''    (L379, T131, R1089, B159)\n",
      "   | ['4', 'TitleBar']\n",
      "   |    | \n",
      "   |    | Menu - 'System'    (L363, T136, R385, B158)\n",
      "   |    | ['Menu', 'SystemMenu', 'System', 'System0', 'System1', 'Menu0', 'Menu1']\n",
      "   |    | child_window(title=\"System\", auto_id=\"MenuBar\", control_type=\"MenuBar\")\n",
      "   |    |    | \n",
      "   |    |    | MenuItem - 'System'    (L363, T136, R385, B158)\n",
      "   |    |    | ['SystemMenuItem', 'System2', 'MenuItem', 'MenuItem0', 'MenuItem1']\n",
      "   |    |    | child_window(title=\"System\", control_type=\"MenuItem\")\n",
      "   |    | \n",
      "   |    | Button - 'Minimize'    (L990, T129, R1018, B150)\n",
      "   |    | ['Minimize', 'MinimizeButton', 'Button5']\n",
      "   |    | child_window(title=\"Minimize\", control_type=\"Button\")\n",
      "   |    | \n",
      "   |    | Button - 'Maximize'    (L1018, T129, R1044, B150)\n",
      "   |    | ['MaximizeButton', 'Maximize', 'Button6']\n",
      "   |    | child_window(title=\"Maximize\", control_type=\"Button\")\n",
      "   |    | \n",
      "   |    | Button - 'Close'    (L1044, T129, R1091, B150)\n",
      "   |    | ['Close', 'CloseButton', 'Button7']\n",
      "   |    | child_window(title=\"Close\", control_type=\"Button\")\n",
      "   | \n",
      "   | Menu - 'Application'    (L363, T159, R1089, B178)\n",
      "   | ['Menu2', 'Application', 'ApplicationMenu']\n",
      "   | child_window(title=\"Application\", auto_id=\"MenuBar\", control_type=\"MenuBar\")\n",
      "   |    | \n",
      "   |    | MenuItem - 'File'    (L363, T159, R395, B178)\n",
      "   |    | ['File', 'FileMenuItem', 'MenuItem2']\n",
      "   |    | child_window(title=\"File\", control_type=\"MenuItem\")\n",
      "   |    | \n",
      "   |    | MenuItem - 'Edit'    (L395, T159, R429, B178)\n",
      "   |    | ['Edit2', 'EditMenuItem', 'MenuItem3']\n",
      "   |    | child_window(title=\"Edit\", control_type=\"MenuItem\")\n",
      "   |    | \n",
      "   |    | MenuItem - 'Format'    (L429, T159, R481, B178)\n",
      "   |    | ['FormatMenuItem', 'Format', 'MenuItem4']\n",
      "   |    | child_window(title=\"Format\", control_type=\"MenuItem\")\n",
      "   |    | \n",
      "   |    | MenuItem - 'View'    (L481, T159, R520, B178)\n",
      "   |    | ['View', 'ViewMenuItem', 'MenuItem5']\n",
      "   |    | child_window(title=\"View\", control_type=\"MenuItem\")\n",
      "   |    | \n",
      "   |    | MenuItem - 'Help'    (L520, T159, R559, B178)\n",
      "   |    | ['HelpMenuItem', 'Help', 'MenuItem6']\n",
      "   |    | child_window(title=\"Help\", control_type=\"MenuItem\")\n"
     ]
    }
   ],
   "source": [
    "main_dlg.print_control_identifiers()"
   ]
  },
  {
   "cell_type": "code",
   "execution_count": null,
   "metadata": {},
   "outputs": [],
   "source": []
  }
 ],
 "metadata": {
  "kernelspec": {
   "display_name": "Python 3",
   "language": "python",
   "name": "python3"
  },
  "language_info": {
   "codemirror_mode": {
    "name": "ipython",
    "version": 3
   },
   "file_extension": ".py",
   "mimetype": "text/x-python",
   "name": "python",
   "nbconvert_exporter": "python",
   "pygments_lexer": "ipython3",
   "version": "3.7.3"
  }
 },
 "nbformat": 4,
 "nbformat_minor": 2
}
