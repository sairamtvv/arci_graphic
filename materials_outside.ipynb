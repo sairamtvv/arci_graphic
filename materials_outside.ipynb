{
 "cells": [
  {
   "cell_type": "code",
   "execution_count": 153,
   "metadata": {},
   "outputs": [],
   "source": [
    "import numpy as np\n",
    "import pandas as pd\n",
    "\n"
   ]
  },
  {
   "cell_type": "code",
   "execution_count": 154,
   "metadata": {},
   "outputs": [
    {
     "data": {
      "text/html": [
       "<div>\n",
       "<style scoped>\n",
       "    .dataframe tbody tr th:only-of-type {\n",
       "        vertical-align: middle;\n",
       "    }\n",
       "\n",
       "    .dataframe tbody tr th {\n",
       "        vertical-align: top;\n",
       "    }\n",
       "\n",
       "    .dataframe thead th {\n",
       "        text-align: right;\n",
       "    }\n",
       "</style>\n",
       "<table border=\"1\" class=\"dataframe\">\n",
       "  <thead>\n",
       "    <tr style=\"text-align: right;\">\n",
       "      <th></th>\n",
       "      <th>0</th>\n",
       "      <th>1</th>\n",
       "      <th>2</th>\n",
       "      <th>3</th>\n",
       "      <th>4</th>\n",
       "    </tr>\n",
       "  </thead>\n",
       "  <tbody>\n",
       "    <tr>\n",
       "      <th>0</th>\n",
       "      <td>0.6769</td>\n",
       "      <td>-0.193740</td>\n",
       "      <td>-0.000057</td>\n",
       "      <td>611.297878</td>\n",
       "      <td>-0.000064</td>\n",
       "    </tr>\n",
       "    <tr>\n",
       "      <th>1</th>\n",
       "      <td>0.6319</td>\n",
       "      <td>-0.193631</td>\n",
       "      <td>0.000277</td>\n",
       "      <td>615.021508</td>\n",
       "      <td>0.000266</td>\n",
       "    </tr>\n",
       "    <tr>\n",
       "      <th>2</th>\n",
       "      <td>0.5786</td>\n",
       "      <td>-0.193603</td>\n",
       "      <td>0.000367</td>\n",
       "      <td>615.587909</td>\n",
       "      <td>0.000367</td>\n",
       "    </tr>\n",
       "    <tr>\n",
       "      <th>3</th>\n",
       "      <td>0.5272</td>\n",
       "      <td>-0.193690</td>\n",
       "      <td>0.000353</td>\n",
       "      <td>617.239465</td>\n",
       "      <td>0.000336</td>\n",
       "    </tr>\n",
       "    <tr>\n",
       "      <th>4</th>\n",
       "      <td>0.4767</td>\n",
       "      <td>-0.193881</td>\n",
       "      <td>0.000323</td>\n",
       "      <td>617.896090</td>\n",
       "      <td>0.000315</td>\n",
       "    </tr>\n",
       "    <tr>\n",
       "      <th>5</th>\n",
       "      <td>0.5272</td>\n",
       "      <td>-0.193674</td>\n",
       "      <td>0.000248</td>\n",
       "      <td>614.217327</td>\n",
       "      <td>0.000114</td>\n",
       "    </tr>\n",
       "    <tr>\n",
       "      <th>6</th>\n",
       "      <td>0.5786</td>\n",
       "      <td>-0.193613</td>\n",
       "      <td>0.000292</td>\n",
       "      <td>613.742153</td>\n",
       "      <td>0.000296</td>\n",
       "    </tr>\n",
       "    <tr>\n",
       "      <th>7</th>\n",
       "      <td>0.6319</td>\n",
       "      <td>-0.193630</td>\n",
       "      <td>0.000205</td>\n",
       "      <td>613.475936</td>\n",
       "      <td>0.000191</td>\n",
       "    </tr>\n",
       "    <tr>\n",
       "      <th>8</th>\n",
       "      <td>0.6769</td>\n",
       "      <td>-0.193747</td>\n",
       "      <td>-0.000025</td>\n",
       "      <td>609.764880</td>\n",
       "      <td>-0.000034</td>\n",
       "    </tr>\n",
       "  </tbody>\n",
       "</table>\n",
       "</div>"
      ],
      "text/plain": [
       "        0         1         2           3         4\n",
       "0  0.6769 -0.193740 -0.000057  611.297878 -0.000064\n",
       "1  0.6319 -0.193631  0.000277  615.021508  0.000266\n",
       "2  0.5786 -0.193603  0.000367  615.587909  0.000367\n",
       "3  0.5272 -0.193690  0.000353  617.239465  0.000336\n",
       "4  0.4767 -0.193881  0.000323  617.896090  0.000315\n",
       "5  0.5272 -0.193674  0.000248  614.217327  0.000114\n",
       "6  0.5786 -0.193613  0.000292  613.742153  0.000296\n",
       "7  0.6319 -0.193630  0.000205  613.475936  0.000191\n",
       "8  0.6769 -0.193747 -0.000025  609.764880 -0.000034"
      ]
     },
     "execution_count": 154,
     "metadata": {},
     "output_type": "execute_result"
    }
   ],
   "source": [
    "a1 = pd.read_csv('RESULT1.DAT',header=None,delimiter= '\\s+',skiprows=1)\n",
    "a1"
   ]
  },
  {
   "cell_type": "code",
   "execution_count": 155,
   "metadata": {
    "scrolled": true
   },
   "outputs": [
    {
     "data": {
      "text/html": [
       "<div>\n",
       "<style scoped>\n",
       "    .dataframe tbody tr th:only-of-type {\n",
       "        vertical-align: middle;\n",
       "    }\n",
       "\n",
       "    .dataframe tbody tr th {\n",
       "        vertical-align: top;\n",
       "    }\n",
       "\n",
       "    .dataframe thead th {\n",
       "        text-align: right;\n",
       "    }\n",
       "</style>\n",
       "<table border=\"1\" class=\"dataframe\">\n",
       "  <thead>\n",
       "    <tr style=\"text-align: right;\">\n",
       "      <th></th>\n",
       "      <th>0</th>\n",
       "      <th>1</th>\n",
       "      <th>2</th>\n",
       "      <th>3</th>\n",
       "      <th>4</th>\n",
       "    </tr>\n",
       "  </thead>\n",
       "  <tbody>\n",
       "    <tr>\n",
       "      <th>0</th>\n",
       "      <td>Ts</td>\n",
       "      <td>Scale</td>\n",
       "      <td>Bias12</td>\n",
       "      <td>Misalign34</td>\n",
       "      <td>Bias34</td>\n",
       "    </tr>\n",
       "    <tr>\n",
       "      <th>1</th>\n",
       "      <td>0.6769</td>\n",
       "      <td>-0.1937423</td>\n",
       "      <td>-0.0000570</td>\n",
       "      <td>610.2992645</td>\n",
       "      <td>-0.0000624</td>\n",
       "    </tr>\n",
       "    <tr>\n",
       "      <th>2</th>\n",
       "      <td>0.6319</td>\n",
       "      <td>-0.1936312</td>\n",
       "      <td>0.0002899</td>\n",
       "      <td>613.6487770</td>\n",
       "      <td>0.0002862</td>\n",
       "    </tr>\n",
       "    <tr>\n",
       "      <th>3</th>\n",
       "      <td>0.5786</td>\n",
       "      <td>-0.1936049</td>\n",
       "      <td>0.0003659</td>\n",
       "      <td>615.9919072</td>\n",
       "      <td>0.0003615</td>\n",
       "    </tr>\n",
       "    <tr>\n",
       "      <th>4</th>\n",
       "      <td>0.5272</td>\n",
       "      <td>-0.1936909</td>\n",
       "      <td>0.0003647</td>\n",
       "      <td>618.3569825</td>\n",
       "      <td>0.0003511</td>\n",
       "    </tr>\n",
       "    <tr>\n",
       "      <th>5</th>\n",
       "      <td>0.4767</td>\n",
       "      <td>-0.1938799</td>\n",
       "      <td>0.0003236</td>\n",
       "      <td>618.3972923</td>\n",
       "      <td>0.0003029</td>\n",
       "    </tr>\n",
       "    <tr>\n",
       "      <th>6</th>\n",
       "      <td>0.5272</td>\n",
       "      <td>-0.1936732</td>\n",
       "      <td>0.0002297</td>\n",
       "      <td>612.4906674</td>\n",
       "      <td>0.0000978</td>\n",
       "    </tr>\n",
       "    <tr>\n",
       "      <th>7</th>\n",
       "      <td>0.5786</td>\n",
       "      <td>-0.1936120</td>\n",
       "      <td>0.0002921</td>\n",
       "      <td>613.8489650</td>\n",
       "      <td>0.0002961</td>\n",
       "    </tr>\n",
       "    <tr>\n",
       "      <th>8</th>\n",
       "      <td>0.6319</td>\n",
       "      <td>-0.1936299</td>\n",
       "      <td>0.0002047</td>\n",
       "      <td>613.0784474</td>\n",
       "      <td>0.0001937</td>\n",
       "    </tr>\n",
       "    <tr>\n",
       "      <th>9</th>\n",
       "      <td>0.6769</td>\n",
       "      <td>-0.1937442</td>\n",
       "      <td>-0.0000013</td>\n",
       "      <td>610.1830544</td>\n",
       "      <td>-0.0000109</td>\n",
       "    </tr>\n",
       "  </tbody>\n",
       "</table>\n",
       "</div>"
      ],
      "text/plain": [
       "        0           1           2            3           4\n",
       "0      Ts       Scale      Bias12   Misalign34      Bias34\n",
       "1  0.6769  -0.1937423  -0.0000570  610.2992645  -0.0000624\n",
       "2  0.6319  -0.1936312   0.0002899  613.6487770   0.0002862\n",
       "3  0.5786  -0.1936049   0.0003659  615.9919072   0.0003615\n",
       "4  0.5272  -0.1936909   0.0003647  618.3569825   0.0003511\n",
       "5  0.4767  -0.1938799   0.0003236  618.3972923   0.0003029\n",
       "6  0.5272  -0.1936732   0.0002297  612.4906674   0.0000978\n",
       "7  0.5786  -0.1936120   0.0002921  613.8489650   0.0002961\n",
       "8  0.6319  -0.1936299   0.0002047  613.0784474   0.0001937\n",
       "9  0.6769  -0.1937442  -0.0000013  610.1830544  -0.0000109"
      ]
     },
     "execution_count": 155,
     "metadata": {},
     "output_type": "execute_result"
    }
   ],
   "source": [
    "a2 = pd.read_csv('RESULT2.DAT',header=None,delimiter= '\\s+')\n",
    "a2"
   ]
  },
  {
   "cell_type": "code",
   "execution_count": 156,
   "metadata": {},
   "outputs": [
    {
     "data": {
      "text/html": [
       "<div>\n",
       "<style scoped>\n",
       "    .dataframe tbody tr th:only-of-type {\n",
       "        vertical-align: middle;\n",
       "    }\n",
       "\n",
       "    .dataframe tbody tr th {\n",
       "        vertical-align: top;\n",
       "    }\n",
       "\n",
       "    .dataframe thead th {\n",
       "        text-align: right;\n",
       "    }\n",
       "</style>\n",
       "<table border=\"1\" class=\"dataframe\">\n",
       "  <thead>\n",
       "    <tr style=\"text-align: right;\">\n",
       "      <th></th>\n",
       "      <th>0</th>\n",
       "      <th>1</th>\n",
       "      <th>2</th>\n",
       "      <th>3</th>\n",
       "      <th>4</th>\n",
       "    </tr>\n",
       "  </thead>\n",
       "  <tbody>\n",
       "    <tr>\n",
       "      <th>0</th>\n",
       "      <td>Ts</td>\n",
       "      <td>Scale</td>\n",
       "      <td>Bias12</td>\n",
       "      <td>Misalign34</td>\n",
       "      <td>Bias34</td>\n",
       "    </tr>\n",
       "    <tr>\n",
       "      <th>1</th>\n",
       "      <td>0.6769</td>\n",
       "      <td>-0.1937403</td>\n",
       "      <td>-0.0000694</td>\n",
       "      <td>611.8344614</td>\n",
       "      <td>-0.0000749</td>\n",
       "    </tr>\n",
       "    <tr>\n",
       "      <th>2</th>\n",
       "      <td>0.6319</td>\n",
       "      <td>-0.1936305</td>\n",
       "      <td>0.0002835</td>\n",
       "      <td>614.5246057</td>\n",
       "      <td>0.0002774</td>\n",
       "    </tr>\n",
       "    <tr>\n",
       "      <th>3</th>\n",
       "      <td>0.5786</td>\n",
       "      <td>-0.1936039</td>\n",
       "      <td>0.0003603</td>\n",
       "      <td>617.1824511</td>\n",
       "      <td>0.0003549</td>\n",
       "    </tr>\n",
       "    <tr>\n",
       "      <th>4</th>\n",
       "      <td>0.5272</td>\n",
       "      <td>-0.1936883</td>\n",
       "      <td>0.0003701</td>\n",
       "      <td>619.8824906</td>\n",
       "      <td>0.0003583</td>\n",
       "    </tr>\n",
       "    <tr>\n",
       "      <th>5</th>\n",
       "      <td>0.4767</td>\n",
       "      <td>-0.1938773</td>\n",
       "      <td>0.0003264</td>\n",
       "      <td>617.8535340</td>\n",
       "      <td>0.0003091</td>\n",
       "    </tr>\n",
       "    <tr>\n",
       "      <th>6</th>\n",
       "      <td>0.5272</td>\n",
       "      <td>-0.1936720</td>\n",
       "      <td>0.0002158</td>\n",
       "      <td>612.8916993</td>\n",
       "      <td>0.0000696</td>\n",
       "    </tr>\n",
       "    <tr>\n",
       "      <th>7</th>\n",
       "      <td>0.5786</td>\n",
       "      <td>-0.1936122</td>\n",
       "      <td>0.0002782</td>\n",
       "      <td>614.9291713</td>\n",
       "      <td>0.0002794</td>\n",
       "    </tr>\n",
       "    <tr>\n",
       "      <th>8</th>\n",
       "      <td>0.6319</td>\n",
       "      <td>-0.1936295</td>\n",
       "      <td>0.0002008</td>\n",
       "      <td>613.8936040</td>\n",
       "      <td>0.0001896</td>\n",
       "    </tr>\n",
       "    <tr>\n",
       "      <th>9</th>\n",
       "      <td>0.6769</td>\n",
       "      <td>-0.1937449</td>\n",
       "      <td>-0.0000057</td>\n",
       "      <td>610.3036004</td>\n",
       "      <td>-0.0000145</td>\n",
       "    </tr>\n",
       "  </tbody>\n",
       "</table>\n",
       "</div>"
      ],
      "text/plain": [
       "        0           1           2            3           4\n",
       "0      Ts       Scale      Bias12   Misalign34      Bias34\n",
       "1  0.6769  -0.1937403  -0.0000694  611.8344614  -0.0000749\n",
       "2  0.6319  -0.1936305   0.0002835  614.5246057   0.0002774\n",
       "3  0.5786  -0.1936039   0.0003603  617.1824511   0.0003549\n",
       "4  0.5272  -0.1936883   0.0003701  619.8824906   0.0003583\n",
       "5  0.4767  -0.1938773   0.0003264  617.8535340   0.0003091\n",
       "6  0.5272  -0.1936720   0.0002158  612.8916993   0.0000696\n",
       "7  0.5786  -0.1936122   0.0002782  614.9291713   0.0002794\n",
       "8  0.6319  -0.1936295   0.0002008  613.8936040   0.0001896\n",
       "9  0.6769  -0.1937449  -0.0000057  610.3036004  -0.0000145"
      ]
     },
     "execution_count": 156,
     "metadata": {},
     "output_type": "execute_result"
    }
   ],
   "source": [
    "a3 = pd.read_csv('RESULT3.DAT',header=None,delimiter= '\\s+')\n",
    "a3"
   ]
  },
  {
   "cell_type": "code",
   "execution_count": null,
   "metadata": {},
   "outputs": [],
   "source": []
  },
  {
   "cell_type": "code",
   "execution_count": 157,
   "metadata": {},
   "outputs": [],
   "source": [
    "a3.insert(0,\"TS\",a3[0])\n"
   ]
  },
  {
   "cell_type": "markdown",
   "metadata": {},
   "source": []
  },
  {
   "cell_type": "code",
   "execution_count": 158,
   "metadata": {},
   "outputs": [
    {
     "data": {
      "text/html": [
       "<div>\n",
       "<style scoped>\n",
       "    .dataframe tbody tr th:only-of-type {\n",
       "        vertical-align: middle;\n",
       "    }\n",
       "\n",
       "    .dataframe tbody tr th {\n",
       "        vertical-align: top;\n",
       "    }\n",
       "\n",
       "    .dataframe thead th {\n",
       "        text-align: right;\n",
       "    }\n",
       "</style>\n",
       "<table border=\"1\" class=\"dataframe\">\n",
       "  <thead>\n",
       "    <tr style=\"text-align: right;\">\n",
       "      <th></th>\n",
       "      <th>TS</th>\n",
       "      <th>0</th>\n",
       "      <th>1</th>\n",
       "      <th>2</th>\n",
       "      <th>3</th>\n",
       "      <th>4</th>\n",
       "    </tr>\n",
       "  </thead>\n",
       "  <tbody>\n",
       "    <tr>\n",
       "      <th>0</th>\n",
       "      <td>Ts</td>\n",
       "      <td>Ts</td>\n",
       "      <td>Scale</td>\n",
       "      <td>Bias12</td>\n",
       "      <td>Misalign34</td>\n",
       "      <td>Bias34</td>\n",
       "    </tr>\n",
       "    <tr>\n",
       "      <th>1</th>\n",
       "      <td>0.6769</td>\n",
       "      <td>0.6769</td>\n",
       "      <td>-0.1937403</td>\n",
       "      <td>-0.0000694</td>\n",
       "      <td>611.8344614</td>\n",
       "      <td>-0.0000749</td>\n",
       "    </tr>\n",
       "    <tr>\n",
       "      <th>2</th>\n",
       "      <td>0.6319</td>\n",
       "      <td>0.6319</td>\n",
       "      <td>-0.1936305</td>\n",
       "      <td>0.0002835</td>\n",
       "      <td>614.5246057</td>\n",
       "      <td>0.0002774</td>\n",
       "    </tr>\n",
       "    <tr>\n",
       "      <th>3</th>\n",
       "      <td>0.5786</td>\n",
       "      <td>0.5786</td>\n",
       "      <td>-0.1936039</td>\n",
       "      <td>0.0003603</td>\n",
       "      <td>617.1824511</td>\n",
       "      <td>0.0003549</td>\n",
       "    </tr>\n",
       "    <tr>\n",
       "      <th>4</th>\n",
       "      <td>0.5272</td>\n",
       "      <td>0.5272</td>\n",
       "      <td>-0.1936883</td>\n",
       "      <td>0.0003701</td>\n",
       "      <td>619.8824906</td>\n",
       "      <td>0.0003583</td>\n",
       "    </tr>\n",
       "    <tr>\n",
       "      <th>5</th>\n",
       "      <td>0.4767</td>\n",
       "      <td>0.4767</td>\n",
       "      <td>-0.1938773</td>\n",
       "      <td>0.0003264</td>\n",
       "      <td>617.8535340</td>\n",
       "      <td>0.0003091</td>\n",
       "    </tr>\n",
       "    <tr>\n",
       "      <th>6</th>\n",
       "      <td>0.5272</td>\n",
       "      <td>0.5272</td>\n",
       "      <td>-0.1936720</td>\n",
       "      <td>0.0002158</td>\n",
       "      <td>612.8916993</td>\n",
       "      <td>0.0000696</td>\n",
       "    </tr>\n",
       "    <tr>\n",
       "      <th>7</th>\n",
       "      <td>0.5786</td>\n",
       "      <td>0.5786</td>\n",
       "      <td>-0.1936122</td>\n",
       "      <td>0.0002782</td>\n",
       "      <td>614.9291713</td>\n",
       "      <td>0.0002794</td>\n",
       "    </tr>\n",
       "    <tr>\n",
       "      <th>8</th>\n",
       "      <td>0.6319</td>\n",
       "      <td>0.6319</td>\n",
       "      <td>-0.1936295</td>\n",
       "      <td>0.0002008</td>\n",
       "      <td>613.8936040</td>\n",
       "      <td>0.0001896</td>\n",
       "    </tr>\n",
       "    <tr>\n",
       "      <th>9</th>\n",
       "      <td>0.6769</td>\n",
       "      <td>0.6769</td>\n",
       "      <td>-0.1937449</td>\n",
       "      <td>-0.0000057</td>\n",
       "      <td>610.3036004</td>\n",
       "      <td>-0.0000145</td>\n",
       "    </tr>\n",
       "  </tbody>\n",
       "</table>\n",
       "</div>"
      ],
      "text/plain": [
       "       TS       0           1           2            3           4\n",
       "0      Ts      Ts       Scale      Bias12   Misalign34      Bias34\n",
       "1  0.6769  0.6769  -0.1937403  -0.0000694  611.8344614  -0.0000749\n",
       "2  0.6319  0.6319  -0.1936305   0.0002835  614.5246057   0.0002774\n",
       "3  0.5786  0.5786  -0.1936039   0.0003603  617.1824511   0.0003549\n",
       "4  0.5272  0.5272  -0.1936883   0.0003701  619.8824906   0.0003583\n",
       "5  0.4767  0.4767  -0.1938773   0.0003264  617.8535340   0.0003091\n",
       "6  0.5272  0.5272  -0.1936720   0.0002158  612.8916993   0.0000696\n",
       "7  0.5786  0.5786  -0.1936122   0.0002782  614.9291713   0.0002794\n",
       "8  0.6319  0.6319  -0.1936295   0.0002008  613.8936040   0.0001896\n",
       "9  0.6769  0.6769  -0.1937449  -0.0000057  610.3036004  -0.0000145"
      ]
     },
     "execution_count": 158,
     "metadata": {},
     "output_type": "execute_result"
    }
   ],
   "source": [
    "a3"
   ]
  },
  {
   "cell_type": "code",
   "execution_count": 159,
   "metadata": {},
   "outputs": [
    {
     "data": {
      "text/plain": [
       "TS            Ts\n",
       "0             Ts\n",
       "1          Scale\n",
       "2         Bias12\n",
       "3     Misalign34\n",
       "4         Bias34\n",
       "Name: 0, dtype: object"
      ]
     },
     "execution_count": 159,
     "metadata": {},
     "output_type": "execute_result"
    }
   ],
   "source": [
    "a3.loc[0]"
   ]
  },
  {
   "cell_type": "code",
   "execution_count": 160,
   "metadata": {},
   "outputs": [],
   "source": [
    "a3.drop(0,axis=0,inplace=True)"
   ]
  },
  {
   "cell_type": "code",
   "execution_count": 161,
   "metadata": {},
   "outputs": [
    {
     "data": {
      "text/html": [
       "<div>\n",
       "<style scoped>\n",
       "    .dataframe tbody tr th:only-of-type {\n",
       "        vertical-align: middle;\n",
       "    }\n",
       "\n",
       "    .dataframe tbody tr th {\n",
       "        vertical-align: top;\n",
       "    }\n",
       "\n",
       "    .dataframe thead th {\n",
       "        text-align: right;\n",
       "    }\n",
       "</style>\n",
       "<table border=\"1\" class=\"dataframe\">\n",
       "  <thead>\n",
       "    <tr style=\"text-align: right;\">\n",
       "      <th></th>\n",
       "      <th>TS</th>\n",
       "      <th>0</th>\n",
       "      <th>1</th>\n",
       "      <th>2</th>\n",
       "      <th>3</th>\n",
       "      <th>4</th>\n",
       "    </tr>\n",
       "  </thead>\n",
       "  <tbody>\n",
       "    <tr>\n",
       "      <th>1</th>\n",
       "      <td>0.6769</td>\n",
       "      <td>0.6769</td>\n",
       "      <td>-0.1937403</td>\n",
       "      <td>-0.0000694</td>\n",
       "      <td>611.8344614</td>\n",
       "      <td>-0.0000749</td>\n",
       "    </tr>\n",
       "    <tr>\n",
       "      <th>2</th>\n",
       "      <td>0.6319</td>\n",
       "      <td>0.6319</td>\n",
       "      <td>-0.1936305</td>\n",
       "      <td>0.0002835</td>\n",
       "      <td>614.5246057</td>\n",
       "      <td>0.0002774</td>\n",
       "    </tr>\n",
       "    <tr>\n",
       "      <th>3</th>\n",
       "      <td>0.5786</td>\n",
       "      <td>0.5786</td>\n",
       "      <td>-0.1936039</td>\n",
       "      <td>0.0003603</td>\n",
       "      <td>617.1824511</td>\n",
       "      <td>0.0003549</td>\n",
       "    </tr>\n",
       "    <tr>\n",
       "      <th>4</th>\n",
       "      <td>0.5272</td>\n",
       "      <td>0.5272</td>\n",
       "      <td>-0.1936883</td>\n",
       "      <td>0.0003701</td>\n",
       "      <td>619.8824906</td>\n",
       "      <td>0.0003583</td>\n",
       "    </tr>\n",
       "    <tr>\n",
       "      <th>5</th>\n",
       "      <td>0.4767</td>\n",
       "      <td>0.4767</td>\n",
       "      <td>-0.1938773</td>\n",
       "      <td>0.0003264</td>\n",
       "      <td>617.8535340</td>\n",
       "      <td>0.0003091</td>\n",
       "    </tr>\n",
       "    <tr>\n",
       "      <th>6</th>\n",
       "      <td>0.5272</td>\n",
       "      <td>0.5272</td>\n",
       "      <td>-0.1936720</td>\n",
       "      <td>0.0002158</td>\n",
       "      <td>612.8916993</td>\n",
       "      <td>0.0000696</td>\n",
       "    </tr>\n",
       "    <tr>\n",
       "      <th>7</th>\n",
       "      <td>0.5786</td>\n",
       "      <td>0.5786</td>\n",
       "      <td>-0.1936122</td>\n",
       "      <td>0.0002782</td>\n",
       "      <td>614.9291713</td>\n",
       "      <td>0.0002794</td>\n",
       "    </tr>\n",
       "    <tr>\n",
       "      <th>8</th>\n",
       "      <td>0.6319</td>\n",
       "      <td>0.6319</td>\n",
       "      <td>-0.1936295</td>\n",
       "      <td>0.0002008</td>\n",
       "      <td>613.8936040</td>\n",
       "      <td>0.0001896</td>\n",
       "    </tr>\n",
       "    <tr>\n",
       "      <th>9</th>\n",
       "      <td>0.6769</td>\n",
       "      <td>0.6769</td>\n",
       "      <td>-0.1937449</td>\n",
       "      <td>-0.0000057</td>\n",
       "      <td>610.3036004</td>\n",
       "      <td>-0.0000145</td>\n",
       "    </tr>\n",
       "  </tbody>\n",
       "</table>\n",
       "</div>"
      ],
      "text/plain": [
       "       TS       0           1           2            3           4\n",
       "1  0.6769  0.6769  -0.1937403  -0.0000694  611.8344614  -0.0000749\n",
       "2  0.6319  0.6319  -0.1936305   0.0002835  614.5246057   0.0002774\n",
       "3  0.5786  0.5786  -0.1936039   0.0003603  617.1824511   0.0003549\n",
       "4  0.5272  0.5272  -0.1936883   0.0003701  619.8824906   0.0003583\n",
       "5  0.4767  0.4767  -0.1938773   0.0003264  617.8535340   0.0003091\n",
       "6  0.5272  0.5272  -0.1936720   0.0002158  612.8916993   0.0000696\n",
       "7  0.5786  0.5786  -0.1936122   0.0002782  614.9291713   0.0002794\n",
       "8  0.6319  0.6319  -0.1936295   0.0002008  613.8936040   0.0001896\n",
       "9  0.6769  0.6769  -0.1937449  -0.0000057  610.3036004  -0.0000145"
      ]
     },
     "execution_count": 161,
     "metadata": {},
     "output_type": "execute_result"
    }
   ],
   "source": [
    "a3"
   ]
  },
  {
   "cell_type": "code",
   "execution_count": 162,
   "metadata": {},
   "outputs": [
    {
     "ename": "ValueError",
     "evalue": "Length of values does not match length of index",
     "output_type": "error",
     "traceback": [
      "\u001b[1;31m---------------------------------------------------------------------------\u001b[0m",
      "\u001b[1;31mValueError\u001b[0m                                Traceback (most recent call last)",
      "\u001b[1;32m<ipython-input-162-e840fcc44845>\u001b[0m in \u001b[0;36m<module>\u001b[1;34m\u001b[0m\n\u001b[1;32m----> 1\u001b[1;33m \u001b[0mdf\u001b[0m\u001b[1;33m.\u001b[0m\u001b[0minsert\u001b[0m\u001b[1;33m(\u001b[0m\u001b[1;36m2\u001b[0m\u001b[1;33m,\u001b[0m \u001b[1;34m\"Age\"\u001b[0m\u001b[1;33m,\u001b[0m \u001b[1;33m[\u001b[0m\u001b[1;36m21\u001b[0m\u001b[1;33m,\u001b[0m \u001b[1;36m23\u001b[0m\u001b[1;33m,\u001b[0m \u001b[1;36m24\u001b[0m\u001b[1;33m,\u001b[0m \u001b[1;36m21\u001b[0m\u001b[1;33m]\u001b[0m\u001b[1;33m,\u001b[0m \u001b[1;32mTrue\u001b[0m\u001b[1;33m)\u001b[0m\u001b[1;33m\u001b[0m\u001b[1;33m\u001b[0m\u001b[0m\n\u001b[0m",
      "\u001b[1;32mC:\\ProgramData\\Anaconda3\\lib\\site-packages\\pandas\\core\\frame.py\u001b[0m in \u001b[0;36minsert\u001b[1;34m(self, loc, column, value, allow_duplicates)\u001b[0m\n\u001b[0;32m   3469\u001b[0m         \"\"\"\n\u001b[0;32m   3470\u001b[0m         \u001b[0mself\u001b[0m\u001b[1;33m.\u001b[0m\u001b[0m_ensure_valid_index\u001b[0m\u001b[1;33m(\u001b[0m\u001b[0mvalue\u001b[0m\u001b[1;33m)\u001b[0m\u001b[1;33m\u001b[0m\u001b[1;33m\u001b[0m\u001b[0m\n\u001b[1;32m-> 3471\u001b[1;33m         \u001b[0mvalue\u001b[0m \u001b[1;33m=\u001b[0m \u001b[0mself\u001b[0m\u001b[1;33m.\u001b[0m\u001b[0m_sanitize_column\u001b[0m\u001b[1;33m(\u001b[0m\u001b[0mcolumn\u001b[0m\u001b[1;33m,\u001b[0m \u001b[0mvalue\u001b[0m\u001b[1;33m,\u001b[0m \u001b[0mbroadcast\u001b[0m\u001b[1;33m=\u001b[0m\u001b[1;32mFalse\u001b[0m\u001b[1;33m)\u001b[0m\u001b[1;33m\u001b[0m\u001b[1;33m\u001b[0m\u001b[0m\n\u001b[0m\u001b[0;32m   3472\u001b[0m         self._data.insert(loc, column, value,\n\u001b[0;32m   3473\u001b[0m                           allow_duplicates=allow_duplicates)\n",
      "\u001b[1;32mC:\\ProgramData\\Anaconda3\\lib\\site-packages\\pandas\\core\\frame.py\u001b[0m in \u001b[0;36m_sanitize_column\u001b[1;34m(self, key, value, broadcast)\u001b[0m\n\u001b[0;32m   3628\u001b[0m \u001b[1;33m\u001b[0m\u001b[0m\n\u001b[0;32m   3629\u001b[0m             \u001b[1;31m# turn me into an ndarray\u001b[0m\u001b[1;33m\u001b[0m\u001b[1;33m\u001b[0m\u001b[1;33m\u001b[0m\u001b[0m\n\u001b[1;32m-> 3630\u001b[1;33m             \u001b[0mvalue\u001b[0m \u001b[1;33m=\u001b[0m \u001b[0msanitize_index\u001b[0m\u001b[1;33m(\u001b[0m\u001b[0mvalue\u001b[0m\u001b[1;33m,\u001b[0m \u001b[0mself\u001b[0m\u001b[1;33m.\u001b[0m\u001b[0mindex\u001b[0m\u001b[1;33m,\u001b[0m \u001b[0mcopy\u001b[0m\u001b[1;33m=\u001b[0m\u001b[1;32mFalse\u001b[0m\u001b[1;33m)\u001b[0m\u001b[1;33m\u001b[0m\u001b[1;33m\u001b[0m\u001b[0m\n\u001b[0m\u001b[0;32m   3631\u001b[0m             \u001b[1;32mif\u001b[0m \u001b[1;32mnot\u001b[0m \u001b[0misinstance\u001b[0m\u001b[1;33m(\u001b[0m\u001b[0mvalue\u001b[0m\u001b[1;33m,\u001b[0m \u001b[1;33m(\u001b[0m\u001b[0mnp\u001b[0m\u001b[1;33m.\u001b[0m\u001b[0mndarray\u001b[0m\u001b[1;33m,\u001b[0m \u001b[0mIndex\u001b[0m\u001b[1;33m)\u001b[0m\u001b[1;33m)\u001b[0m\u001b[1;33m:\u001b[0m\u001b[1;33m\u001b[0m\u001b[1;33m\u001b[0m\u001b[0m\n\u001b[0;32m   3632\u001b[0m                 \u001b[1;32mif\u001b[0m \u001b[0misinstance\u001b[0m\u001b[1;33m(\u001b[0m\u001b[0mvalue\u001b[0m\u001b[1;33m,\u001b[0m \u001b[0mlist\u001b[0m\u001b[1;33m)\u001b[0m \u001b[1;32mand\u001b[0m \u001b[0mlen\u001b[0m\u001b[1;33m(\u001b[0m\u001b[0mvalue\u001b[0m\u001b[1;33m)\u001b[0m \u001b[1;33m>\u001b[0m \u001b[1;36m0\u001b[0m\u001b[1;33m:\u001b[0m\u001b[1;33m\u001b[0m\u001b[1;33m\u001b[0m\u001b[0m\n",
      "\u001b[1;32mC:\\ProgramData\\Anaconda3\\lib\\site-packages\\pandas\\core\\internals\\construction.py\u001b[0m in \u001b[0;36msanitize_index\u001b[1;34m(data, index, copy)\u001b[0m\n\u001b[0;32m    517\u001b[0m \u001b[1;33m\u001b[0m\u001b[0m\n\u001b[0;32m    518\u001b[0m     \u001b[1;32mif\u001b[0m \u001b[0mlen\u001b[0m\u001b[1;33m(\u001b[0m\u001b[0mdata\u001b[0m\u001b[1;33m)\u001b[0m \u001b[1;33m!=\u001b[0m \u001b[0mlen\u001b[0m\u001b[1;33m(\u001b[0m\u001b[0mindex\u001b[0m\u001b[1;33m)\u001b[0m\u001b[1;33m:\u001b[0m\u001b[1;33m\u001b[0m\u001b[1;33m\u001b[0m\u001b[0m\n\u001b[1;32m--> 519\u001b[1;33m         \u001b[1;32mraise\u001b[0m \u001b[0mValueError\u001b[0m\u001b[1;33m(\u001b[0m\u001b[1;34m'Length of values does not match length of index'\u001b[0m\u001b[1;33m)\u001b[0m\u001b[1;33m\u001b[0m\u001b[1;33m\u001b[0m\u001b[0m\n\u001b[0m\u001b[0;32m    520\u001b[0m \u001b[1;33m\u001b[0m\u001b[0m\n\u001b[0;32m    521\u001b[0m     \u001b[1;32mif\u001b[0m \u001b[0misinstance\u001b[0m\u001b[1;33m(\u001b[0m\u001b[0mdata\u001b[0m\u001b[1;33m,\u001b[0m \u001b[0mABCIndexClass\u001b[0m\u001b[1;33m)\u001b[0m \u001b[1;32mand\u001b[0m \u001b[1;32mnot\u001b[0m \u001b[0mcopy\u001b[0m\u001b[1;33m:\u001b[0m\u001b[1;33m\u001b[0m\u001b[1;33m\u001b[0m\u001b[0m\n",
      "\u001b[1;31mValueError\u001b[0m: Length of values does not match length of index"
     ]
    }
   ],
   "source": [
    "df.insert(2, \"Age\", [21, 23, 24, 21], True) "
   ]
  },
  {
   "cell_type": "code",
   "execution_count": null,
   "metadata": {},
   "outputs": [],
   "source": [
    "numpy_matrix = a1.values()\n"
   ]
  },
  {
   "cell_type": "code",
   "execution_count": null,
   "metadata": {},
   "outputs": [],
   "source": [
    "a = np.asarray(a1)"
   ]
  },
  {
   "cell_type": "code",
   "execution_count": null,
   "metadata": {},
   "outputs": [],
   "source": [
    "np.size(a)\n"
   ]
  },
  {
   "cell_type": "code",
   "execution_count": null,
   "metadata": {},
   "outputs": [],
   "source": [
    "a"
   ]
  },
  {
   "cell_type": "code",
   "execution_count": null,
   "metadata": {},
   "outputs": [],
   "source": [
    "type(a)"
   ]
  },
  {
   "cell_type": "code",
   "execution_count": null,
   "metadata": {},
   "outputs": [],
   "source": [
    "size(a)"
   ]
  },
  {
   "cell_type": "code",
   "execution_count": null,
   "metadata": {},
   "outputs": [],
   "source": [
    "a.size()"
   ]
  },
  {
   "cell_type": "code",
   "execution_count": null,
   "metadata": {},
   "outputs": [],
   "source": [
    "type(a)"
   ]
  },
  {
   "cell_type": "code",
   "execution_count": null,
   "metadata": {},
   "outputs": [],
   "source": [
    "np.size(a)"
   ]
  },
  {
   "cell_type": "code",
   "execution_count": null,
   "metadata": {},
   "outputs": [],
   "source": [
    "a.size"
   ]
  },
  {
   "cell_type": "code",
   "execution_count": null,
   "metadata": {},
   "outputs": [],
   "source": [
    "a = np.asarray(a1)\n",
    "a.reshape(9,5)"
   ]
  },
  {
   "cell_type": "code",
   "execution_count": null,
   "metadata": {},
   "outputs": [],
   "source": [
    "b=a[:,4]"
   ]
  },
  {
   "cell_type": "code",
   "execution_count": null,
   "metadata": {},
   "outputs": [],
   "source": [
    "b"
   ]
  },
  {
   "cell_type": "code",
   "execution_count": null,
   "metadata": {},
   "outputs": [],
   "source": [
    "np.max(np.abs(a[:.4]))"
   ]
  },
  {
   "cell_type": "code",
   "execution_count": null,
   "metadata": {},
   "outputs": [],
   "source": [
    "b.indices(np.max(np.abs(b)))"
   ]
  },
  {
   "cell_type": "code",
   "execution_count": null,
   "metadata": {},
   "outputs": [],
   "source": [
    "I1 = a1.index(np.max(np.abs(a1))) "
   ]
  },
  {
   "cell_type": "code",
   "execution_count": null,
   "metadata": {},
   "outputs": [],
   "source": []
  },
  {
   "cell_type": "code",
   "execution_count": null,
   "metadata": {},
   "outputs": [],
   "source": []
  },
  {
   "cell_type": "code",
   "execution_count": null,
   "metadata": {},
   "outputs": [],
   "source": [
    "a = np.random.randint(0, 10, (4,4))\n"
   ]
  },
  {
   "cell_type": "code",
   "execution_count": null,
   "metadata": {},
   "outputs": [],
   "source": [
    "a"
   ]
  },
  {
   "cell_type": "code",
   "execution_count": null,
   "metadata": {},
   "outputs": [],
   "source": [
    "ind = np.unravel_index(np.argmax(a[:,3], axis=None), a[:,3].shape)[0]"
   ]
  },
  {
   "cell_type": "code",
   "execution_count": null,
   "metadata": {},
   "outputs": [],
   "source": [
    "ind"
   ]
  },
  {
   "cell_type": "code",
   "execution_count": null,
   "metadata": {},
   "outputs": [],
   "source": []
  },
  {
   "cell_type": "code",
   "execution_count": null,
   "metadata": {},
   "outputs": [],
   "source": []
  },
  {
   "cell_type": "code",
   "execution_count": null,
   "metadata": {},
   "outputs": [],
   "source": []
  },
  {
   "cell_type": "code",
   "execution_count": null,
   "metadata": {},
   "outputs": [],
   "source": [
    "a[1][1]"
   ]
  },
  {
   "cell_type": "code",
   "execution_count": null,
   "metadata": {},
   "outputs": [],
   "source": [
    "b=tuple(a)"
   ]
  },
  {
   "cell_type": "code",
   "execution_count": null,
   "metadata": {},
   "outputs": [],
   "source": [
    "b"
   ]
  },
  {
   "cell_type": "code",
   "execution_count": null,
   "metadata": {},
   "outputs": [],
   "source": [
    "b(1,1)"
   ]
  },
  {
   "cell_type": "code",
   "execution_count": null,
   "metadata": {},
   "outputs": [],
   "source": [
    "li=[1,2,3,4]"
   ]
  },
  {
   "cell_type": "code",
   "execution_count": null,
   "metadata": {},
   "outputs": [],
   "source": [
    "np.mean(li)"
   ]
  },
  {
   "cell_type": "code",
   "execution_count": null,
   "metadata": {},
   "outputs": [],
   "source": [
    "np.std(li)"
   ]
  },
  {
   "cell_type": "code",
   "execution_count": null,
   "metadata": {},
   "outputs": [],
   "source": [
    "a=[-372.675\t372.434\n",
    "-372.671\t372.437\n",
    "-372.669\t372.435\n",
    "-372.665\t372.435\n",
    "-372.666\t372.436\n",
    "-372.665\t372.439\n",
    "];"
   ]
  },
  {
   "cell_type": "code",
   "execution_count": null,
   "metadata": {},
   "outputs": [],
   "source": [
    "ax = [[-372.675,372.434],[-372.671,372.437],[-372.669,372.435],\n",
    "      [-372.665,372.435],[-372.666,372.436],[-372.665,372.439]]\n",
    "ax"
   ]
  },
  {
   "cell_type": "code",
   "execution_count": null,
   "metadata": {},
   "outputs": [],
   "source": [
    "u1=ax[4][1]\n",
    "u1"
   ]
  },
  {
   "cell_type": "code",
   "execution_count": null,
   "metadata": {},
   "outputs": [],
   "source": [
    "A = [[1, 4, 5, 12], \n",
    "    [-5, 8, 9, 0],\n",
    "    [-6, 7, 11, 19]]"
   ]
  },
  {
   "cell_type": "code",
   "execution_count": null,
   "metadata": {},
   "outputs": [],
   "source": [
    "A"
   ]
  },
  {
   "cell_type": "code",
   "execution_count": null,
   "metadata": {},
   "outputs": [],
   "source": []
  },
  {
   "cell_type": "code",
   "execution_count": null,
   "metadata": {},
   "outputs": [],
   "source": [
    "A[0][0]"
   ]
  },
  {
   "cell_type": "code",
   "execution_count": null,
   "metadata": {},
   "outputs": [],
   "source": [
    "a =  [[-372.675,372.434],[-372.671,372.437],[-372.669,372.435],\n",
    "      [-372.665,372.435],[-372.666,372.436],[-372.665,372.439]]"
   ]
  },
  {
   "cell_type": "code",
   "execution_count": null,
   "metadata": {},
   "outputs": [],
   "source": [
    "a[0][0]"
   ]
  },
  {
   "cell_type": "code",
   "execution_count": null,
   "metadata": {},
   "outputs": [],
   "source": [
    "a[:4]\n"
   ]
  },
  {
   "cell_type": "code",
   "execution_count": null,
   "metadata": {},
   "outputs": [],
   "source": [
    "import os"
   ]
  },
  {
   "cell_type": "code",
   "execution_count": null,
   "metadata": {},
   "outputs": [],
   "source": [
    "import docx\n",
    "from docx import Document"
   ]
  },
  {
   "cell_type": "code",
   "execution_count": null,
   "metadata": {},
   "outputs": [],
   "source": [
    "import docx\n",
    "from docx import Document\n",
    "import pandas as pd\n",
    "import numpy as np\n",
    "import os\n",
    "\n",
    "def doctable():\n",
    "    pathfile= os.path.join(os.path.expanduser('~'), 'Desktop', 'Materials')\n",
    "    panda_a1 = pd.read_csv('RESULT1.DAT',header=None,delimiter= '\\s+',skiprows=1)\n",
    "    array_a1 = np.asarray(panda_a1)\n",
    "    #print(np.size(array_a1))\n",
    "    a1=array_a1.reshape(9,5)\n",
    "    data=a1\n",
    "    #C:\\Users\\sairamtvv\\Desktop\\Materials\n",
    "    tabletitle=\"iughouhoihpij\"\n",
    "    document = Document()\n",
    "    data = pd.DataFrame(data)  # My input data is in the 2D list form\n",
    "    document.add_heading(tabletitle)\n",
    "    table = document.add_table(rows=(data.shape[0]), cols=data.shape[1])  # First row are table headers!\n",
    "    for i, column in enumerate(data) :\n",
    "        for row in range(data.shape[0]) :\n",
    "            table.cell(row, i).text = str(data[column][row])\n",
    "    document.save(pathfile)# save the doc\n",
    "\n",
    "\n",
    "# i am not sure how you are getting your data, but you said it is a\n",
    "# pandas data frame\n",
    "\n",
    "\n",
    "doctable()\n"
   ]
  },
  {
   "cell_type": "code",
   "execution_count": null,
   "metadata": {},
   "outputs": [],
   "source": [
    "os.path.join(os.path.expanduser('~'), 'Desktop', 'Materials')"
   ]
  },
  {
   "cell_type": "code",
   "execution_count": null,
   "metadata": {},
   "outputs": [],
   "source": [
    "a1"
   ]
  },
  {
   "cell_type": "code",
   "execution_count": null,
   "metadata": {},
   "outputs": [],
   "source": [
    "max_xy = np.where(a == a[0:4].max() )"
   ]
  },
  {
   "cell_type": "code",
   "execution_count": null,
   "metadata": {},
   "outputs": [],
   "source": [
    "max_xy"
   ]
  },
  {
   "cell_type": "code",
   "execution_count": null,
   "metadata": {},
   "outputs": [],
   "source": [
    "b=a"
   ]
  },
  {
   "cell_type": "code",
   "execution_count": null,
   "metadata": {},
   "outputs": [],
   "source": [
    "b\n"
   ]
  },
  {
   "cell_type": "code",
   "execution_count": null,
   "metadata": {},
   "outputs": [],
   "source": [
    "type(b)"
   ]
  },
  {
   "cell_type": "code",
   "execution_count": null,
   "metadata": {},
   "outputs": [],
   "source": [
    "a"
   ]
  },
  {
   "cell_type": "code",
   "execution_count": null,
   "metadata": {},
   "outputs": [],
   "source": [
    "a"
   ]
  },
  {
   "cell_type": "code",
   "execution_count": null,
   "metadata": {},
   "outputs": [],
   "source": [
    "type(a)"
   ]
  },
  {
   "cell_type": "code",
   "execution_count": null,
   "metadata": {},
   "outputs": [],
   "source": []
  },
  {
   "cell_type": "code",
   "execution_count": null,
   "metadata": {},
   "outputs": [],
   "source": []
  },
  {
   "cell_type": "code",
   "execution_count": null,
   "metadata": {},
   "outputs": [],
   "source": [
    "np.unravel_index(np.argmax(a1, axis=None), a1.shape)[0]"
   ]
  },
  {
   "cell_type": "code",
   "execution_count": null,
   "metadata": {},
   "outputs": [],
   "source": [
    "a = np.asarray(a1)\n",
    "a.reshape(9,5)"
   ]
  },
  {
   "cell_type": "code",
   "execution_count": null,
   "metadata": {},
   "outputs": [],
   "source": [
    "np.unravel_index(np.argmin(np.abs(a[:,2]), axis=None), np.abs(a[:,2]).shape)[0]"
   ]
  },
  {
   "cell_type": "code",
   "execution_count": null,
   "metadata": {},
   "outputs": [],
   "source": [
    "a1"
   ]
  },
  {
   "cell_type": "code",
   "execution_count": null,
   "metadata": {},
   "outputs": [],
   "source": [
    "np.transpose(a1)"
   ]
  },
  {
   "cell_type": "code",
   "execution_count": null,
   "metadata": {},
   "outputs": [],
   "source": [
    "xm=[1, -2 , -5]"
   ]
  },
  {
   "cell_type": "code",
   "execution_count": null,
   "metadata": {},
   "outputs": [],
   "source": [
    "I4 =  np.unravel_index(np.argmax(np.abs(xm), axis=None), np.abs(xm).shape)[0]"
   ]
  },
  {
   "cell_type": "code",
   "execution_count": null,
   "metadata": {},
   "outputs": [],
   "source": [
    "I4"
   ]
  },
  {
   "cell_type": "code",
   "execution_count": null,
   "metadata": {},
   "outputs": [],
   "source": [
    "xmm=np.transpose(xm);\n",
    "\n",
    "#[C4,I4]=max(abs(xm));\n",
    "I4 =  np.unravel_index(np.argmax(np.abs(xm), axis=None), np.abs(xm).shape)[0]\n",
    "\n",
    "M_max=xmm[I4];"
   ]
  },
  {
   "cell_type": "code",
   "execution_count": null,
   "metadata": {},
   "outputs": [],
   "source": [
    "xmm"
   ]
  },
  {
   "cell_type": "code",
   "execution_count": null,
   "metadata": {},
   "outputs": [],
   "source": [
    "xm"
   ]
  },
  {
   "cell_type": "code",
   "execution_count": null,
   "metadata": {},
   "outputs": [],
   "source": [
    "xmm[1]"
   ]
  },
  {
   "cell_type": "code",
   "execution_count": null,
   "metadata": {},
   "outputs": [],
   "source": [
    " xm[:, np.newaxis]"
   ]
  },
  {
   "cell_type": "code",
   "execution_count": null,
   "metadata": {},
   "outputs": [],
   "source": [
    "a=np.array([1.5,2.3,4.8])"
   ]
  },
  {
   "cell_type": "code",
   "execution_count": null,
   "metadata": {},
   "outputs": [],
   "source": []
  },
  {
   "cell_type": "code",
   "execution_count": null,
   "metadata": {},
   "outputs": [],
   "source": [
    "a.reshape((-1,1))"
   ]
  },
  {
   "cell_type": "code",
   "execution_count": null,
   "metadata": {},
   "outputs": [],
   "source": [
    "a[0]"
   ]
  },
  {
   "cell_type": "code",
   "execution_count": null,
   "metadata": {},
   "outputs": [],
   "source": [
    "a\n"
   ]
  },
  {
   "cell_type": "code",
   "execution_count": null,
   "metadata": {},
   "outputs": [],
   "source": [
    "print(\"{0}\".format(a))"
   ]
  },
  {
   "cell_type": "code",
   "execution_count": null,
   "metadata": {},
   "outputs": [],
   "source": [
    "print('Sammy ate {0:.3f} percent of a pizza!'.format(75.765367))"
   ]
  },
  {
   "cell_type": "code",
   "execution_count": null,
   "metadata": {},
   "outputs": [],
   "source": [
    "print('{0:.3}'.format(1.0/3))"
   ]
  },
  {
   "cell_type": "code",
   "execution_count": null,
   "metadata": {},
   "outputs": [],
   "source": [
    "outside = ['G1','G1','G1','G2','G2','G2']\n",
    "inside = [1,2,3,1,2,3]\n",
    "hier_index = list(zip(outside,inside))\n",
    "hier_index = pd.MultiIndex.from_tuples(hier_index)"
   ]
  },
  {
   "cell_type": "code",
   "execution_count": null,
   "metadata": {},
   "outputs": [],
   "source": [
    "hier_index"
   ]
  },
  {
   "cell_type": "code",
   "execution_count": null,
   "metadata": {},
   "outputs": [],
   "source": [
    "df = pd.DataFrame(np.random.randn(6,2),index=hier_index,columns=['A','B'])\n",
    "df"
   ]
  },
  {
   "cell_type": "code",
   "execution_count": null,
   "metadata": {},
   "outputs": [],
   "source": [
    "df=pd.read_csv('check2.csv')\n",
    "df"
   ]
  },
  {
   "cell_type": "code",
   "execution_count": null,
   "metadata": {},
   "outputs": [],
   "source": [
    "df.fillna(\"\")"
   ]
  },
  {
   "cell_type": "code",
   "execution_count": null,
   "metadata": {},
   "outputs": [],
   "source": [
    "df = pd.DataFrame(index='A B C D E'.split(),columns=['W', 'X', ['Y','K'], 'Z'])"
   ]
  },
  {
   "cell_type": "code",
   "execution_count": null,
   "metadata": {},
   "outputs": [],
   "source": [
    "'A B C D E'.split()"
   ]
  },
  {
   "cell_type": "code",
   "execution_count": null,
   "metadata": {},
   "outputs": [],
   "source": [
    "df\n"
   ]
  },
  {
   "cell_type": "code",
   "execution_count": 173,
   "metadata": {},
   "outputs": [],
   "source": [
    "columns_outside = ['SL.NO','Parameters','Test Results Value','Test Results Value','Remarks']\n",
    "columns_inside =['','','ifiodj','grfg','']"
   ]
  },
  {
   "cell_type": "code",
   "execution_count": 174,
   "metadata": {},
   "outputs": [
    {
     "data": {
      "text/plain": [
       "MultiIndex(levels=[['Parameters', 'Remarks', 'SL.NO', 'Test Results Value'], ['', 'grfg', 'ifiodj']],\n",
       "           codes=[[2, 0, 3, 3, 1], [0, 0, 2, 1, 0]])"
      ]
     },
     "execution_count": 174,
     "metadata": {},
     "output_type": "execute_result"
    }
   ],
   "source": [
    "hier_index = list(zip(columns_outside,columns_inside))\n",
    "hier_index = pd.MultiIndex.from_tuples(hier_index)\n",
    "hier_index"
   ]
  },
  {
   "cell_type": "code",
   "execution_count": null,
   "metadata": {},
   "outputs": [],
   "source": [
    "rows_outside = ['1.1','1.1','1.2']\n",
    "rows_inside1 =['Width x Height','Width x Height','Weight (grams)']\n",
    "rows_inside2 = ['Width: 36 ±1 mm','Height: 26 ±1 mm','< 80']            "
   ]
  },
  {
   "cell_type": "code",
   "execution_count": null,
   "metadata": {},
   "outputs": [],
   "source": [
    "rows_hier_index = list(zip(rows_outside,rows_inside1,rows_inside2))\n",
    "rows_hier_index = pd.MultiIndex.from_tuples(rows_hier_index)\n",
    "rows_hier_index"
   ]
  },
  {
   "cell_type": "code",
   "execution_count": 170,
   "metadata": {},
   "outputs": [
    {
     "data": {
      "text/html": [
       "<style  type=\"text/css\" >\n",
       "    #T_815e0cb4_c2c7_11e9_8402_54271e5155f4 th {\n",
       "          text-align: left;\n",
       "    }    #T_815e0cb4_c2c7_11e9_8402_54271e5155f4row0_col0 {\n",
       "            text-align:  left;\n",
       "        }    #T_815e0cb4_c2c7_11e9_8402_54271e5155f4row0_col1 {\n",
       "            text-align:  left;\n",
       "        }    #T_815e0cb4_c2c7_11e9_8402_54271e5155f4row0_col2 {\n",
       "            text-align:  left;\n",
       "        }    #T_815e0cb4_c2c7_11e9_8402_54271e5155f4row0_col3 {\n",
       "            text-align:  left;\n",
       "        }    #T_815e0cb4_c2c7_11e9_8402_54271e5155f4row1_col0 {\n",
       "            text-align:  left;\n",
       "        }    #T_815e0cb4_c2c7_11e9_8402_54271e5155f4row1_col1 {\n",
       "            text-align:  left;\n",
       "        }    #T_815e0cb4_c2c7_11e9_8402_54271e5155f4row1_col2 {\n",
       "            text-align:  left;\n",
       "        }    #T_815e0cb4_c2c7_11e9_8402_54271e5155f4row1_col3 {\n",
       "            text-align:  left;\n",
       "        }</style><table id=\"T_815e0cb4_c2c7_11e9_8402_54271e5155f4\" ><thead>    <tr>        <th class=\"blank level0\" ></th>        <th class=\"col_heading level0 col0\" >SL.NO</th>        <th class=\"col_heading level0 col1\" >Parameters</th>        <th class=\"col_heading level0 col2\" >Test Results Value</th>        <th class=\"col_heading level0 col3\" >Remarks</th>    </tr>    <tr>        <th class=\"blank level1\" ></th>        <th class=\"col_heading level1 col0\" ></th>        <th class=\"col_heading level1 col1\" ></th>        <th class=\"col_heading level1 col2\" >ifiodj</th>        <th class=\"col_heading level1 col3\" >grfg</th>    </tr></thead><tbody>\n",
       "                <tr>\n",
       "                        <th id=\"T_815e0cb4_c2c7_11e9_8402_54271e5155f4level0_row0\" class=\"row_heading level0 row0\" >A</th>\n",
       "                        <td id=\"T_815e0cb4_c2c7_11e9_8402_54271e5155f4row0_col0\" class=\"data row0 col0\" >nan</td>\n",
       "                        <td id=\"T_815e0cb4_c2c7_11e9_8402_54271e5155f4row0_col1\" class=\"data row0 col1\" >nan</td>\n",
       "                        <td id=\"T_815e0cb4_c2c7_11e9_8402_54271e5155f4row0_col2\" class=\"data row0 col2\" >nan</td>\n",
       "                        <td id=\"T_815e0cb4_c2c7_11e9_8402_54271e5155f4row0_col3\" class=\"data row0 col3\" >nan</td>\n",
       "            </tr>\n",
       "            <tr>\n",
       "                        <th id=\"T_815e0cb4_c2c7_11e9_8402_54271e5155f4level0_row1\" class=\"row_heading level0 row1\" >B</th>\n",
       "                        <td id=\"T_815e0cb4_c2c7_11e9_8402_54271e5155f4row1_col0\" class=\"data row1 col0\" >nan</td>\n",
       "                        <td id=\"T_815e0cb4_c2c7_11e9_8402_54271e5155f4row1_col1\" class=\"data row1 col1\" >nan</td>\n",
       "                        <td id=\"T_815e0cb4_c2c7_11e9_8402_54271e5155f4row1_col2\" class=\"data row1 col2\" >nan</td>\n",
       "                        <td id=\"T_815e0cb4_c2c7_11e9_8402_54271e5155f4row1_col3\" class=\"data row1 col3\" >nan</td>\n",
       "            </tr>\n",
       "    </tbody></table>"
      ],
      "text/plain": [
       "<pandas.io.formats.style.Styler at 0xb93fb5b8d0>"
      ]
     },
     "execution_count": 170,
     "metadata": {},
     "output_type": "execute_result"
    }
   ],
   "source": [
    "dfStyler = df.style.set_properties(**{'text-align': 'left'})\n",
    "dfStyler.set_table_styles([dict(selector='th', props=[('text-align', 'left')])])"
   ]
  },
  {
   "cell_type": "code",
   "execution_count": 176,
   "metadata": {},
   "outputs": [
    {
     "data": {
      "text/plain": [
       "MultiIndex(levels=[['Parameters', 'Remarks', 'SL.NO', 'Test Results Value'], ['', 'grfg', 'ifiodj']],\n",
       "           codes=[[2, 0, 3, 3, 1], [0, 0, 2, 1, 0]])"
      ]
     },
     "execution_count": 176,
     "metadata": {},
     "output_type": "execute_result"
    }
   ],
   "source": [
    "df.columns"
   ]
  },
  {
   "cell_type": "code",
   "execution_count": 175,
   "metadata": {},
   "outputs": [
    {
     "data": {
      "text/html": [
       "<div>\n",
       "<style scoped>\n",
       "    .dataframe tbody tr th:only-of-type {\n",
       "        vertical-align: middle;\n",
       "    }\n",
       "\n",
       "    .dataframe tbody tr th {\n",
       "        vertical-align: top;\n",
       "    }\n",
       "\n",
       "    .dataframe thead tr th {\n",
       "        text-align: left;\n",
       "    }\n",
       "</style>\n",
       "<table border=\"1\" class=\"dataframe\">\n",
       "  <thead>\n",
       "    <tr>\n",
       "      <th></th>\n",
       "      <th>SL.NO</th>\n",
       "      <th>Parameters</th>\n",
       "      <th colspan=\"2\" halign=\"left\">Test Results Value</th>\n",
       "      <th>Remarks</th>\n",
       "    </tr>\n",
       "    <tr>\n",
       "      <th></th>\n",
       "      <th></th>\n",
       "      <th></th>\n",
       "      <th>ifiodj</th>\n",
       "      <th>grfg</th>\n",
       "      <th></th>\n",
       "    </tr>\n",
       "  </thead>\n",
       "  <tbody>\n",
       "    <tr>\n",
       "      <th>A</th>\n",
       "      <td>NaN</td>\n",
       "      <td>NaN</td>\n",
       "      <td>NaN</td>\n",
       "      <td>NaN</td>\n",
       "      <td>NaN</td>\n",
       "    </tr>\n",
       "    <tr>\n",
       "      <th>B</th>\n",
       "      <td>NaN</td>\n",
       "      <td>NaN</td>\n",
       "      <td>NaN</td>\n",
       "      <td>NaN</td>\n",
       "      <td>NaN</td>\n",
       "    </tr>\n",
       "  </tbody>\n",
       "</table>\n",
       "</div>"
      ],
      "text/plain": [
       "  SL.NO Parameters Test Results Value      Remarks\n",
       "                               ifiodj grfg        \n",
       "A   NaN        NaN                NaN  NaN     NaN\n",
       "B   NaN        NaN                NaN  NaN     NaN"
      ]
     },
     "execution_count": 175,
     "metadata": {},
     "output_type": "execute_result"
    }
   ],
   "source": [
    "df = pd.DataFrame(index=['A','B'],columns=hier_index)\n",
    "df"
   ]
  },
  {
   "cell_type": "code",
   "execution_count": null,
   "metadata": {},
   "outputs": [],
   "source": [
    "df.index.names"
   ]
  },
  {
   "cell_type": "code",
   "execution_count": null,
   "metadata": {},
   "outputs": [],
   "source": [
    "df.index.names = ['Sl. No.','Parameters','Test  Results \\n specified']"
   ]
  },
  {
   "cell_type": "code",
   "execution_count": null,
   "metadata": {},
   "outputs": [],
   "source": [
    "df"
   ]
  },
  {
   "cell_type": "code",
   "execution_count": null,
   "metadata": {},
   "outputs": [],
   "source": []
  },
  {
   "cell_type": "code",
   "execution_count": null,
   "metadata": {},
   "outputs": [],
   "source": []
  },
  {
   "cell_type": "code",
   "execution_count": null,
   "metadata": {},
   "outputs": [],
   "source": []
  },
  {
   "cell_type": "code",
   "execution_count": null,
   "metadata": {},
   "outputs": [],
   "source": []
  },
  {
   "cell_type": "code",
   "execution_count": null,
   "metadata": {},
   "outputs": [],
   "source": []
  },
  {
   "cell_type": "code",
   "execution_count": null,
   "metadata": {},
   "outputs": [],
   "source": [
    "df.loc['A', 'Remarks']=   'sairam \n",
    "                           "
   ]
  },
  {
   "cell_type": "code",
   "execution_count": null,
   "metadata": {},
   "outputs": [],
   "source": [
    "df"
   ]
  },
  {
   "cell_type": "code",
   "execution_count": null,
   "metadata": {},
   "outputs": [],
   "source": []
  },
  {
   "cell_type": "code",
   "execution_count": null,
   "metadata": {},
   "outputs": [],
   "source": []
  },
  {
   "cell_type": "code",
   "execution_count": null,
   "metadata": {},
   "outputs": [],
   "source": []
  },
  {
   "cell_type": "code",
   "execution_count": null,
   "metadata": {},
   "outputs": [],
   "source": []
  },
  {
   "cell_type": "code",
   "execution_count": null,
   "metadata": {},
   "outputs": [],
   "source": [
    "df['Test Results Value']['grfg']='fjlhdlkfjld'"
   ]
  },
  {
   "cell_type": "code",
   "execution_count": null,
   "metadata": {},
   "outputs": [],
   "source": [
    "df.xs('A')['Test Results Value'].xs('ifiodj')=25\n"
   ]
  },
  {
   "cell_type": "code",
   "execution_count": null,
   "metadata": {},
   "outputs": [],
   "source": [
    "df['Test Results Value']['ifiodj']"
   ]
  },
  {
   "cell_type": "code",
   "execution_count": null,
   "metadata": {},
   "outputs": [],
   "source": [
    "df"
   ]
  },
  {
   "cell_type": "code",
   "execution_count": null,
   "metadata": {},
   "outputs": [],
   "source": [
    "df.loc['A','Test Results Value'] "
   ]
  },
  {
   "cell_type": "code",
   "execution_count": null,
   "metadata": {},
   "outputs": [],
   "source": [
    "df.loc['B',( 'Test Results Value','grfg')] = 1999"
   ]
  },
  {
   "cell_type": "code",
   "execution_count": null,
   "metadata": {},
   "outputs": [],
   "source": [
    "df"
   ]
  },
  {
   "cell_type": "code",
   "execution_count": null,
   "metadata": {},
   "outputs": [],
   "source": [
    "df.iloc[0][2]=1999"
   ]
  },
  {
   "cell_type": "code",
   "execution_count": null,
   "metadata": {},
   "outputs": [],
   "source": [
    "dfStyler = df.style.set_properties(**{'text-align': 'left'})\n",
    "dfStyler.set_table_styles([dict(selector='th', props=[('text-align', 'left')])])"
   ]
  },
  {
   "cell_type": "code",
   "execution_count": null,
   "metadata": {},
   "outputs": [],
   "source": [
    "df['Test Results Value'].loc['A','grfg']='fdsfee'"
   ]
  },
  {
   "cell_type": "code",
   "execution_count": null,
   "metadata": {},
   "outputs": [],
   "source": [
    "df"
   ]
  },
  {
   "cell_type": "code",
   "execution_count": null,
   "metadata": {},
   "outputs": [],
   "source": [
    "dfc = pd.DataFrame({'A': ['aaa', 'bbb', 'ccc'], 'B': [1, 2, 3]})\n"
   ]
  },
  {
   "cell_type": "code",
   "execution_count": null,
   "metadata": {},
   "outputs": [],
   "source": [
    "dfc"
   ]
  },
  {
   "cell_type": "code",
   "execution_count": null,
   "metadata": {},
   "outputs": [],
   "source": [
    "dfc.loc[0, 'A'] "
   ]
  },
  {
   "cell_type": "code",
   "execution_count": 4,
   "metadata": {},
   "outputs": [
    {
     "data": {
      "image/png": "[encoded data removed]",
      "text/plain": [
       "<Figure size 432x288 with 1 Axes>"
      ]
     },
     "metadata": {
      "needs_background": "light"
     },
     "output_type": "display_data"
    }
   ],
   "source": [
    "import matplotlib.pyplot as plt\n",
    "%matplotlib inline\n",
    "x = [1,2,3,4]\n",
    "y = [1,4,9,16]\n",
    "plt.plot(x, y, 'r--')\n",
    "plt.axis([0, 6, 0, 20])\n",
    "\n",
    "for i_x, i_y in zip(x, y):\n",
    "    plt.text(i_x, i_y, '({}, {})'.format(i_x, i_y))\n",
    "\n",
    "plt.show()"
   ]
  },
  {
   "cell_type": "code",
   "execution_count": 5,
   "metadata": {},
   "outputs": [],
   "source": [
    "import autoit"
   ]
  },
  {
   "cell_type": "code",
   "execution_count": 7,
   "metadata": {},
   "outputs": [
    {
     "ename": "AutoItError",
     "evalue": "activate window failed, maybe the window doesn't exist",
     "output_type": "error",
     "traceback": [
      "\u001b[1;31m---------------------------------------------------------------------------\u001b[0m",
      "\u001b[1;31mAutoItError\u001b[0m                               Traceback (most recent call last)",
      "\u001b[1;32m<ipython-input-7-91da6d432163>\u001b[0m in \u001b[0;36m<module>\u001b[1;34m\u001b[0m\n\u001b[1;32m----> 1\u001b[1;33m \u001b[0mb\u001b[0m\u001b[1;33m=\u001b[0m\u001b[0mautoit\u001b[0m\u001b[1;33m.\u001b[0m\u001b[0mwin_activate\u001b[0m\u001b[1;33m(\u001b[0m\u001b[1;34m'LuCam Capture'\u001b[0m\u001b[1;33m)\u001b[0m\u001b[1;33m\u001b[0m\u001b[1;33m\u001b[0m\u001b[0m\n\u001b[0m",
      "\u001b[1;32mC:\\ProgramData\\Anaconda3\\lib\\site-packages\\pyautoit-0.5-py3.7.egg\\autoit\\autoit.py\u001b[0m in \u001b[0;36mwrapper\u001b[1;34m(*args, **kwargs)\u001b[0m\n\u001b[0;32m     82\u001b[0m                 \u001b[1;32mif\u001b[0m \u001b[1;36m2\u001b[0m \u001b[1;32min\u001b[0m \u001b[0mflags\u001b[0m\u001b[1;33m:\u001b[0m\u001b[1;33m\u001b[0m\u001b[1;33m\u001b[0m\u001b[0m\n\u001b[0;32m     83\u001b[0m                     \u001b[1;32mif\u001b[0m \u001b[0mself\u001b[0m\u001b[1;33m.\u001b[0m\u001b[0m_has_unexpected_ret\u001b[0m\u001b[1;33m(\u001b[0m\u001b[0mret\u001b[0m\u001b[1;33m,\u001b[0m \u001b[0munexpected_ret\u001b[0m\u001b[1;33m)\u001b[0m\u001b[1;33m:\u001b[0m\u001b[1;33m\u001b[0m\u001b[1;33m\u001b[0m\u001b[0m\n\u001b[1;32m---> 84\u001b[1;33m                         \u001b[1;32mraise\u001b[0m \u001b[0mAutoItError\u001b[0m\u001b[1;33m(\u001b[0m\u001b[0merr_msg\u001b[0m\u001b[1;33m)\u001b[0m\u001b[1;33m\u001b[0m\u001b[1;33m\u001b[0m\u001b[0m\n\u001b[0m\u001b[0;32m     85\u001b[0m \u001b[1;33m\u001b[0m\u001b[0m\n\u001b[0;32m     86\u001b[0m                 \u001b[1;32mreturn\u001b[0m \u001b[0mret\u001b[0m\u001b[1;33m\u001b[0m\u001b[1;33m\u001b[0m\u001b[0m\n",
      "\u001b[1;31mAutoItError\u001b[0m: activate window failed, maybe the window doesn't exist"
     ]
    }
   ],
   "source": [
    "b=autoit.win_activate('LuCam Capture')"
   ]
  },
  {
   "cell_type": "code",
   "execution_count": 8,
   "metadata": {},
   "outputs": [
    {
     "ename": "NameError",
     "evalue": "name 'b' is not defined",
     "output_type": "error",
     "traceback": [
      "\u001b[1;31m---------------------------------------------------------------------------\u001b[0m",
      "\u001b[1;31mNameError\u001b[0m                                 Traceback (most recent call last)",
      "\u001b[1;32m<ipython-input-8-89e6c98d9288>\u001b[0m in \u001b[0;36m<module>\u001b[1;34m\u001b[0m\n\u001b[1;32m----> 1\u001b[1;33m \u001b[0mb\u001b[0m\u001b[1;33m\u001b[0m\u001b[1;33m\u001b[0m\u001b[0m\n\u001b[0m",
      "\u001b[1;31mNameError\u001b[0m: name 'b' is not defined"
     ]
    }
   ],
   "source": [
    "b"
   ]
  },
  {
   "cell_type": "code",
   "execution_count": 4,
   "metadata": {},
   "outputs": [],
   "source": []
  },
  {
   "cell_type": "code",
   "execution_count": 4,
   "metadata": {},
   "outputs": [],
   "source": [
    "import autoit\n",
    "import time\n",
    "autoit.opt(\"MouseCoordMode\", 0)\n",
    "autoit.opt(\"SendKeyDelay\", 10)\n",
    "general_time_delay=200/1000 # in milliseconds\n",
    "autoit.win_activate('nbserver-3964-open - Notepad')\n",
    "time.sleep(general_time_delay)  #time is in seconds  \n",
    "autoit.mouse_click('primary', 80, 441, 1, 0) \n",
    "time.sleep(general_time_delay)  #time is in seconds  \n",
    "autoit.send('{ENTER}',0)\n",
    "time.sleep(general_time_delay)  #time is in seconds  \n",
    "autoit.send('Hello',1)\n",
    "time.sleep(general_time_delay)  #time is in seconds  \n",
    "autoit.send('{TAB}',0)\n",
    "time.sleep(general_time_delay)  #time is in seconds  \n",
    "autoit.send('Hello',1)"
   ]
  },
  {
   "cell_type": "code",
   "execution_count": 1,
   "metadata": {
    "scrolled": true
   },
   "outputs": [
    {
     "ename": "FileNotFoundError",
     "evalue": "[Errno 2] No such file or directory: 'dataloggerdefault_file'",
     "output_type": "error",
     "traceback": [
      "\u001b[1;31m---------------------------------------------------------------------------\u001b[0m",
      "\u001b[1;31mFileNotFoundError\u001b[0m                         Traceback (most recent call last)",
      "\u001b[1;32m<ipython-input-1-2b458391c282>\u001b[0m in \u001b[0;36m<module>\u001b[1;34m\u001b[0m\n\u001b[0;32m      1\u001b[0m \u001b[1;32mimport\u001b[0m \u001b[0mpandas\u001b[0m \u001b[1;32mas\u001b[0m \u001b[0mpd\u001b[0m\u001b[1;33m\u001b[0m\u001b[1;33m\u001b[0m\u001b[0m\n\u001b[1;32m----> 2\u001b[1;33m \u001b[0mpd\u001b[0m\u001b[1;33m.\u001b[0m\u001b[0mread_csv\u001b[0m\u001b[1;33m(\u001b[0m\u001b[1;34m'dataloggerdefault_file'\u001b[0m\u001b[1;33m,\u001b[0m\u001b[0mheader\u001b[0m\u001b[1;33m=\u001b[0m\u001b[1;32mNone\u001b[0m\u001b[1;33m,\u001b[0m\u001b[0mdelimiter\u001b[0m\u001b[1;33m=\u001b[0m \u001b[1;34m'\\s+'\u001b[0m\u001b[1;33m,\u001b[0m\u001b[0mencoding\u001b[0m\u001b[1;33m=\u001b[0m\u001b[1;34m'UTF-16'\u001b[0m\u001b[1;33m)\u001b[0m\u001b[1;33m\u001b[0m\u001b[1;33m\u001b[0m\u001b[0m\n\u001b[0m",
      "\u001b[1;32mC:\\ProgramData\\Anaconda3\\lib\\site-packages\\pandas\\io\\parsers.py\u001b[0m in \u001b[0;36mparser_f\u001b[1;34m(filepath_or_buffer, sep, delimiter, header, names, index_col, usecols, squeeze, prefix, mangle_dupe_cols, dtype, engine, converters, true_values, false_values, skipinitialspace, skiprows, skipfooter, nrows, na_values, keep_default_na, na_filter, verbose, skip_blank_lines, parse_dates, infer_datetime_format, keep_date_col, date_parser, dayfirst, iterator, chunksize, compression, thousands, decimal, lineterminator, quotechar, quoting, doublequote, escapechar, comment, encoding, dialect, tupleize_cols, error_bad_lines, warn_bad_lines, delim_whitespace, low_memory, memory_map, float_precision)\u001b[0m\n\u001b[0;32m    700\u001b[0m                     skip_blank_lines=skip_blank_lines)\n\u001b[0;32m    701\u001b[0m \u001b[1;33m\u001b[0m\u001b[0m\n\u001b[1;32m--> 702\u001b[1;33m         \u001b[1;32mreturn\u001b[0m \u001b[0m_read\u001b[0m\u001b[1;33m(\u001b[0m\u001b[0mfilepath_or_buffer\u001b[0m\u001b[1;33m,\u001b[0m \u001b[0mkwds\u001b[0m\u001b[1;33m)\u001b[0m\u001b[1;33m\u001b[0m\u001b[1;33m\u001b[0m\u001b[0m\n\u001b[0m\u001b[0;32m    703\u001b[0m \u001b[1;33m\u001b[0m\u001b[0m\n\u001b[0;32m    704\u001b[0m     \u001b[0mparser_f\u001b[0m\u001b[1;33m.\u001b[0m\u001b[0m__name__\u001b[0m \u001b[1;33m=\u001b[0m \u001b[0mname\u001b[0m\u001b[1;33m\u001b[0m\u001b[1;33m\u001b[0m\u001b[0m\n",
      "\u001b[1;32mC:\\ProgramData\\Anaconda3\\lib\\site-packages\\pandas\\io\\parsers.py\u001b[0m in \u001b[0;36m_read\u001b[1;34m(filepath_or_buffer, kwds)\u001b[0m\n\u001b[0;32m    427\u001b[0m \u001b[1;33m\u001b[0m\u001b[0m\n\u001b[0;32m    428\u001b[0m     \u001b[1;31m# Create the parser.\u001b[0m\u001b[1;33m\u001b[0m\u001b[1;33m\u001b[0m\u001b[1;33m\u001b[0m\u001b[0m\n\u001b[1;32m--> 429\u001b[1;33m     \u001b[0mparser\u001b[0m \u001b[1;33m=\u001b[0m \u001b[0mTextFileReader\u001b[0m\u001b[1;33m(\u001b[0m\u001b[0mfilepath_or_buffer\u001b[0m\u001b[1;33m,\u001b[0m \u001b[1;33m**\u001b[0m\u001b[0mkwds\u001b[0m\u001b[1;33m)\u001b[0m\u001b[1;33m\u001b[0m\u001b[1;33m\u001b[0m\u001b[0m\n\u001b[0m\u001b[0;32m    430\u001b[0m \u001b[1;33m\u001b[0m\u001b[0m\n\u001b[0;32m    431\u001b[0m     \u001b[1;32mif\u001b[0m \u001b[0mchunksize\u001b[0m \u001b[1;32mor\u001b[0m \u001b[0miterator\u001b[0m\u001b[1;33m:\u001b[0m\u001b[1;33m\u001b[0m\u001b[1;33m\u001b[0m\u001b[0m\n",
      "\u001b[1;32mC:\\ProgramData\\Anaconda3\\lib\\site-packages\\pandas\\io\\parsers.py\u001b[0m in \u001b[0;36m__init__\u001b[1;34m(self, f, engine, **kwds)\u001b[0m\n\u001b[0;32m    893\u001b[0m             \u001b[0mself\u001b[0m\u001b[1;33m.\u001b[0m\u001b[0moptions\u001b[0m\u001b[1;33m[\u001b[0m\u001b[1;34m'has_index_names'\u001b[0m\u001b[1;33m]\u001b[0m \u001b[1;33m=\u001b[0m \u001b[0mkwds\u001b[0m\u001b[1;33m[\u001b[0m\u001b[1;34m'has_index_names'\u001b[0m\u001b[1;33m]\u001b[0m\u001b[1;33m\u001b[0m\u001b[1;33m\u001b[0m\u001b[0m\n\u001b[0;32m    894\u001b[0m \u001b[1;33m\u001b[0m\u001b[0m\n\u001b[1;32m--> 895\u001b[1;33m         \u001b[0mself\u001b[0m\u001b[1;33m.\u001b[0m\u001b[0m_make_engine\u001b[0m\u001b[1;33m(\u001b[0m\u001b[0mself\u001b[0m\u001b[1;33m.\u001b[0m\u001b[0mengine\u001b[0m\u001b[1;33m)\u001b[0m\u001b[1;33m\u001b[0m\u001b[1;33m\u001b[0m\u001b[0m\n\u001b[0m\u001b[0;32m    896\u001b[0m \u001b[1;33m\u001b[0m\u001b[0m\n\u001b[0;32m    897\u001b[0m     \u001b[1;32mdef\u001b[0m \u001b[0mclose\u001b[0m\u001b[1;33m(\u001b[0m\u001b[0mself\u001b[0m\u001b[1;33m)\u001b[0m\u001b[1;33m:\u001b[0m\u001b[1;33m\u001b[0m\u001b[1;33m\u001b[0m\u001b[0m\n",
      "\u001b[1;32mC:\\ProgramData\\Anaconda3\\lib\\site-packages\\pandas\\io\\parsers.py\u001b[0m in \u001b[0;36m_make_engine\u001b[1;34m(self, engine)\u001b[0m\n\u001b[0;32m   1120\u001b[0m     \u001b[1;32mdef\u001b[0m \u001b[0m_make_engine\u001b[0m\u001b[1;33m(\u001b[0m\u001b[0mself\u001b[0m\u001b[1;33m,\u001b[0m \u001b[0mengine\u001b[0m\u001b[1;33m=\u001b[0m\u001b[1;34m'c'\u001b[0m\u001b[1;33m)\u001b[0m\u001b[1;33m:\u001b[0m\u001b[1;33m\u001b[0m\u001b[1;33m\u001b[0m\u001b[0m\n\u001b[0;32m   1121\u001b[0m         \u001b[1;32mif\u001b[0m \u001b[0mengine\u001b[0m \u001b[1;33m==\u001b[0m \u001b[1;34m'c'\u001b[0m\u001b[1;33m:\u001b[0m\u001b[1;33m\u001b[0m\u001b[1;33m\u001b[0m\u001b[0m\n\u001b[1;32m-> 1122\u001b[1;33m             \u001b[0mself\u001b[0m\u001b[1;33m.\u001b[0m\u001b[0m_engine\u001b[0m \u001b[1;33m=\u001b[0m \u001b[0mCParserWrapper\u001b[0m\u001b[1;33m(\u001b[0m\u001b[0mself\u001b[0m\u001b[1;33m.\u001b[0m\u001b[0mf\u001b[0m\u001b[1;33m,\u001b[0m \u001b[1;33m**\u001b[0m\u001b[0mself\u001b[0m\u001b[1;33m.\u001b[0m\u001b[0moptions\u001b[0m\u001b[1;33m)\u001b[0m\u001b[1;33m\u001b[0m\u001b[1;33m\u001b[0m\u001b[0m\n\u001b[0m\u001b[0;32m   1123\u001b[0m         \u001b[1;32melse\u001b[0m\u001b[1;33m:\u001b[0m\u001b[1;33m\u001b[0m\u001b[1;33m\u001b[0m\u001b[0m\n\u001b[0;32m   1124\u001b[0m             \u001b[1;32mif\u001b[0m \u001b[0mengine\u001b[0m \u001b[1;33m==\u001b[0m \u001b[1;34m'python'\u001b[0m\u001b[1;33m:\u001b[0m\u001b[1;33m\u001b[0m\u001b[1;33m\u001b[0m\u001b[0m\n",
      "\u001b[1;32mC:\\ProgramData\\Anaconda3\\lib\\site-packages\\pandas\\io\\parsers.py\u001b[0m in \u001b[0;36m__init__\u001b[1;34m(self, src, **kwds)\u001b[0m\n\u001b[0;32m   1838\u001b[0m             \u001b[1;31m# if source is utf-16 plain text, convert source to utf-8\u001b[0m\u001b[1;33m\u001b[0m\u001b[1;33m\u001b[0m\u001b[1;33m\u001b[0m\u001b[0m\n\u001b[0;32m   1839\u001b[0m             \u001b[1;32mif\u001b[0m \u001b[0misinstance\u001b[0m\u001b[1;33m(\u001b[0m\u001b[0msrc\u001b[0m\u001b[1;33m,\u001b[0m \u001b[0mcompat\u001b[0m\u001b[1;33m.\u001b[0m\u001b[0mstring_types\u001b[0m\u001b[1;33m)\u001b[0m\u001b[1;33m:\u001b[0m\u001b[1;33m\u001b[0m\u001b[1;33m\u001b[0m\u001b[0m\n\u001b[1;32m-> 1840\u001b[1;33m                 \u001b[0msrc\u001b[0m \u001b[1;33m=\u001b[0m \u001b[0mopen\u001b[0m\u001b[1;33m(\u001b[0m\u001b[0msrc\u001b[0m\u001b[1;33m,\u001b[0m \u001b[1;34m'rb'\u001b[0m\u001b[1;33m)\u001b[0m\u001b[1;33m\u001b[0m\u001b[1;33m\u001b[0m\u001b[0m\n\u001b[0m\u001b[0;32m   1841\u001b[0m                 \u001b[0mself\u001b[0m\u001b[1;33m.\u001b[0m\u001b[0mhandles\u001b[0m\u001b[1;33m.\u001b[0m\u001b[0mappend\u001b[0m\u001b[1;33m(\u001b[0m\u001b[0msrc\u001b[0m\u001b[1;33m)\u001b[0m\u001b[1;33m\u001b[0m\u001b[1;33m\u001b[0m\u001b[0m\n\u001b[0;32m   1842\u001b[0m             \u001b[0msrc\u001b[0m \u001b[1;33m=\u001b[0m \u001b[0mUTF8Recoder\u001b[0m\u001b[1;33m(\u001b[0m\u001b[0msrc\u001b[0m\u001b[1;33m,\u001b[0m \u001b[0mkwds\u001b[0m\u001b[1;33m[\u001b[0m\u001b[1;34m'encoding'\u001b[0m\u001b[1;33m]\u001b[0m\u001b[1;33m)\u001b[0m\u001b[1;33m\u001b[0m\u001b[1;33m\u001b[0m\u001b[0m\n",
      "\u001b[1;31mFileNotFoundError\u001b[0m: [Errno 2] No such file or directory: 'dataloggerdefault_file'"
     ]
    }
   ],
   "source": [
    "HelloHelloimport pandas as pd\n",
    "pd.read_csv('dataloggerdefault_file',header=None,delimiter= '\\s+',encoding='UTF-16')"
   ]
  },
  {
   "cell_type": "code",
   "execution_count": 2,
   "metadata": {},
   "outputs": [],
   "source": [
    "import pathlib"
   ]
  },
  {
   "cell_type": "code",
   "execution_count": 3,
   "metadata": {},
   "outputs": [],
   "source": [
    "k=pathlib.Path('C:/Users/sairamtvv/Desktop/dataloggerdefault_file.CSV')"
   ]
  },
  {
   "cell_type": "code",
   "execution_count": null,
   "metadata": {},
   "outputs": [],
   "source": []
  },
  {
   "cell_type": "code",
   "execution_count": null,
   "metadata": {},
   "outputs": [],
   "source": []
  },
  {
   "cell_type": "code",
   "execution_count": null,
   "metadata": {},
   "outputs": [],
   "source": []
  },
  {
   "cell_type": "code",
   "execution_count": 4,
   "metadata": {},
   "outputs": [],
   "source": [
    "with open(k,encoding='UTF-16') as f:\n",
    "    dfsai = pd.read_csv(f,skiprows=20,header=None)"
   ]
  },
  {
   "cell_type": "code",
   "execution_count": 27,
   "metadata": {},
   "outputs": [
    {
     "data": {
      "text/html": [
       "<div>\n",
       "<style scoped>\n",
       "    .dataframe tbody tr th:only-of-type {\n",
       "        vertical-align: middle;\n",
       "    }\n",
       "\n",
       "    .dataframe tbody tr th {\n",
       "        vertical-align: top;\n",
       "    }\n",
       "\n",
       "    .dataframe thead th {\n",
       "        text-align: right;\n",
       "    }\n",
       "</style>\n",
       "<table border=\"1\" class=\"dataframe\">\n",
       "  <thead>\n",
       "    <tr style=\"text-align: right;\">\n",
       "      <th></th>\n",
       "      <th>0</th>\n",
       "      <th>1</th>\n",
       "      <th>2</th>\n",
       "      <th>3</th>\n",
       "      <th>4</th>\n",
       "      <th>5</th>\n",
       "      <th>6</th>\n",
       "      <th>7</th>\n",
       "      <th>8</th>\n",
       "      <th>9</th>\n",
       "      <th>...</th>\n",
       "      <th>16</th>\n",
       "      <th>17</th>\n",
       "      <th>18</th>\n",
       "      <th>19</th>\n",
       "      <th>20</th>\n",
       "      <th>21</th>\n",
       "      <th>22</th>\n",
       "      <th>23</th>\n",
       "      <th>24</th>\n",
       "      <th>25</th>\n",
       "    </tr>\n",
       "  </thead>\n",
       "  <tbody>\n",
       "    <tr>\n",
       "      <th>0</th>\n",
       "      <td>Scan</td>\n",
       "      <td>Time</td>\n",
       "      <td>101 (VDC)</td>\n",
       "      <td>Alarm 101</td>\n",
       "      <td>102 (VDC)</td>\n",
       "      <td>Alarm 102</td>\n",
       "      <td>103 (VDC)</td>\n",
       "      <td>Alarm 103</td>\n",
       "      <td>104 (VDC)</td>\n",
       "      <td>Alarm 104</td>\n",
       "      <td>...</td>\n",
       "      <td>202 (VDC)</td>\n",
       "      <td>Alarm 202</td>\n",
       "      <td>203 (VDC)</td>\n",
       "      <td>Alarm 203</td>\n",
       "      <td>204 (VDC)</td>\n",
       "      <td>Alarm 204</td>\n",
       "      <td>205 (VDC)</td>\n",
       "      <td>Alarm 205</td>\n",
       "      <td>206 (VDC)</td>\n",
       "      <td>Alarm 206</td>\n",
       "    </tr>\n",
       "    <tr>\n",
       "      <th>1</th>\n",
       "      <td>1</td>\n",
       "      <td>5/12/2019 13:16:24:579</td>\n",
       "      <td>-0.36776239</td>\n",
       "      <td>0</td>\n",
       "      <td>-0.36205887</td>\n",
       "      <td>0</td>\n",
       "      <td>-0.36860329</td>\n",
       "      <td>0</td>\n",
       "      <td>-0.36703518</td>\n",
       "      <td>0</td>\n",
       "      <td>...</td>\n",
       "      <td>0.51771</td>\n",
       "      <td>0</td>\n",
       "      <td>0.51782</td>\n",
       "      <td>0</td>\n",
       "      <td>0.5106</td>\n",
       "      <td>0</td>\n",
       "      <td>0.51776</td>\n",
       "      <td>0</td>\n",
       "      <td>0.51517</td>\n",
       "      <td>0</td>\n",
       "    </tr>\n",
       "    <tr>\n",
       "      <th>2</th>\n",
       "      <td>2</td>\n",
       "      <td>5/12/2019 13:16:48:478</td>\n",
       "      <td>-0.36776817</td>\n",
       "      <td>0</td>\n",
       "      <td>-0.36206325</td>\n",
       "      <td>0</td>\n",
       "      <td>-0.36860647</td>\n",
       "      <td>0</td>\n",
       "      <td>-0.36704005</td>\n",
       "      <td>0</td>\n",
       "      <td>...</td>\n",
       "      <td>0.51688</td>\n",
       "      <td>0</td>\n",
       "      <td>0.51699</td>\n",
       "      <td>0</td>\n",
       "      <td>0.51093</td>\n",
       "      <td>0</td>\n",
       "      <td>0.51787</td>\n",
       "      <td>0</td>\n",
       "      <td>0.51446</td>\n",
       "      <td>0</td>\n",
       "    </tr>\n",
       "    <tr>\n",
       "      <th>3</th>\n",
       "      <td>3</td>\n",
       "      <td>5/12/2019 13:17:12:314</td>\n",
       "      <td>-0.36777256</td>\n",
       "      <td>0</td>\n",
       "      <td>-0.36206735</td>\n",
       "      <td>0</td>\n",
       "      <td>-0.36861107</td>\n",
       "      <td>0</td>\n",
       "      <td>-0.36704307</td>\n",
       "      <td>0</td>\n",
       "      <td>...</td>\n",
       "      <td>0.51694</td>\n",
       "      <td>0</td>\n",
       "      <td>0.51595</td>\n",
       "      <td>0</td>\n",
       "      <td>0.5106</td>\n",
       "      <td>0</td>\n",
       "      <td>0.51683</td>\n",
       "      <td>0</td>\n",
       "      <td>0.51457</td>\n",
       "      <td>0</td>\n",
       "    </tr>\n",
       "    <tr>\n",
       "      <th>4</th>\n",
       "      <td>4</td>\n",
       "      <td>5/12/2019 13:17:36:150</td>\n",
       "      <td>-0.36777955</td>\n",
       "      <td>0</td>\n",
       "      <td>-0.36207201</td>\n",
       "      <td>0</td>\n",
       "      <td>-0.36861435</td>\n",
       "      <td>0</td>\n",
       "      <td>-0.36704771</td>\n",
       "      <td>0</td>\n",
       "      <td>...</td>\n",
       "      <td>0.51628</td>\n",
       "      <td>0</td>\n",
       "      <td>0.51617</td>\n",
       "      <td>0</td>\n",
       "      <td>0.50911</td>\n",
       "      <td>0</td>\n",
       "      <td>0.51716</td>\n",
       "      <td>0</td>\n",
       "      <td>0.51385</td>\n",
       "      <td>0</td>\n",
       "    </tr>\n",
       "  </tbody>\n",
       "</table>\n",
       "<p>5 rows × 26 columns</p>\n",
       "</div>"
      ],
      "text/plain": [
       "     0                       1            2          3            4   \\\n",
       "0  Scan                    Time    101 (VDC)  Alarm 101    102 (VDC)   \n",
       "1     1  5/12/2019 13:16:24:579  -0.36776239          0  -0.36205887   \n",
       "2     2  5/12/2019 13:16:48:478  -0.36776817          0  -0.36206325   \n",
       "3     3  5/12/2019 13:17:12:314  -0.36777256          0  -0.36206735   \n",
       "4     4  5/12/2019 13:17:36:150  -0.36777955          0  -0.36207201   \n",
       "\n",
       "          5            6          7            8          9   ...         16  \\\n",
       "0  Alarm 102    103 (VDC)  Alarm 103    104 (VDC)  Alarm 104  ...  202 (VDC)   \n",
       "1          0  -0.36860329          0  -0.36703518          0  ...    0.51771   \n",
       "2          0  -0.36860647          0  -0.36704005          0  ...    0.51688   \n",
       "3          0  -0.36861107          0  -0.36704307          0  ...    0.51694   \n",
       "4          0  -0.36861435          0  -0.36704771          0  ...    0.51628   \n",
       "\n",
       "          17         18         19         20         21         22  \\\n",
       "0  Alarm 202  203 (VDC)  Alarm 203  204 (VDC)  Alarm 204  205 (VDC)   \n",
       "1          0    0.51782          0     0.5106          0    0.51776   \n",
       "2          0    0.51699          0    0.51093          0    0.51787   \n",
       "3          0    0.51595          0     0.5106          0    0.51683   \n",
       "4          0    0.51617          0    0.50911          0    0.51716   \n",
       "\n",
       "          23         24         25  \n",
       "0  Alarm 205  206 (VDC)  Alarm 206  \n",
       "1          0    0.51517          0  \n",
       "2          0    0.51446          0  \n",
       "3          0    0.51457          0  \n",
       "4          0    0.51385          0  \n",
       "\n",
       "[5 rows x 26 columns]"
      ]
     },
     "execution_count": 27,
     "metadata": {},
     "output_type": "execute_result"
    }
   ],
   "source": [
    "dfsai.head()"
   ]
  },
  {
   "cell_type": "code",
   "execution_count": 5,
   "metadata": {},
   "outputs": [],
   "source": [
    "dfsai.loc[[0]].to_csv('example',index=False, header=False)"
   ]
  },
  {
   "cell_type": "code",
   "execution_count": 49,
   "metadata": {},
   "outputs": [],
   "source": [
    "dfsai.to_csv('example',index=False, header=False)"
   ]
  },
  {
   "cell_type": "code",
   "execution_count": 6,
   "metadata": {},
   "outputs": [],
   "source": [
    "df=dfsai.loc[[0]]"
   ]
  },
  {
   "cell_type": "code",
   "execution_count": 7,
   "metadata": {},
   "outputs": [
    {
     "data": {
      "text/html": [
       "<div>\n",
       "<style scoped>\n",
       "    .dataframe tbody tr th:only-of-type {\n",
       "        vertical-align: middle;\n",
       "    }\n",
       "\n",
       "    .dataframe tbody tr th {\n",
       "        vertical-align: top;\n",
       "    }\n",
       "\n",
       "    .dataframe thead th {\n",
       "        text-align: right;\n",
       "    }\n",
       "</style>\n",
       "<table border=\"1\" class=\"dataframe\">\n",
       "  <thead>\n",
       "    <tr style=\"text-align: right;\">\n",
       "      <th></th>\n",
       "      <th>0</th>\n",
       "      <th>1</th>\n",
       "      <th>2</th>\n",
       "      <th>3</th>\n",
       "      <th>4</th>\n",
       "      <th>5</th>\n",
       "      <th>6</th>\n",
       "      <th>7</th>\n",
       "      <th>8</th>\n",
       "      <th>9</th>\n",
       "      <th>...</th>\n",
       "      <th>16</th>\n",
       "      <th>17</th>\n",
       "      <th>18</th>\n",
       "      <th>19</th>\n",
       "      <th>20</th>\n",
       "      <th>21</th>\n",
       "      <th>22</th>\n",
       "      <th>23</th>\n",
       "      <th>24</th>\n",
       "      <th>25</th>\n",
       "    </tr>\n",
       "  </thead>\n",
       "  <tbody>\n",
       "    <tr>\n",
       "      <th>0</th>\n",
       "      <td>Scan</td>\n",
       "      <td>Time</td>\n",
       "      <td>101 (VDC)</td>\n",
       "      <td>Alarm 101</td>\n",
       "      <td>102 (VDC)</td>\n",
       "      <td>Alarm 102</td>\n",
       "      <td>103 (VDC)</td>\n",
       "      <td>Alarm 103</td>\n",
       "      <td>104 (VDC)</td>\n",
       "      <td>Alarm 104</td>\n",
       "      <td>...</td>\n",
       "      <td>202 (VDC)</td>\n",
       "      <td>Alarm 202</td>\n",
       "      <td>203 (VDC)</td>\n",
       "      <td>Alarm 203</td>\n",
       "      <td>204 (VDC)</td>\n",
       "      <td>Alarm 204</td>\n",
       "      <td>205 (VDC)</td>\n",
       "      <td>Alarm 205</td>\n",
       "      <td>206 (VDC)</td>\n",
       "      <td>Alarm 206</td>\n",
       "    </tr>\n",
       "  </tbody>\n",
       "</table>\n",
       "<p>1 rows × 26 columns</p>\n",
       "</div>"
      ],
      "text/plain": [
       "     0     1          2          3          4          5          6   \\\n",
       "0  Scan  Time  101 (VDC)  Alarm 101  102 (VDC)  Alarm 102  103 (VDC)   \n",
       "\n",
       "          7          8          9   ...         16         17         18  \\\n",
       "0  Alarm 103  104 (VDC)  Alarm 104  ...  202 (VDC)  Alarm 202  203 (VDC)   \n",
       "\n",
       "          19         20         21         22         23         24         25  \n",
       "0  Alarm 203  204 (VDC)  Alarm 204  205 (VDC)  Alarm 205  206 (VDC)  Alarm 206  \n",
       "\n",
       "[1 rows x 26 columns]"
      ]
     },
     "execution_count": 7,
     "metadata": {},
     "output_type": "execute_result"
    }
   ],
   "source": [
    "df"
   ]
  },
  {
   "cell_type": "code",
   "execution_count": 8,
   "metadata": {},
   "outputs": [],
   "source": [
    "df.to_csv('example',index=False)"
   ]
  },
  {
   "cell_type": "code",
   "execution_count": 9,
   "metadata": {},
   "outputs": [],
   "source": [
    "import time\n",
    "now=time.time\n",
    "\n"
   ]
  },
  {
   "cell_type": "code",
   "execution_count": 11,
   "metadata": {},
   "outputs": [
    {
     "data": {
      "text/plain": [
       "1566571529.6487331"
      ]
     },
     "execution_count": 11,
     "metadata": {},
     "output_type": "execute_result"
    }
   ],
   "source": [
    "now()"
   ]
  },
  {
   "cell_type": "code",
   "execution_count": 13,
   "metadata": {},
   "outputs": [
    {
     "name": "stdout",
     "output_type": "stream",
     "text": [
      "10\n",
      "9\n",
      "8\n",
      "7\n",
      "6\n",
      "5\n",
      "4\n",
      "3\n",
      "2\n",
      "1\n"
     ]
    }
   ],
   "source": [
    " a= range(10, 0, -1)\n",
    "for i in a:\n",
    "    print(i)\n",
    "    "
   ]
  },
  {
   "cell_type": "code",
   "execution_count": 14,
   "metadata": {},
   "outputs": [],
   "source": [
    "import numpy as np\n",
    "import pandas as pd"
   ]
  },
  {
   "cell_type": "code",
   "execution_count": 61,
   "metadata": {},
   "outputs": [],
   "source": [
    "dfL1= pd.read_csv('raw_text_L1.txt')"
   ]
  },
  {
   "cell_type": "code",
   "execution_count": 62,
   "metadata": {},
   "outputs": [
    {
     "data": {
      "text/html": [
       "<div>\n",
       "<style scoped>\n",
       "    .dataframe tbody tr th:only-of-type {\n",
       "        vertical-align: middle;\n",
       "    }\n",
       "\n",
       "    .dataframe tbody tr th {\n",
       "        vertical-align: top;\n",
       "    }\n",
       "\n",
       "    .dataframe thead th {\n",
       "        text-align: right;\n",
       "    }\n",
       "</style>\n",
       "<table border=\"1\" class=\"dataframe\">\n",
       "  <thead>\n",
       "    <tr style=\"text-align: right;\">\n",
       "      <th></th>\n",
       "      <th>Scan</th>\n",
       "      <th>Time</th>\n",
       "      <th>101 (VDC)</th>\n",
       "      <th>Alarm 101</th>\n",
       "      <th>102 (VDC)</th>\n",
       "      <th>Alarm 102</th>\n",
       "      <th>103 (VDC)</th>\n",
       "      <th>Alarm 103</th>\n",
       "      <th>104 (VDC)</th>\n",
       "      <th>Alarm 104</th>\n",
       "      <th>...</th>\n",
       "      <th>202 (VDC)</th>\n",
       "      <th>Alarm 202</th>\n",
       "      <th>203 (VDC)</th>\n",
       "      <th>Alarm 203</th>\n",
       "      <th>204 (VDC)</th>\n",
       "      <th>Alarm 204</th>\n",
       "      <th>205 (VDC)</th>\n",
       "      <th>Alarm 205</th>\n",
       "      <th>206 (VDC)</th>\n",
       "      <th>Alarm 206</th>\n",
       "    </tr>\n",
       "  </thead>\n",
       "  <tbody>\n",
       "    <tr>\n",
       "      <th>0</th>\n",
       "      <td>1</td>\n",
       "      <td>5/12/2019 13:16:24:579</td>\n",
       "      <td>-0.367762</td>\n",
       "      <td>0</td>\n",
       "      <td>-0.362059</td>\n",
       "      <td>0</td>\n",
       "      <td>-0.368603</td>\n",
       "      <td>0</td>\n",
       "      <td>-0.367035</td>\n",
       "      <td>0</td>\n",
       "      <td>...</td>\n",
       "      <td>0.51771</td>\n",
       "      <td>0</td>\n",
       "      <td>0.51782</td>\n",
       "      <td>0</td>\n",
       "      <td>0.51060</td>\n",
       "      <td>0</td>\n",
       "      <td>0.51776</td>\n",
       "      <td>0</td>\n",
       "      <td>0.51517</td>\n",
       "      <td>0</td>\n",
       "    </tr>\n",
       "    <tr>\n",
       "      <th>1</th>\n",
       "      <td>2</td>\n",
       "      <td>5/12/2019 13:16:48:478</td>\n",
       "      <td>-0.367768</td>\n",
       "      <td>0</td>\n",
       "      <td>-0.362063</td>\n",
       "      <td>0</td>\n",
       "      <td>-0.368606</td>\n",
       "      <td>0</td>\n",
       "      <td>-0.367040</td>\n",
       "      <td>0</td>\n",
       "      <td>...</td>\n",
       "      <td>0.51688</td>\n",
       "      <td>0</td>\n",
       "      <td>0.51699</td>\n",
       "      <td>0</td>\n",
       "      <td>0.51093</td>\n",
       "      <td>0</td>\n",
       "      <td>0.51787</td>\n",
       "      <td>0</td>\n",
       "      <td>0.51446</td>\n",
       "      <td>0</td>\n",
       "    </tr>\n",
       "    <tr>\n",
       "      <th>2</th>\n",
       "      <td>3</td>\n",
       "      <td>5/12/2019 13:17:12:314</td>\n",
       "      <td>-0.367773</td>\n",
       "      <td>0</td>\n",
       "      <td>-0.362067</td>\n",
       "      <td>0</td>\n",
       "      <td>-0.368611</td>\n",
       "      <td>0</td>\n",
       "      <td>-0.367043</td>\n",
       "      <td>0</td>\n",
       "      <td>...</td>\n",
       "      <td>0.51694</td>\n",
       "      <td>0</td>\n",
       "      <td>0.51595</td>\n",
       "      <td>0</td>\n",
       "      <td>0.51060</td>\n",
       "      <td>0</td>\n",
       "      <td>0.51683</td>\n",
       "      <td>0</td>\n",
       "      <td>0.51457</td>\n",
       "      <td>0</td>\n",
       "    </tr>\n",
       "    <tr>\n",
       "      <th>3</th>\n",
       "      <td>4</td>\n",
       "      <td>5/12/2019 13:17:36:150</td>\n",
       "      <td>-0.367780</td>\n",
       "      <td>0</td>\n",
       "      <td>-0.362072</td>\n",
       "      <td>0</td>\n",
       "      <td>-0.368614</td>\n",
       "      <td>0</td>\n",
       "      <td>-0.367048</td>\n",
       "      <td>0</td>\n",
       "      <td>...</td>\n",
       "      <td>0.51628</td>\n",
       "      <td>0</td>\n",
       "      <td>0.51617</td>\n",
       "      <td>0</td>\n",
       "      <td>0.50911</td>\n",
       "      <td>0</td>\n",
       "      <td>0.51716</td>\n",
       "      <td>0</td>\n",
       "      <td>0.51385</td>\n",
       "      <td>0</td>\n",
       "    </tr>\n",
       "    <tr>\n",
       "      <th>4</th>\n",
       "      <td>1</td>\n",
       "      <td>5/12/2019 13:16:24:579</td>\n",
       "      <td>-0.367762</td>\n",
       "      <td>0</td>\n",
       "      <td>-0.362059</td>\n",
       "      <td>0</td>\n",
       "      <td>-0.368603</td>\n",
       "      <td>0</td>\n",
       "      <td>-0.367035</td>\n",
       "      <td>0</td>\n",
       "      <td>...</td>\n",
       "      <td>0.51771</td>\n",
       "      <td>0</td>\n",
       "      <td>0.51782</td>\n",
       "      <td>0</td>\n",
       "      <td>0.51060</td>\n",
       "      <td>0</td>\n",
       "      <td>0.51776</td>\n",
       "      <td>0</td>\n",
       "      <td>0.51517</td>\n",
       "      <td>0</td>\n",
       "    </tr>\n",
       "    <tr>\n",
       "      <th>5</th>\n",
       "      <td>2</td>\n",
       "      <td>5/12/2019 13:16:48:478</td>\n",
       "      <td>-0.367768</td>\n",
       "      <td>0</td>\n",
       "      <td>-0.362063</td>\n",
       "      <td>0</td>\n",
       "      <td>-0.368606</td>\n",
       "      <td>0</td>\n",
       "      <td>-0.367040</td>\n",
       "      <td>0</td>\n",
       "      <td>...</td>\n",
       "      <td>0.51688</td>\n",
       "      <td>0</td>\n",
       "      <td>0.51699</td>\n",
       "      <td>0</td>\n",
       "      <td>0.51093</td>\n",
       "      <td>0</td>\n",
       "      <td>0.51787</td>\n",
       "      <td>0</td>\n",
       "      <td>0.51446</td>\n",
       "      <td>0</td>\n",
       "    </tr>\n",
       "    <tr>\n",
       "      <th>6</th>\n",
       "      <td>3</td>\n",
       "      <td>5/12/2019 13:17:12:314</td>\n",
       "      <td>-0.367773</td>\n",
       "      <td>0</td>\n",
       "      <td>-0.362067</td>\n",
       "      <td>0</td>\n",
       "      <td>-0.368611</td>\n",
       "      <td>0</td>\n",
       "      <td>-0.367043</td>\n",
       "      <td>0</td>\n",
       "      <td>...</td>\n",
       "      <td>0.51694</td>\n",
       "      <td>0</td>\n",
       "      <td>0.51595</td>\n",
       "      <td>0</td>\n",
       "      <td>0.51060</td>\n",
       "      <td>0</td>\n",
       "      <td>0.51683</td>\n",
       "      <td>0</td>\n",
       "      <td>0.51457</td>\n",
       "      <td>0</td>\n",
       "    </tr>\n",
       "    <tr>\n",
       "      <th>7</th>\n",
       "      <td>4</td>\n",
       "      <td>5/12/2019 13:17:36:150</td>\n",
       "      <td>-0.367780</td>\n",
       "      <td>0</td>\n",
       "      <td>-0.362072</td>\n",
       "      <td>0</td>\n",
       "      <td>-0.368614</td>\n",
       "      <td>0</td>\n",
       "      <td>-0.367048</td>\n",
       "      <td>0</td>\n",
       "      <td>...</td>\n",
       "      <td>0.51628</td>\n",
       "      <td>0</td>\n",
       "      <td>0.51617</td>\n",
       "      <td>0</td>\n",
       "      <td>0.50911</td>\n",
       "      <td>0</td>\n",
       "      <td>0.51716</td>\n",
       "      <td>0</td>\n",
       "      <td>0.51385</td>\n",
       "      <td>0</td>\n",
       "    </tr>\n",
       "    <tr>\n",
       "      <th>8</th>\n",
       "      <td>1</td>\n",
       "      <td>5/12/2019 13:16:24:579</td>\n",
       "      <td>-0.367762</td>\n",
       "      <td>0</td>\n",
       "      <td>-0.362059</td>\n",
       "      <td>0</td>\n",
       "      <td>-0.368603</td>\n",
       "      <td>0</td>\n",
       "      <td>-0.367035</td>\n",
       "      <td>0</td>\n",
       "      <td>...</td>\n",
       "      <td>0.51771</td>\n",
       "      <td>0</td>\n",
       "      <td>0.51782</td>\n",
       "      <td>0</td>\n",
       "      <td>0.51060</td>\n",
       "      <td>0</td>\n",
       "      <td>0.51776</td>\n",
       "      <td>0</td>\n",
       "      <td>0.51517</td>\n",
       "      <td>0</td>\n",
       "    </tr>\n",
       "    <tr>\n",
       "      <th>9</th>\n",
       "      <td>2</td>\n",
       "      <td>5/12/2019 13:16:48:478</td>\n",
       "      <td>-0.367768</td>\n",
       "      <td>0</td>\n",
       "      <td>-0.362063</td>\n",
       "      <td>0</td>\n",
       "      <td>-0.368606</td>\n",
       "      <td>0</td>\n",
       "      <td>-0.367040</td>\n",
       "      <td>0</td>\n",
       "      <td>...</td>\n",
       "      <td>0.51688</td>\n",
       "      <td>0</td>\n",
       "      <td>0.51699</td>\n",
       "      <td>0</td>\n",
       "      <td>0.51093</td>\n",
       "      <td>0</td>\n",
       "      <td>0.51787</td>\n",
       "      <td>0</td>\n",
       "      <td>0.51446</td>\n",
       "      <td>0</td>\n",
       "    </tr>\n",
       "    <tr>\n",
       "      <th>10</th>\n",
       "      <td>3</td>\n",
       "      <td>5/12/2019 13:17:12:314</td>\n",
       "      <td>-0.367773</td>\n",
       "      <td>0</td>\n",
       "      <td>-0.362067</td>\n",
       "      <td>0</td>\n",
       "      <td>-0.368611</td>\n",
       "      <td>0</td>\n",
       "      <td>-0.367043</td>\n",
       "      <td>0</td>\n",
       "      <td>...</td>\n",
       "      <td>0.51694</td>\n",
       "      <td>0</td>\n",
       "      <td>0.51595</td>\n",
       "      <td>0</td>\n",
       "      <td>0.51060</td>\n",
       "      <td>0</td>\n",
       "      <td>0.51683</td>\n",
       "      <td>0</td>\n",
       "      <td>0.51457</td>\n",
       "      <td>0</td>\n",
       "    </tr>\n",
       "    <tr>\n",
       "      <th>11</th>\n",
       "      <td>4</td>\n",
       "      <td>5/12/2019 13:17:36:150</td>\n",
       "      <td>-0.367780</td>\n",
       "      <td>0</td>\n",
       "      <td>-0.362072</td>\n",
       "      <td>0</td>\n",
       "      <td>-0.368614</td>\n",
       "      <td>0</td>\n",
       "      <td>-0.367048</td>\n",
       "      <td>0</td>\n",
       "      <td>...</td>\n",
       "      <td>0.51628</td>\n",
       "      <td>0</td>\n",
       "      <td>0.51617</td>\n",
       "      <td>0</td>\n",
       "      <td>0.50911</td>\n",
       "      <td>0</td>\n",
       "      <td>0.51716</td>\n",
       "      <td>0</td>\n",
       "      <td>0.51385</td>\n",
       "      <td>0</td>\n",
       "    </tr>\n",
       "    <tr>\n",
       "      <th>12</th>\n",
       "      <td>1</td>\n",
       "      <td>5/12/2019 13:16:24:579</td>\n",
       "      <td>-0.367762</td>\n",
       "      <td>0</td>\n",
       "      <td>-0.362059</td>\n",
       "      <td>0</td>\n",
       "      <td>-0.368603</td>\n",
       "      <td>0</td>\n",
       "      <td>-0.367035</td>\n",
       "      <td>0</td>\n",
       "      <td>...</td>\n",
       "      <td>0.51771</td>\n",
       "      <td>0</td>\n",
       "      <td>0.51782</td>\n",
       "      <td>0</td>\n",
       "      <td>0.51060</td>\n",
       "      <td>0</td>\n",
       "      <td>0.51776</td>\n",
       "      <td>0</td>\n",
       "      <td>0.51517</td>\n",
       "      <td>0</td>\n",
       "    </tr>\n",
       "    <tr>\n",
       "      <th>13</th>\n",
       "      <td>2</td>\n",
       "      <td>5/12/2019 13:16:48:478</td>\n",
       "      <td>-0.367768</td>\n",
       "      <td>0</td>\n",
       "      <td>-0.362063</td>\n",
       "      <td>0</td>\n",
       "      <td>-0.368606</td>\n",
       "      <td>0</td>\n",
       "      <td>-0.367040</td>\n",
       "      <td>0</td>\n",
       "      <td>...</td>\n",
       "      <td>0.51688</td>\n",
       "      <td>0</td>\n",
       "      <td>0.51699</td>\n",
       "      <td>0</td>\n",
       "      <td>0.51093</td>\n",
       "      <td>0</td>\n",
       "      <td>0.51787</td>\n",
       "      <td>0</td>\n",
       "      <td>0.51446</td>\n",
       "      <td>0</td>\n",
       "    </tr>\n",
       "    <tr>\n",
       "      <th>14</th>\n",
       "      <td>3</td>\n",
       "      <td>5/12/2019 13:17:12:314</td>\n",
       "      <td>-0.367773</td>\n",
       "      <td>0</td>\n",
       "      <td>-0.362067</td>\n",
       "      <td>0</td>\n",
       "      <td>-0.368611</td>\n",
       "      <td>0</td>\n",
       "      <td>-0.367043</td>\n",
       "      <td>0</td>\n",
       "      <td>...</td>\n",
       "      <td>0.51694</td>\n",
       "      <td>0</td>\n",
       "      <td>0.51595</td>\n",
       "      <td>0</td>\n",
       "      <td>0.51060</td>\n",
       "      <td>0</td>\n",
       "      <td>0.51683</td>\n",
       "      <td>0</td>\n",
       "      <td>0.51457</td>\n",
       "      <td>0</td>\n",
       "    </tr>\n",
       "    <tr>\n",
       "      <th>15</th>\n",
       "      <td>4</td>\n",
       "      <td>5/12/2019 13:17:36:150</td>\n",
       "      <td>-0.367780</td>\n",
       "      <td>0</td>\n",
       "      <td>-0.362072</td>\n",
       "      <td>0</td>\n",
       "      <td>-0.368614</td>\n",
       "      <td>0</td>\n",
       "      <td>-0.367048</td>\n",
       "      <td>0</td>\n",
       "      <td>...</td>\n",
       "      <td>0.51628</td>\n",
       "      <td>0</td>\n",
       "      <td>0.51617</td>\n",
       "      <td>0</td>\n",
       "      <td>0.50911</td>\n",
       "      <td>0</td>\n",
       "      <td>0.51716</td>\n",
       "      <td>0</td>\n",
       "      <td>0.51385</td>\n",
       "      <td>0</td>\n",
       "    </tr>\n",
       "    <tr>\n",
       "      <th>16</th>\n",
       "      <td>1</td>\n",
       "      <td>5/12/2019 13:16:24:579</td>\n",
       "      <td>-0.367762</td>\n",
       "      <td>0</td>\n",
       "      <td>-0.362059</td>\n",
       "      <td>0</td>\n",
       "      <td>-0.368603</td>\n",
       "      <td>0</td>\n",
       "      <td>-0.367035</td>\n",
       "      <td>0</td>\n",
       "      <td>...</td>\n",
       "      <td>0.51771</td>\n",
       "      <td>0</td>\n",
       "      <td>0.51782</td>\n",
       "      <td>0</td>\n",
       "      <td>0.51060</td>\n",
       "      <td>0</td>\n",
       "      <td>0.51776</td>\n",
       "      <td>0</td>\n",
       "      <td>0.51517</td>\n",
       "      <td>0</td>\n",
       "    </tr>\n",
       "    <tr>\n",
       "      <th>17</th>\n",
       "      <td>2</td>\n",
       "      <td>5/12/2019 13:16:48:478</td>\n",
       "      <td>-0.367768</td>\n",
       "      <td>0</td>\n",
       "      <td>-0.362063</td>\n",
       "      <td>0</td>\n",
       "      <td>-0.368606</td>\n",
       "      <td>0</td>\n",
       "      <td>-0.367040</td>\n",
       "      <td>0</td>\n",
       "      <td>...</td>\n",
       "      <td>0.51688</td>\n",
       "      <td>0</td>\n",
       "      <td>0.51699</td>\n",
       "      <td>0</td>\n",
       "      <td>0.51093</td>\n",
       "      <td>0</td>\n",
       "      <td>0.51787</td>\n",
       "      <td>0</td>\n",
       "      <td>0.51446</td>\n",
       "      <td>0</td>\n",
       "    </tr>\n",
       "    <tr>\n",
       "      <th>18</th>\n",
       "      <td>3</td>\n",
       "      <td>5/12/2019 13:17:12:314</td>\n",
       "      <td>-0.367773</td>\n",
       "      <td>0</td>\n",
       "      <td>-0.362067</td>\n",
       "      <td>0</td>\n",
       "      <td>-0.368611</td>\n",
       "      <td>0</td>\n",
       "      <td>-0.367043</td>\n",
       "      <td>0</td>\n",
       "      <td>...</td>\n",
       "      <td>0.51694</td>\n",
       "      <td>0</td>\n",
       "      <td>0.51595</td>\n",
       "      <td>0</td>\n",
       "      <td>0.51060</td>\n",
       "      <td>0</td>\n",
       "      <td>0.51683</td>\n",
       "      <td>0</td>\n",
       "      <td>0.51457</td>\n",
       "      <td>0</td>\n",
       "    </tr>\n",
       "    <tr>\n",
       "      <th>19</th>\n",
       "      <td>4</td>\n",
       "      <td>5/12/2019 13:17:36:150</td>\n",
       "      <td>-0.367780</td>\n",
       "      <td>0</td>\n",
       "      <td>-0.362072</td>\n",
       "      <td>0</td>\n",
       "      <td>-0.368614</td>\n",
       "      <td>0</td>\n",
       "      <td>-0.367048</td>\n",
       "      <td>0</td>\n",
       "      <td>...</td>\n",
       "      <td>0.51628</td>\n",
       "      <td>0</td>\n",
       "      <td>0.51617</td>\n",
       "      <td>0</td>\n",
       "      <td>0.50911</td>\n",
       "      <td>0</td>\n",
       "      <td>0.51716</td>\n",
       "      <td>0</td>\n",
       "      <td>0.51385</td>\n",
       "      <td>0</td>\n",
       "    </tr>\n",
       "    <tr>\n",
       "      <th>20</th>\n",
       "      <td>1</td>\n",
       "      <td>5/12/2019 13:16:24:579</td>\n",
       "      <td>-0.367762</td>\n",
       "      <td>0</td>\n",
       "      <td>-0.362059</td>\n",
       "      <td>0</td>\n",
       "      <td>-0.368603</td>\n",
       "      <td>0</td>\n",
       "      <td>-0.367035</td>\n",
       "      <td>0</td>\n",
       "      <td>...</td>\n",
       "      <td>0.51771</td>\n",
       "      <td>0</td>\n",
       "      <td>0.51782</td>\n",
       "      <td>0</td>\n",
       "      <td>0.51060</td>\n",
       "      <td>0</td>\n",
       "      <td>0.51776</td>\n",
       "      <td>0</td>\n",
       "      <td>0.51517</td>\n",
       "      <td>0</td>\n",
       "    </tr>\n",
       "    <tr>\n",
       "      <th>21</th>\n",
       "      <td>2</td>\n",
       "      <td>5/12/2019 13:16:48:478</td>\n",
       "      <td>-0.367768</td>\n",
       "      <td>0</td>\n",
       "      <td>-0.362063</td>\n",
       "      <td>0</td>\n",
       "      <td>-0.368606</td>\n",
       "      <td>0</td>\n",
       "      <td>-0.367040</td>\n",
       "      <td>0</td>\n",
       "      <td>...</td>\n",
       "      <td>0.51688</td>\n",
       "      <td>0</td>\n",
       "      <td>0.51699</td>\n",
       "      <td>0</td>\n",
       "      <td>0.51093</td>\n",
       "      <td>0</td>\n",
       "      <td>0.51787</td>\n",
       "      <td>0</td>\n",
       "      <td>0.51446</td>\n",
       "      <td>0</td>\n",
       "    </tr>\n",
       "    <tr>\n",
       "      <th>22</th>\n",
       "      <td>3</td>\n",
       "      <td>5/12/2019 13:17:12:314</td>\n",
       "      <td>-0.367773</td>\n",
       "      <td>0</td>\n",
       "      <td>-0.362067</td>\n",
       "      <td>0</td>\n",
       "      <td>-0.368611</td>\n",
       "      <td>0</td>\n",
       "      <td>-0.367043</td>\n",
       "      <td>0</td>\n",
       "      <td>...</td>\n",
       "      <td>0.51694</td>\n",
       "      <td>0</td>\n",
       "      <td>0.51595</td>\n",
       "      <td>0</td>\n",
       "      <td>0.51060</td>\n",
       "      <td>0</td>\n",
       "      <td>0.51683</td>\n",
       "      <td>0</td>\n",
       "      <td>0.51457</td>\n",
       "      <td>0</td>\n",
       "    </tr>\n",
       "    <tr>\n",
       "      <th>23</th>\n",
       "      <td>4</td>\n",
       "      <td>5/12/2019 13:17:36:150</td>\n",
       "      <td>-0.367780</td>\n",
       "      <td>0</td>\n",
       "      <td>-0.362072</td>\n",
       "      <td>0</td>\n",
       "      <td>-0.368614</td>\n",
       "      <td>0</td>\n",
       "      <td>-0.367048</td>\n",
       "      <td>0</td>\n",
       "      <td>...</td>\n",
       "      <td>0.51628</td>\n",
       "      <td>0</td>\n",
       "      <td>0.51617</td>\n",
       "      <td>0</td>\n",
       "      <td>0.50911</td>\n",
       "      <td>0</td>\n",
       "      <td>0.51716</td>\n",
       "      <td>0</td>\n",
       "      <td>0.51385</td>\n",
       "      <td>0</td>\n",
       "    </tr>\n",
       "    <tr>\n",
       "      <th>24</th>\n",
       "      <td>1</td>\n",
       "      <td>5/12/2019 13:16:24:579</td>\n",
       "      <td>-0.367762</td>\n",
       "      <td>0</td>\n",
       "      <td>-0.362059</td>\n",
       "      <td>0</td>\n",
       "      <td>-0.368603</td>\n",
       "      <td>0</td>\n",
       "      <td>-0.367035</td>\n",
       "      <td>0</td>\n",
       "      <td>...</td>\n",
       "      <td>0.51771</td>\n",
       "      <td>0</td>\n",
       "      <td>0.51782</td>\n",
       "      <td>0</td>\n",
       "      <td>0.51060</td>\n",
       "      <td>0</td>\n",
       "      <td>0.51776</td>\n",
       "      <td>0</td>\n",
       "      <td>0.51517</td>\n",
       "      <td>0</td>\n",
       "    </tr>\n",
       "    <tr>\n",
       "      <th>25</th>\n",
       "      <td>2</td>\n",
       "      <td>5/12/2019 13:16:48:478</td>\n",
       "      <td>-0.367768</td>\n",
       "      <td>0</td>\n",
       "      <td>-0.362063</td>\n",
       "      <td>0</td>\n",
       "      <td>-0.368606</td>\n",
       "      <td>0</td>\n",
       "      <td>-0.367040</td>\n",
       "      <td>0</td>\n",
       "      <td>...</td>\n",
       "      <td>0.51688</td>\n",
       "      <td>0</td>\n",
       "      <td>0.51699</td>\n",
       "      <td>0</td>\n",
       "      <td>0.51093</td>\n",
       "      <td>0</td>\n",
       "      <td>0.51787</td>\n",
       "      <td>0</td>\n",
       "      <td>0.51446</td>\n",
       "      <td>0</td>\n",
       "    </tr>\n",
       "    <tr>\n",
       "      <th>26</th>\n",
       "      <td>3</td>\n",
       "      <td>5/12/2019 13:17:12:314</td>\n",
       "      <td>-0.367773</td>\n",
       "      <td>0</td>\n",
       "      <td>-0.362067</td>\n",
       "      <td>0</td>\n",
       "      <td>-0.368611</td>\n",
       "      <td>0</td>\n",
       "      <td>-0.367043</td>\n",
       "      <td>0</td>\n",
       "      <td>...</td>\n",
       "      <td>0.51694</td>\n",
       "      <td>0</td>\n",
       "      <td>0.51595</td>\n",
       "      <td>0</td>\n",
       "      <td>0.51060</td>\n",
       "      <td>0</td>\n",
       "      <td>0.51683</td>\n",
       "      <td>0</td>\n",
       "      <td>0.51457</td>\n",
       "      <td>0</td>\n",
       "    </tr>\n",
       "    <tr>\n",
       "      <th>27</th>\n",
       "      <td>4</td>\n",
       "      <td>5/12/2019 13:17:36:150</td>\n",
       "      <td>-0.367780</td>\n",
       "      <td>0</td>\n",
       "      <td>-0.362072</td>\n",
       "      <td>0</td>\n",
       "      <td>-0.368614</td>\n",
       "      <td>0</td>\n",
       "      <td>-0.367048</td>\n",
       "      <td>0</td>\n",
       "      <td>...</td>\n",
       "      <td>0.51628</td>\n",
       "      <td>0</td>\n",
       "      <td>0.51617</td>\n",
       "      <td>0</td>\n",
       "      <td>0.50911</td>\n",
       "      <td>0</td>\n",
       "      <td>0.51716</td>\n",
       "      <td>0</td>\n",
       "      <td>0.51385</td>\n",
       "      <td>0</td>\n",
       "    </tr>\n",
       "    <tr>\n",
       "      <th>28</th>\n",
       "      <td>1</td>\n",
       "      <td>5/12/2019 13:16:24:579</td>\n",
       "      <td>-0.367762</td>\n",
       "      <td>0</td>\n",
       "      <td>-0.362059</td>\n",
       "      <td>0</td>\n",
       "      <td>-0.368603</td>\n",
       "      <td>0</td>\n",
       "      <td>-0.367035</td>\n",
       "      <td>0</td>\n",
       "      <td>...</td>\n",
       "      <td>0.51771</td>\n",
       "      <td>0</td>\n",
       "      <td>0.51782</td>\n",
       "      <td>0</td>\n",
       "      <td>0.51060</td>\n",
       "      <td>0</td>\n",
       "      <td>0.51776</td>\n",
       "      <td>0</td>\n",
       "      <td>0.51517</td>\n",
       "      <td>0</td>\n",
       "    </tr>\n",
       "    <tr>\n",
       "      <th>29</th>\n",
       "      <td>2</td>\n",
       "      <td>5/12/2019 13:16:48:478</td>\n",
       "      <td>-0.367768</td>\n",
       "      <td>0</td>\n",
       "      <td>-0.362063</td>\n",
       "      <td>0</td>\n",
       "      <td>-0.368606</td>\n",
       "      <td>0</td>\n",
       "      <td>-0.367040</td>\n",
       "      <td>0</td>\n",
       "      <td>...</td>\n",
       "      <td>0.51688</td>\n",
       "      <td>0</td>\n",
       "      <td>0.51699</td>\n",
       "      <td>0</td>\n",
       "      <td>0.51093</td>\n",
       "      <td>0</td>\n",
       "      <td>0.51787</td>\n",
       "      <td>0</td>\n",
       "      <td>0.51446</td>\n",
       "      <td>0</td>\n",
       "    </tr>\n",
       "    <tr>\n",
       "      <th>30</th>\n",
       "      <td>3</td>\n",
       "      <td>5/12/2019 13:17:12:314</td>\n",
       "      <td>-0.367773</td>\n",
       "      <td>0</td>\n",
       "      <td>-0.362067</td>\n",
       "      <td>0</td>\n",
       "      <td>-0.368611</td>\n",
       "      <td>0</td>\n",
       "      <td>-0.367043</td>\n",
       "      <td>0</td>\n",
       "      <td>...</td>\n",
       "      <td>0.51694</td>\n",
       "      <td>0</td>\n",
       "      <td>0.51595</td>\n",
       "      <td>0</td>\n",
       "      <td>0.51060</td>\n",
       "      <td>0</td>\n",
       "      <td>0.51683</td>\n",
       "      <td>0</td>\n",
       "      <td>0.51457</td>\n",
       "      <td>0</td>\n",
       "    </tr>\n",
       "    <tr>\n",
       "      <th>31</th>\n",
       "      <td>4</td>\n",
       "      <td>5/12/2019 13:17:36:150</td>\n",
       "      <td>-0.367780</td>\n",
       "      <td>0</td>\n",
       "      <td>-0.362072</td>\n",
       "      <td>0</td>\n",
       "      <td>-0.368614</td>\n",
       "      <td>0</td>\n",
       "      <td>-0.367048</td>\n",
       "      <td>0</td>\n",
       "      <td>...</td>\n",
       "      <td>0.51628</td>\n",
       "      <td>0</td>\n",
       "      <td>0.51617</td>\n",
       "      <td>0</td>\n",
       "      <td>0.50911</td>\n",
       "      <td>0</td>\n",
       "      <td>0.51716</td>\n",
       "      <td>0</td>\n",
       "      <td>0.51385</td>\n",
       "      <td>0</td>\n",
       "    </tr>\n",
       "    <tr>\n",
       "      <th>32</th>\n",
       "      <td>1</td>\n",
       "      <td>5/12/2019 13:16:24:579</td>\n",
       "      <td>-0.367762</td>\n",
       "      <td>0</td>\n",
       "      <td>-0.362059</td>\n",
       "      <td>0</td>\n",
       "      <td>-0.368603</td>\n",
       "      <td>0</td>\n",
       "      <td>-0.367035</td>\n",
       "      <td>0</td>\n",
       "      <td>...</td>\n",
       "      <td>0.51771</td>\n",
       "      <td>0</td>\n",
       "      <td>0.51782</td>\n",
       "      <td>0</td>\n",
       "      <td>0.51060</td>\n",
       "      <td>0</td>\n",
       "      <td>0.51776</td>\n",
       "      <td>0</td>\n",
       "      <td>0.51517</td>\n",
       "      <td>0</td>\n",
       "    </tr>\n",
       "    <tr>\n",
       "      <th>33</th>\n",
       "      <td>2</td>\n",
       "      <td>5/12/2019 13:16:48:478</td>\n",
       "      <td>-0.367768</td>\n",
       "      <td>0</td>\n",
       "      <td>-0.362063</td>\n",
       "      <td>0</td>\n",
       "      <td>-0.368606</td>\n",
       "      <td>0</td>\n",
       "      <td>-0.367040</td>\n",
       "      <td>0</td>\n",
       "      <td>...</td>\n",
       "      <td>0.51688</td>\n",
       "      <td>0</td>\n",
       "      <td>0.51699</td>\n",
       "      <td>0</td>\n",
       "      <td>0.51093</td>\n",
       "      <td>0</td>\n",
       "      <td>0.51787</td>\n",
       "      <td>0</td>\n",
       "      <td>0.51446</td>\n",
       "      <td>0</td>\n",
       "    </tr>\n",
       "    <tr>\n",
       "      <th>34</th>\n",
       "      <td>3</td>\n",
       "      <td>5/12/2019 13:17:12:314</td>\n",
       "      <td>-0.367773</td>\n",
       "      <td>0</td>\n",
       "      <td>-0.362067</td>\n",
       "      <td>0</td>\n",
       "      <td>-0.368611</td>\n",
       "      <td>0</td>\n",
       "      <td>-0.367043</td>\n",
       "      <td>0</td>\n",
       "      <td>...</td>\n",
       "      <td>0.51694</td>\n",
       "      <td>0</td>\n",
       "      <td>0.51595</td>\n",
       "      <td>0</td>\n",
       "      <td>0.51060</td>\n",
       "      <td>0</td>\n",
       "      <td>0.51683</td>\n",
       "      <td>0</td>\n",
       "      <td>0.51457</td>\n",
       "      <td>0</td>\n",
       "    </tr>\n",
       "    <tr>\n",
       "      <th>35</th>\n",
       "      <td>3</td>\n",
       "      <td>5/12/2019 13:17:12:314</td>\n",
       "      <td>-0.367773</td>\n",
       "      <td>0</td>\n",
       "      <td>-0.362067</td>\n",
       "      <td>0</td>\n",
       "      <td>-0.368611</td>\n",
       "      <td>0</td>\n",
       "      <td>-0.367043</td>\n",
       "      <td>0</td>\n",
       "      <td>...</td>\n",
       "      <td>0.51694</td>\n",
       "      <td>0</td>\n",
       "      <td>0.51595</td>\n",
       "      <td>0</td>\n",
       "      <td>0.51060</td>\n",
       "      <td>0</td>\n",
       "      <td>0.51683</td>\n",
       "      <td>0</td>\n",
       "      <td>0.51457</td>\n",
       "      <td>0</td>\n",
       "    </tr>\n",
       "  </tbody>\n",
       "</table>\n",
       "<p>36 rows × 26 columns</p>\n",
       "</div>"
      ],
      "text/plain": [
       "    Scan                    Time  101 (VDC)  Alarm 101  102 (VDC)  Alarm 102  \\\n",
       "0      1  5/12/2019 13:16:24:579  -0.367762          0  -0.362059          0   \n",
       "1      2  5/12/2019 13:16:48:478  -0.367768          0  -0.362063          0   \n",
       "2      3  5/12/2019 13:17:12:314  -0.367773          0  -0.362067          0   \n",
       "3      4  5/12/2019 13:17:36:150  -0.367780          0  -0.362072          0   \n",
       "4      1  5/12/2019 13:16:24:579  -0.367762          0  -0.362059          0   \n",
       "5      2  5/12/2019 13:16:48:478  -0.367768          0  -0.362063          0   \n",
       "6      3  5/12/2019 13:17:12:314  -0.367773          0  -0.362067          0   \n",
       "7      4  5/12/2019 13:17:36:150  -0.367780          0  -0.362072          0   \n",
       "8      1  5/12/2019 13:16:24:579  -0.367762          0  -0.362059          0   \n",
       "9      2  5/12/2019 13:16:48:478  -0.367768          0  -0.362063          0   \n",
       "10     3  5/12/2019 13:17:12:314  -0.367773          0  -0.362067          0   \n",
       "11     4  5/12/2019 13:17:36:150  -0.367780          0  -0.362072          0   \n",
       "12     1  5/12/2019 13:16:24:579  -0.367762          0  -0.362059          0   \n",
       "13     2  5/12/2019 13:16:48:478  -0.367768          0  -0.362063          0   \n",
       "14     3  5/12/2019 13:17:12:314  -0.367773          0  -0.362067          0   \n",
       "15     4  5/12/2019 13:17:36:150  -0.367780          0  -0.362072          0   \n",
       "16     1  5/12/2019 13:16:24:579  -0.367762          0  -0.362059          0   \n",
       "17     2  5/12/2019 13:16:48:478  -0.367768          0  -0.362063          0   \n",
       "18     3  5/12/2019 13:17:12:314  -0.367773          0  -0.362067          0   \n",
       "19     4  5/12/2019 13:17:36:150  -0.367780          0  -0.362072          0   \n",
       "20     1  5/12/2019 13:16:24:579  -0.367762          0  -0.362059          0   \n",
       "21     2  5/12/2019 13:16:48:478  -0.367768          0  -0.362063          0   \n",
       "22     3  5/12/2019 13:17:12:314  -0.367773          0  -0.362067          0   \n",
       "23     4  5/12/2019 13:17:36:150  -0.367780          0  -0.362072          0   \n",
       "24     1  5/12/2019 13:16:24:579  -0.367762          0  -0.362059          0   \n",
       "25     2  5/12/2019 13:16:48:478  -0.367768          0  -0.362063          0   \n",
       "26     3  5/12/2019 13:17:12:314  -0.367773          0  -0.362067          0   \n",
       "27     4  5/12/2019 13:17:36:150  -0.367780          0  -0.362072          0   \n",
       "28     1  5/12/2019 13:16:24:579  -0.367762          0  -0.362059          0   \n",
       "29     2  5/12/2019 13:16:48:478  -0.367768          0  -0.362063          0   \n",
       "30     3  5/12/2019 13:17:12:314  -0.367773          0  -0.362067          0   \n",
       "31     4  5/12/2019 13:17:36:150  -0.367780          0  -0.362072          0   \n",
       "32     1  5/12/2019 13:16:24:579  -0.367762          0  -0.362059          0   \n",
       "33     2  5/12/2019 13:16:48:478  -0.367768          0  -0.362063          0   \n",
       "34     3  5/12/2019 13:17:12:314  -0.367773          0  -0.362067          0   \n",
       "35     3  5/12/2019 13:17:12:314  -0.367773          0  -0.362067          0   \n",
       "\n",
       "    103 (VDC)  Alarm 103  104 (VDC)  Alarm 104  ...  202 (VDC)  Alarm 202  \\\n",
       "0   -0.368603          0  -0.367035          0  ...    0.51771          0   \n",
       "1   -0.368606          0  -0.367040          0  ...    0.51688          0   \n",
       "2   -0.368611          0  -0.367043          0  ...    0.51694          0   \n",
       "3   -0.368614          0  -0.367048          0  ...    0.51628          0   \n",
       "4   -0.368603          0  -0.367035          0  ...    0.51771          0   \n",
       "5   -0.368606          0  -0.367040          0  ...    0.51688          0   \n",
       "6   -0.368611          0  -0.367043          0  ...    0.51694          0   \n",
       "7   -0.368614          0  -0.367048          0  ...    0.51628          0   \n",
       "8   -0.368603          0  -0.367035          0  ...    0.51771          0   \n",
       "9   -0.368606          0  -0.367040          0  ...    0.51688          0   \n",
       "10  -0.368611          0  -0.367043          0  ...    0.51694          0   \n",
       "11  -0.368614          0  -0.367048          0  ...    0.51628          0   \n",
       "12  -0.368603          0  -0.367035          0  ...    0.51771          0   \n",
       "13  -0.368606          0  -0.367040          0  ...    0.51688          0   \n",
       "14  -0.368611          0  -0.367043          0  ...    0.51694          0   \n",
       "15  -0.368614          0  -0.367048          0  ...    0.51628          0   \n",
       "16  -0.368603          0  -0.367035          0  ...    0.51771          0   \n",
       "17  -0.368606          0  -0.367040          0  ...    0.51688          0   \n",
       "18  -0.368611          0  -0.367043          0  ...    0.51694          0   \n",
       "19  -0.368614          0  -0.367048          0  ...    0.51628          0   \n",
       "20  -0.368603          0  -0.367035          0  ...    0.51771          0   \n",
       "21  -0.368606          0  -0.367040          0  ...    0.51688          0   \n",
       "22  -0.368611          0  -0.367043          0  ...    0.51694          0   \n",
       "23  -0.368614          0  -0.367048          0  ...    0.51628          0   \n",
       "24  -0.368603          0  -0.367035          0  ...    0.51771          0   \n",
       "25  -0.368606          0  -0.367040          0  ...    0.51688          0   \n",
       "26  -0.368611          0  -0.367043          0  ...    0.51694          0   \n",
       "27  -0.368614          0  -0.367048          0  ...    0.51628          0   \n",
       "28  -0.368603          0  -0.367035          0  ...    0.51771          0   \n",
       "29  -0.368606          0  -0.367040          0  ...    0.51688          0   \n",
       "30  -0.368611          0  -0.367043          0  ...    0.51694          0   \n",
       "31  -0.368614          0  -0.367048          0  ...    0.51628          0   \n",
       "32  -0.368603          0  -0.367035          0  ...    0.51771          0   \n",
       "33  -0.368606          0  -0.367040          0  ...    0.51688          0   \n",
       "34  -0.368611          0  -0.367043          0  ...    0.51694          0   \n",
       "35  -0.368611          0  -0.367043          0  ...    0.51694          0   \n",
       "\n",
       "    203 (VDC)  Alarm 203  204 (VDC)  Alarm 204  205 (VDC)  Alarm 205  \\\n",
       "0     0.51782          0    0.51060          0    0.51776          0   \n",
       "1     0.51699          0    0.51093          0    0.51787          0   \n",
       "2     0.51595          0    0.51060          0    0.51683          0   \n",
       "3     0.51617          0    0.50911          0    0.51716          0   \n",
       "4     0.51782          0    0.51060          0    0.51776          0   \n",
       "5     0.51699          0    0.51093          0    0.51787          0   \n",
       "6     0.51595          0    0.51060          0    0.51683          0   \n",
       "7     0.51617          0    0.50911          0    0.51716          0   \n",
       "8     0.51782          0    0.51060          0    0.51776          0   \n",
       "9     0.51699          0    0.51093          0    0.51787          0   \n",
       "10    0.51595          0    0.51060          0    0.51683          0   \n",
       "11    0.51617          0    0.50911          0    0.51716          0   \n",
       "12    0.51782          0    0.51060          0    0.51776          0   \n",
       "13    0.51699          0    0.51093          0    0.51787          0   \n",
       "14    0.51595          0    0.51060          0    0.51683          0   \n",
       "15    0.51617          0    0.50911          0    0.51716          0   \n",
       "16    0.51782          0    0.51060          0    0.51776          0   \n",
       "17    0.51699          0    0.51093          0    0.51787          0   \n",
       "18    0.51595          0    0.51060          0    0.51683          0   \n",
       "19    0.51617          0    0.50911          0    0.51716          0   \n",
       "20    0.51782          0    0.51060          0    0.51776          0   \n",
       "21    0.51699          0    0.51093          0    0.51787          0   \n",
       "22    0.51595          0    0.51060          0    0.51683          0   \n",
       "23    0.51617          0    0.50911          0    0.51716          0   \n",
       "24    0.51782          0    0.51060          0    0.51776          0   \n",
       "25    0.51699          0    0.51093          0    0.51787          0   \n",
       "26    0.51595          0    0.51060          0    0.51683          0   \n",
       "27    0.51617          0    0.50911          0    0.51716          0   \n",
       "28    0.51782          0    0.51060          0    0.51776          0   \n",
       "29    0.51699          0    0.51093          0    0.51787          0   \n",
       "30    0.51595          0    0.51060          0    0.51683          0   \n",
       "31    0.51617          0    0.50911          0    0.51716          0   \n",
       "32    0.51782          0    0.51060          0    0.51776          0   \n",
       "33    0.51699          0    0.51093          0    0.51787          0   \n",
       "34    0.51595          0    0.51060          0    0.51683          0   \n",
       "35    0.51595          0    0.51060          0    0.51683          0   \n",
       "\n",
       "    206 (VDC)  Alarm 206  \n",
       "0     0.51517          0  \n",
       "1     0.51446          0  \n",
       "2     0.51457          0  \n",
       "3     0.51385          0  \n",
       "4     0.51517          0  \n",
       "5     0.51446          0  \n",
       "6     0.51457          0  \n",
       "7     0.51385          0  \n",
       "8     0.51517          0  \n",
       "9     0.51446          0  \n",
       "10    0.51457          0  \n",
       "11    0.51385          0  \n",
       "12    0.51517          0  \n",
       "13    0.51446          0  \n",
       "14    0.51457          0  \n",
       "15    0.51385          0  \n",
       "16    0.51517          0  \n",
       "17    0.51446          0  \n",
       "18    0.51457          0  \n",
       "19    0.51385          0  \n",
       "20    0.51517          0  \n",
       "21    0.51446          0  \n",
       "22    0.51457          0  \n",
       "23    0.51385          0  \n",
       "24    0.51517          0  \n",
       "25    0.51446          0  \n",
       "26    0.51457          0  \n",
       "27    0.51385          0  \n",
       "28    0.51517          0  \n",
       "29    0.51446          0  \n",
       "30    0.51457          0  \n",
       "31    0.51385          0  \n",
       "32    0.51517          0  \n",
       "33    0.51446          0  \n",
       "34    0.51457          0  \n",
       "35    0.51457          0  \n",
       "\n",
       "[36 rows x 26 columns]"
      ]
     },
     "execution_count": 62,
     "metadata": {},
     "output_type": "execute_result"
    }
   ],
   "source": [
    "dfL1"
   ]
  },
  {
   "cell_type": "code",
   "execution_count": 41,
   "metadata": {},
   "outputs": [
    {
     "data": {
      "text/plain": [
       "-0.36776239"
      ]
     },
     "execution_count": 41,
     "metadata": {},
     "output_type": "execute_result"
    }
   ],
   "source": [
    "dfL1['101 (VDC)'].loc[0]"
   ]
  },
  {
   "cell_type": "code",
   "execution_count": 23,
   "metadata": {},
   "outputs": [
    {
     "name": "stdout",
     "output_type": "stream",
     "text": [
      " Volume in drive C has no label.\n",
      " Volume Serial Number is B0E5-A41C\n",
      "\n",
      " Directory of C:\\Users\\sairamtvv\\Desktop\\Materials\n",
      "\n",
      "08/24/2019  12:19 AM    <DIR>          .\n",
      "08/24/2019  12:19 AM    <DIR>          ..\n",
      "08/17/2019  03:26 PM    <DIR>          .ipynb_checkpoints\n",
      "08/16/2019  08:23 PM    <DIR>          01 Course Introduction\n",
      "08/16/2019  08:23 PM    <DIR>          02 Course Materials and Set-up\n",
      "08/16/2019  08:23 PM    <DIR>          03 Python Crash Course\n",
      "08/16/2019  08:23 PM    <DIR>          04 NumPy\n",
      "08/16/2019  08:23 PM    <DIR>          05 General Pandas Overview\n",
      "08/16/2019  08:23 PM    <DIR>          06 Visualization with Matplotlib and Pandas\n",
      "08/16/2019  08:23 PM    <DIR>          07 Data Sources\n",
      "08/16/2019  08:23 PM    <DIR>          08 Pandas with Time Series Data\n",
      "08/16/2019  08:23 PM    <DIR>          09 Capstone Stock Market Analysis Project\n",
      "08/16/2019  08:23 PM    <DIR>          10 Time Series Analysis\n",
      "08/16/2019  08:23 PM    <DIR>          11 Python Finance Fundamentals\n",
      "08/16/2019  08:23 PM    <DIR>          12 Basics of Algorithmic Trading with Quantopian\n",
      "08/16/2019  08:23 PM    <DIR>          13 Advanced Quantopian and Trading Algorithms\n",
      "08/16/2019  08:23 PM    <DIR>          14 BONUS OFFERS\n",
      "08/19/2019  08:52 PM             1,045 check.csv\n",
      "08/19/2019  08:43 PM            12,800 check.xls\n",
      "08/19/2019  09:04 PM             1,060 check2.csv\n",
      "08/06/2019  02:47 PM            33,280 Conformance Report.xls\n",
      "08/23/2019  06:01 PM               320 example\n",
      "08/17/2019  03:25 PM               188 matlabconversionprog.py\n",
      "08/24/2019  12:13 AM             6,317 raw_text_L1.txt\n",
      "08/17/2019  09:40 PM               696 RESULT1.DAT\n",
      "08/17/2019  09:40 PM               680 RESULT2.DAT\n",
      "08/17/2019  09:39 PM               680 RESULT3.DAT\n",
      "08/24/2019  12:19 AM            95,277 Untitled.ipynb\n",
      "              11 File(s)        152,343 bytes\n",
      "              17 Dir(s)  39,856,570,368 bytes free\n"
     ]
    }
   ],
   "source": [
    "ls"
   ]
  },
  {
   "cell_type": "code",
   "execution_count": 24,
   "metadata": {},
   "outputs": [
    {
     "name": "stdout",
     "output_type": "stream",
     "text": [
      " Volume in drive C has no label.\n",
      " Volume Serial Number is B0E5-A41C\n",
      "\n",
      " Directory of C:\\Users\\sairamtvv\\Desktop\\Materials\n",
      "\n",
      "08/24/2019  12:19 AM    <DIR>          .\n",
      "08/24/2019  12:19 AM    <DIR>          ..\n",
      "08/17/2019  03:26 PM    <DIR>          .ipynb_checkpoints\n",
      "08/16/2019  08:23 PM    <DIR>          01 Course Introduction\n",
      "08/16/2019  08:23 PM    <DIR>          02 Course Materials and Set-up\n",
      "08/16/2019  08:23 PM    <DIR>          03 Python Crash Course\n",
      "08/16/2019  08:23 PM    <DIR>          04 NumPy\n",
      "08/16/2019  08:23 PM    <DIR>          05 General Pandas Overview\n",
      "08/16/2019  08:23 PM    <DIR>          06 Visualization with Matplotlib and Pandas\n",
      "08/16/2019  08:23 PM    <DIR>          07 Data Sources\n",
      "08/16/2019  08:23 PM    <DIR>          08 Pandas with Time Series Data\n",
      "08/16/2019  08:23 PM    <DIR>          09 Capstone Stock Market Analysis Project\n",
      "08/16/2019  08:23 PM    <DIR>          10 Time Series Analysis\n",
      "08/16/2019  08:23 PM    <DIR>          11 Python Finance Fundamentals\n",
      "08/16/2019  08:23 PM    <DIR>          12 Basics of Algorithmic Trading with Quantopian\n",
      "08/16/2019  08:23 PM    <DIR>          13 Advanced Quantopian and Trading Algorithms\n",
      "08/16/2019  08:23 PM    <DIR>          14 BONUS OFFERS\n",
      "08/19/2019  08:52 PM             1,045 check.csv\n",
      "08/19/2019  08:43 PM            12,800 check.xls\n",
      "08/19/2019  09:04 PM             1,060 check2.csv\n",
      "08/06/2019  02:47 PM            33,280 Conformance Report.xls\n",
      "08/23/2019  06:01 PM               320 example\n",
      "08/17/2019  03:25 PM               188 matlabconversionprog.py\n",
      "08/24/2019  12:13 AM             6,317 raw_text_L1.txt\n",
      "08/17/2019  09:40 PM               696 RESULT1.DAT\n",
      "08/17/2019  09:40 PM               680 RESULT2.DAT\n",
      "08/17/2019  09:39 PM               680 RESULT3.DAT\n",
      "08/24/2019  12:19 AM            95,277 Untitled.ipynb\n",
      "              11 File(s)        152,343 bytes\n",
      "              17 Dir(s)  39,856,570,368 bytes free\n"
     ]
    }
   ],
   "source": [
    "ls"
   ]
  },
  {
   "cell_type": "code",
   "execution_count": 76,
   "metadata": {},
   "outputs": [],
   "source": [
    "if {'101 (VDC)','201 (VDC)'}.issubset(dfL1.columns):\n",
    "    with open('32_AS_L1', 'w') as f:\n",
    "        f.write(' pos  uacc     Rts\\n')\n",
    "        for i in range(0,36):\n",
    "            f.write('  {0} {1:.6f} {2:.5f}\\n'.format(i%4+1,dfL1['101 (VDC)'].loc[i],dfL1['201 (VDC)'].loc[i]))\n",
    "          "
   ]
  },
  {
   "cell_type": "markdown",
   "metadata": {},
   "source": []
  },
  {
   "cell_type": "code",
   "execution_count": 74,
   "metadata": {},
   "outputs": [
    {
     "name": "stdout",
     "output_type": "stream",
     "text": [
      "True\n"
     ]
    }
   ],
   "source": [
    "if {'101 (VDC)','201 (VDC)'}.issubset(dfL1.columns):\n",
    "    print(\"True\")"
   ]
  },
  {
   "cell_type": "code",
   "execution_count": 65,
   "metadata": {},
   "outputs": [],
   "source": [
    "a = pd.DataFrame(data = [[1,2],[3,4]], index=range(2), columns = ['A', 'B'])\n",
    "c,b = a.iloc[0].copy(), a.iloc[1].copy()\n",
    "a.iloc[0],a.iloc[1] = b,c"
   ]
  },
  {
   "cell_type": "code",
   "execution_count": 71,
   "metadata": {},
   "outputs": [
    {
     "data": {
      "text/plain": [
       "Index(['Scan', 'Time', '101 (VDC)', 'Alarm 101', '102 (VDC)', 'Alarm 102',\n",
       "       '103 (VDC)', 'Alarm 103', '104 (VDC)', 'Alarm 104', '105 (VDC)',\n",
       "       'Alarm 105', '106 (VDC)', 'Alarm 106', '201 (VDC)', 'Alarm 201',\n",
       "       '202 (VDC)', 'Alarm 202', '203 (VDC)', 'Alarm 203', '204 (VDC)',\n",
       "       'Alarm 204', '205 (VDC)', 'Alarm 205', '206 (VDC)', 'Alarm 206'],\n",
       "      dtype='object')"
      ]
     },
     "execution_count": 71,
     "metadata": {},
     "output_type": "execute_result"
    }
   ],
   "source": [
    "dfL1.columns"
   ]
  },
  {
   "cell_type": "code",
   "execution_count": 1,
   "metadata": {},
   "outputs": [],
   "source": [
    "import socket\n"
   ]
  },
  {
   "cell_type": "code",
   "execution_count": 2,
   "metadata": {},
   "outputs": [
    {
     "name": "stdout",
     "output_type": "stream",
     "text": [
      "sairam\n"
     ]
    }
   ],
   "source": [
    "print(socket.gethostname())"
   ]
  },
  {
   "cell_type": "code",
   "execution_count": 3,
   "metadata": {},
   "outputs": [
    {
     "ename": "TypeError",
     "evalue": "gethostbyaddr() takes exactly 1 argument (0 given)",
     "output_type": "error",
     "traceback": [
      "\u001b[1;31m---------------------------------------------------------------------------\u001b[0m",
      "\u001b[1;31mTypeError\u001b[0m                                 Traceback (most recent call last)",
      "\u001b[1;32m<ipython-input-3-4c60ac9f0c6b>\u001b[0m in \u001b[0;36m<module>\u001b[1;34m\u001b[0m\n\u001b[1;32m----> 1\u001b[1;33m \u001b[0msocket\u001b[0m\u001b[1;33m.\u001b[0m\u001b[0mgethostbyaddr\u001b[0m\u001b[1;33m(\u001b[0m\u001b[1;33m)\u001b[0m\u001b[1;33m\u001b[0m\u001b[1;33m\u001b[0m\u001b[0m\n\u001b[0m",
      "\u001b[1;31mTypeError\u001b[0m: gethostbyaddr() takes exactly 1 argument (0 given)"
     ]
    }
   ],
   "source": [
    "socket.gethostbyaddr()"
   ]
  },
  {
   "cell_type": "code",
   "execution_count": 1,
   "metadata": {},
   "outputs": [],
   "source": [
    "sai='d4'"
   ]
  },
  {
   "cell_type": "code",
   "execution_count": 2,
   "metadata": {},
   "outputs": [
    {
     "data": {
      "text/plain": [
       "'4'"
      ]
     },
     "execution_count": 2,
     "metadata": {},
     "output_type": "execute_result"
    }
   ],
   "source": [
    "sai[1]"
   ]
  },
  {
   "cell_type": "code",
   "execution_count": 3,
   "metadata": {},
   "outputs": [
    {
     "data": {
      "text/plain": [
       "6"
      ]
     },
     "execution_count": 3,
     "metadata": {},
     "output_type": "execute_result"
    }
   ],
   "source": [
    "int(sai[1])+2"
   ]
  },
  {
   "cell_type": "code",
   "execution_count": 4,
   "metadata": {},
   "outputs": [],
   "source": [
    "k=6"
   ]
  },
  {
   "cell_type": "code",
   "execution_count": 5,
   "metadata": {},
   "outputs": [
    {
     "data": {
      "text/plain": [
       "range(1, 6)"
      ]
     },
     "execution_count": 5,
     "metadata": {},
     "output_type": "execute_result"
    }
   ],
   "source": [
    "range(1,6)"
   ]
  },
  {
   "cell_type": "code",
   "execution_count": 6,
   "metadata": {},
   "outputs": [
    {
     "data": {
      "text/plain": [
       "range(0, 6)"
      ]
     },
     "execution_count": 6,
     "metadata": {},
     "output_type": "execute_result"
    }
   ],
   "source": [
    "range(6)"
   ]
  },
  {
   "cell_type": "code",
   "execution_count": 7,
   "metadata": {},
   "outputs": [],
   "source": [
    "l=range(1,6)"
   ]
  },
  {
   "cell_type": "code",
   "execution_count": 8,
   "metadata": {},
   "outputs": [
    {
     "data": {
      "text/plain": [
       "range(1, 6)"
      ]
     },
     "execution_count": 8,
     "metadata": {},
     "output_type": "execute_result"
    }
   ],
   "source": [
    "l"
   ]
  },
  {
   "cell_type": "code",
   "execution_count": 11,
   "metadata": {},
   "outputs": [
    {
     "name": "stdout",
     "output_type": "stream",
     "text": [
      "1\n",
      "2\n"
     ]
    }
   ],
   "source": [
    "x = range(1, 3)\n",
    "for n in x:\n",
    "  print(n)"
   ]
  },
  {
   "cell_type": "code",
   "execution_count": 1,
   "metadata": {},
   "outputs": [
    {
     "data": {
      "text/plain": [
       "4"
      ]
     },
     "execution_count": 1,
     "metadata": {},
     "output_type": "execute_result"
    }
   ],
   "source": [
    "2+2"
   ]
  },
  {
   "cell_type": "code",
   "execution_count": 1,
   "metadata": {},
   "outputs": [],
   "source": [
    "import logging"
   ]
  },
  {
   "cell_type": "code",
   "execution_count": null,
   "metadata": {},
   "outputs": [],
   "source": []
  }
 ],
 "metadata": {
  "kernelspec": {
   "display_name": "Python 3",
   "language": "python",
   "name": "python3"
  },
  "language_info": {
   "codemirror_mode": {
    "name": "ipython",
    "version": 3
   },
   "file_extension": ".py",
   "mimetype": "text/x-python",
   "name": "python",
   "nbconvert_exporter": "python",
   "pygments_lexer": "ipython3",
   "version": "3.7.3"
  }
 },
 "nbformat": 4,
 "nbformat_minor": 2
}
