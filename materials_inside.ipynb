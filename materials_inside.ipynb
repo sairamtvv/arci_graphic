{
 "cells": [
  {
   "cell_type": "code",
   "execution_count": 1,
   "metadata": {},
   "outputs": [
    {
     "data": {
      "text/plain": [
       "4"
      ]
     },
     "execution_count": 1,
     "metadata": {},
     "output_type": "execute_result"
    }
   ],
   "source": [
    "2+2"
   ]
  },
  {
   "cell_type": "code",
   "execution_count": 2,
   "metadata": {
    "collapsed": true
   },
   "outputs": [],
   "source": [
    "x=\"sairam\""
   ]
  },
  {
   "cell_type": "code",
   "execution_count": 4,
   "metadata": {},
   "outputs": [
    {
     "data": {
      "text/plain": [
       "'Sairam'"
      ]
     },
     "execution_count": 4,
     "metadata": {},
     "output_type": "execute_result"
    }
   ],
   "source": [
    "x.capitalize()"
   ]
  },
  {
   "cell_type": "code",
   "execution_count": 5,
   "metadata": {},
   "outputs": [
    {
     "data": {
      "text/plain": [
       "9"
      ]
     },
     "execution_count": 5,
     "metadata": {},
     "output_type": "execute_result"
    }
   ],
   "source": [
    "3+6\n"
   ]
  },
  {
   "cell_type": "code",
   "execution_count": 1,
   "metadata": {},
   "outputs": [
    {
     "data": {
      "text/plain": [
       "<Figure size 640x480 with 1 Axes>"
      ]
     },
     "metadata": {},
     "output_type": "display_data"
    }
   ],
   "source": [
    "import matplotlib.pyplot as plt\n",
    "% matplotlib inline\n",
    "x = [1,2,3,4]\n",
    "y = [1,4,9,16]\n",
    "plt.plot(x, y, 'ro')\n",
    "plt.axis([0, 6, 0, 20])\n",
    "\n",
    "for i_x, i_y in zip(x, y):\n",
    "    plt.text(i_x, i_y, '({}, {})'.format(i_x, i_y))\n",
    "\n",
    "plt.show()"
   ]
  },
  {
   "cell_type": "code",
   "execution_count": 2,
   "metadata": {},
   "outputs": [],
   "source": [
    "plt.show()"
   ]
  },
  {
   "cell_type": "code",
   "execution_count": 3,
   "metadata": {},
   "outputs": [
    {
     "name": "stderr",
     "output_type": "stream",
     "text": [
      "UsageError: Line magic function `%` not found.\n"
     ]
    }
   ],
   "source": [
    "% matplotlib inline"
   ]
  },
  {
   "cell_type": "code",
   "execution_count": 4,
   "metadata": {},
   "outputs": [
    {
     "data": {
      "text/plain": [
       "6000"
      ]
     },
     "execution_count": 4,
     "metadata": {},
     "output_type": "execute_result"
    }
   ],
   "source": [
    "120*50\n"
   ]
  },
  {
   "cell_type": "code",
   "execution_count": 5,
   "metadata": {},
   "outputs": [],
   "source": [
    "%matplotlib inline"
   ]
  },
  {
   "cell_type": "code",
   "execution_count": 6,
   "metadata": {},
   "outputs": [
    {
     "data": {
      "image/png": "[encoded data removed]",
      "text/plain": [
       "<Figure size 432x288 with 1 Axes>"
      ]
     },
     "metadata": {
      "needs_background": "light"
     },
     "output_type": "display_data"
    }
   ],
   "source": [
    "import matplotlib.pyplot as plt\n",
    "x = [1,2,3,4]\n",
    "y = [1,4,9,16]\n",
    "plt.plot(x, y, 'ro')\n",
    "plt.axis([0, 6, 0, 20])\n",
    "\n",
    "for i_x, i_y in zip(x, y):\n",
    "    plt.text(i_x, i_y, '({}, {})'.format(i_x, i_y))\n",
    "\n",
    "plt.show()"
   ]
  },
  {
   "cell_type": "code",
   "execution_count": 6,
   "metadata": {},
   "outputs": [
    {
     "data": {
      "image/png": "[encoded data removed]",
      "text/plain": [
       "<Figure size 432x288 with 1 Axes>"
      ]
     },
     "metadata": {
      "needs_background": "light"
     },
     "output_type": "display_data"
    }
   ],
   "source": [
    "%matplotlib inline\n",
    "import matplotlib.pyplot as plt\n",
    "plt.rc('text', usetex=True)\n",
    "\n",
    "x = [1,2,3,4]\n",
    "y = [1,4,9,16]\n",
    "z=[1,8,27,64]\n",
    "# Create Figure (empty canvas)\n",
    "fig = plt.figure()\n",
    "\n",
    "# Add set of axes to figure\n",
    "axes = fig.add_axes([0.1, 0.1, 0.9, 0.9]) # left, bottom, width, height (range 0 to 1)\n",
    "\n",
    "# Plot on that set of axes\n",
    "axes.plot(x, y,color='purple',linewidth=2,alpha=1,linestyle='-',marker='o',markersize=7,\n",
    "          markerfacecolor='purple', markeredgewidth=3, markeredgecolor='purple')\n",
    "axes.plot(x,z)\n",
    "axes.set_xlabel('Set X Label') # Notice the use of set_ to begin methods  \n",
    "axes.set_ylabel('Set y Label')\n",
    "axes.set_title('Set Title')\n",
    "\n",
    "# legend\n",
    "plt.legend(('phase field', 'level set', 'sharp interface'),\n",
    "           shadow=True, loc=(0.01, 0.48), handlelength=1.5, fontsize=16)\n",
    "\n",
    "\n",
    "fig.savefig(\"filename.png\", dpi=200)\n",
    "\n",
    "for i_x, i_y in zip(x, y):\n",
    "    plt.text(i_x+0.2, i_y-1, '({}, {})'.format(i_x, i_y))\n",
    "\n",
    "plt.show()"
   ]
  },
  {
   "cell_type": "code",
   "execution_count": 2,
   "metadata": {},
   "outputs": [
    {
     "name": "stdout",
     "output_type": "stream",
     "text": [
      "Enabled\n",
      "Enabled and lets continue\n",
      "First test completed\n"
     ]
    }
   ],
   "source": [
    "from selenium import webdriver\n",
    "from selenium.webdriver.common.keys import Keys\n",
    "import time\n",
    "\n",
    "#import http.client\n",
    "#import pprint\n",
    "#\n",
    "#connection = http.client.HTTPSConnection(\"file:///D:/day2/allitems/friday_data/WebServerPort_again.json\")\n",
    "#connection.request(\"GET\", \"/\")\n",
    "#response = connection.getresponse()\n",
    "#headers = response.getheaders()\n",
    "#pp = pprint.PrettyPrinter(indent=4)\n",
    "#pp.pprint(\"Headers: {}\".format(headers))\n",
    "\n",
    "\n",
    "\n",
    "\n",
    "driver=webdriver.Chrome(\"C:\\\\Users\\\\sairamtvv\\\\Videos\\\\chromedriver_win32\\\\chromedriver.exe\")\n",
    "\n",
    "#Get the html of the site, basically ip address here.\n",
    "driver.get(\"file:///D:/day2/allitems/friday_data/After_typing_rapid_X_0.54200.htm\")\n",
    "time.sleep(0.5)\n",
    "\n",
    "\n",
    "#Clicking two balls on the screen\n",
    "driver.find_element_by_id(\"enableDisableAxis0\").click()\n",
    "time.sleep(0.5)\n",
    "\n",
    "\n",
    "\n",
    "    \n",
    "\n",
    "#Clicking home button\n",
    "\n",
    "\n",
    "\n",
    "\n",
    "#sending ENABLE X and pressing enter\n",
    "imme_comm=driver.find_element_by_name(\"immediate-command-text\")\n",
    "imme_comm.send_keys(\"ENABLE X\")\n",
    "time.sleep(1)\n",
    "imme_comm.send_keys(Keys.RETURN)\n",
    "\n",
    "time.sleep(0.2)\n",
    "check_enable = driver.find_element_by_id('axis0Status')\n",
    "    # Find the value of org?\n",
    "check_enabled = check_enable.find_element_by_tag_name('td')\n",
    "print(check_enabled)\n",
    "if check_enabled=='Enabled':\n",
    "    \n",
    "    print(\"Enabled and lets continue\")\n",
    "\n",
    "\n",
    "print(\"First test completed\")\n"
   ]
  },
  {
   "cell_type": "code",
   "execution_count": 18,
   "metadata": {},
   "outputs": [],
   "source": [
    "import pandas as pd\n",
    "from openpyxl import load_workbook\n",
    "import io\n",
    "book = load_workbook('EQA3-31_(AS)_adj_param_p20.xlsx')\n",
    "writer = pd.ExcelWriter('EQA3-31_(AS)_adj_param_p20.xlsx', engine='openpyxl')\n",
    "#writer = pd.ExcelWriter('EQA3-31_(AS)_adj_param_m401.xlsx', engine='xlsxwriter')\n",
    "a1 = pd.read_csv('test_panda_excel.txt',header=None)\n",
    "a1.to_excel(writer, \"Sheetsai\", startcol=3,startrow=4,header=False, index=False)\n",
    "writer.save()"
   ]
  },
  {
   "cell_type": "code",
   "execution_count": 5,
   "metadata": {},
   "outputs": [
    {
     "data": {
      "text/html": [
       "<div>\n",
       "<style scoped>\n",
       "    .dataframe tbody tr th:only-of-type {\n",
       "        vertical-align: middle;\n",
       "    }\n",
       "\n",
       "    .dataframe tbody tr th {\n",
       "        vertical-align: top;\n",
       "    }\n",
       "\n",
       "    .dataframe thead th {\n",
       "        text-align: right;\n",
       "    }\n",
       "</style>\n",
       "<table border=\"1\" class=\"dataframe\">\n",
       "  <thead>\n",
       "    <tr style=\"text-align: right;\">\n",
       "      <th></th>\n",
       "      <th>0</th>\n",
       "    </tr>\n",
       "  </thead>\n",
       "  <tbody>\n",
       "    <tr>\n",
       "      <th>0</th>\n",
       "      <td>2.044</td>\n",
       "    </tr>\n",
       "    <tr>\n",
       "      <th>1</th>\n",
       "      <td>2.017</td>\n",
       "    </tr>\n",
       "    <tr>\n",
       "      <th>2</th>\n",
       "      <td>1.920</td>\n",
       "    </tr>\n",
       "    <tr>\n",
       "      <th>3</th>\n",
       "      <td>1.992</td>\n",
       "    </tr>\n",
       "    <tr>\n",
       "      <th>4</th>\n",
       "      <td>1.953</td>\n",
       "    </tr>\n",
       "  </tbody>\n",
       "</table>\n",
       "</div>"
      ],
      "text/plain": [
       "       0\n",
       "0  2.044\n",
       "1  2.017\n",
       "2  1.920\n",
       "3  1.992\n",
       "4  1.953"
      ]
     },
     "execution_count": 5,
     "metadata": {},
     "output_type": "execute_result"
    }
   ],
   "source": [
    "a1.head()"
   ]
  },
  {
   "cell_type": "code",
   "execution_count": 9,
   "metadata": {},
   "outputs": [],
   "source": [
    "a1.to_excel(writer, sheet_name='Sheet1',\n",
    "             startrow=4, startcol=3, header=False, index=False)"
   ]
  },
  {
   "cell_type": "code",
   "execution_count": 13,
   "metadata": {},
   "outputs": [
    {
     "name": "stdout",
     "output_type": "stream",
     "text": [
      " Volume in drive C has no label.\n",
      " Volume Serial Number is B0E5-A41C\n",
      "\n",
      " Directory of C:\\Users\\sairamtvv\\Desktop\\Materials\\01 Course Introduction\\Python-for-Finance-Repo-master\n",
      "\n",
      "09/14/2019  11:42 PM    <DIR>          .\n",
      "09/14/2019  11:42 PM    <DIR>          ..\n",
      "08/16/2019  08:23 PM    <DIR>          .ipynb_checkpoints\n",
      "08/17/2019  02:09 AM    <DIR>          01-Python-Crash-Course\n",
      "08/18/2019  06:46 PM    <DIR>          02-NumPy\n",
      "08/20/2019  01:54 AM    <DIR>          03- General Pandas\n",
      "08/16/2019  08:23 PM    <DIR>          04-Visualization-Matplotlib-Pandas\n",
      "08/16/2019  08:23 PM    <DIR>          05-Pandas-with-Time-Series\n",
      "08/16/2019  08:23 PM    <DIR>          06-Data-Sources\n",
      "08/16/2019  08:23 PM    <DIR>          07-Stock-Market-Analysis-Capstone-Project\n",
      "08/16/2019  08:23 PM    <DIR>          08-Time-Series-Analysis\n",
      "08/16/2019  08:23 PM    <DIR>          09-Python-Finance-Fundamentals\n",
      "08/16/2019  08:23 PM    <DIR>          10-Quantopian-Platform\n",
      "08/16/2019  08:23 PM    <DIR>          11-Advanced-Quantopian-Topics\n",
      "08/09/2017  01:30 PM               953 environment.yml\n",
      "09/14/2019  11:26 PM            39,936 EQA3-31_(AS)_adj_param_m40.xls\n",
      "09/14/2019  11:37 PM            49,830 EQA3-31_(AS)_adj_param_m40.xlsx\n",
      "09/13/2019  02:28 PM            47,252 filename.png\n",
      "08/02/2019  01:52 PM             1,938 maclinuxenvironment.yml\n",
      "08/09/2017  01:30 PM             1,945 maclinuxenvironment.yml~\n",
      "08/09/2017  01:30 PM             5,888 Pierian_Data_Logo.png\n",
      "08/09/2017  01:30 PM                69 README.md\n",
      "09/14/2019  11:22 PM                70 test_panda_excel.txt\n",
      "09/14/2019  11:36 PM            46,257 Untitled.ipynb\n",
      "              10 File(s)        194,138 bytes\n",
      "              14 Dir(s)  37,492,125,696 bytes free\n"
     ]
    }
   ],
   "source": [
    "ls"
   ]
  },
  {
   "cell_type": "code",
   "execution_count": 20,
   "metadata": {},
   "outputs": [
    {
     "name": "stderr",
     "output_type": "stream",
     "text": [
      "C:\\ProgramData\\Anaconda3\\lib\\site-packages\\ipykernel_launcher.py:5: DeprecationWarning: Call to deprecated function get_sheet_by_name (Use wb[sheetname]).\n",
      "  \"\"\"\n"
     ]
    }
   ],
   "source": [
    "import openpyxl\n",
    "\n",
    "srcfile = openpyxl.load_workbook('EQA3-31_(AS)_adj_param_p20.xlsx',read_only=False, keep_vba= True)#to open the excel sheet and if it has macros\n",
    "\n",
    "sheetname = srcfile.get_sheet_by_name('sheetsai')#get sheetname from the file\n",
    "sheetname['C4']= 55.568 #write something in B2 cell of the supplied sheet\n",
    "sheetname.cell(row=1,column=1).value = \"something\" #write to row 1,col 1 explicitly, this type of writing is useful to write something in loops\n",
    "\n",
    "srcfile.save('newfile.xlsm')#save it as a new file, the original file is untouched and here I am saving it as xlsm(m here denotes macros)."
   ]
  },
  {
   "cell_type": "code",
   "execution_count": 3,
   "metadata": {},
   "outputs": [],
   "source": []
  },
  {
   "cell_type": "code",
   "execution_count": 58,
   "metadata": {},
   "outputs": [
    {
     "data": {
      "text/html": [
       "<div>\n",
       "<style scoped>\n",
       "    .dataframe tbody tr th:only-of-type {\n",
       "        vertical-align: middle;\n",
       "    }\n",
       "\n",
       "    .dataframe tbody tr th {\n",
       "        vertical-align: top;\n",
       "    }\n",
       "\n",
       "    .dataframe thead th {\n",
       "        text-align: right;\n",
       "    }\n",
       "</style>\n",
       "<table border=\"1\" class=\"dataframe\">\n",
       "  <thead>\n",
       "    <tr style=\"text-align: right;\">\n",
       "      <th></th>\n",
       "      <th>Ts</th>\n",
       "      <th>Scale</th>\n",
       "      <th>Bias12</th>\n",
       "      <th>Misalign34</th>\n",
       "      <th>Bias34</th>\n",
       "    </tr>\n",
       "  </thead>\n",
       "  <tbody>\n",
       "    <tr>\n",
       "      <th>0</th>\n",
       "      <td>0.6769</td>\n",
       "      <td>-0.193740</td>\n",
       "      <td>-0.000057</td>\n",
       "      <td>611.297878</td>\n",
       "      <td>-0.000064</td>\n",
       "    </tr>\n",
       "    <tr>\n",
       "      <th>1</th>\n",
       "      <td>0.6319</td>\n",
       "      <td>-0.193631</td>\n",
       "      <td>0.000277</td>\n",
       "      <td>615.021508</td>\n",
       "      <td>0.000266</td>\n",
       "    </tr>\n",
       "    <tr>\n",
       "      <th>2</th>\n",
       "      <td>0.5786</td>\n",
       "      <td>-0.193603</td>\n",
       "      <td>0.000367</td>\n",
       "      <td>615.587909</td>\n",
       "      <td>0.000367</td>\n",
       "    </tr>\n",
       "    <tr>\n",
       "      <th>3</th>\n",
       "      <td>0.5272</td>\n",
       "      <td>-0.193690</td>\n",
       "      <td>0.000353</td>\n",
       "      <td>617.239465</td>\n",
       "      <td>0.000336</td>\n",
       "    </tr>\n",
       "    <tr>\n",
       "      <th>4</th>\n",
       "      <td>0.4767</td>\n",
       "      <td>-0.193881</td>\n",
       "      <td>0.000323</td>\n",
       "      <td>617.896090</td>\n",
       "      <td>0.000315</td>\n",
       "    </tr>\n",
       "    <tr>\n",
       "      <th>5</th>\n",
       "      <td>0.5272</td>\n",
       "      <td>-0.193674</td>\n",
       "      <td>0.000248</td>\n",
       "      <td>614.217327</td>\n",
       "      <td>0.000114</td>\n",
       "    </tr>\n",
       "    <tr>\n",
       "      <th>6</th>\n",
       "      <td>0.5786</td>\n",
       "      <td>-0.193613</td>\n",
       "      <td>0.000292</td>\n",
       "      <td>613.742153</td>\n",
       "      <td>0.000296</td>\n",
       "    </tr>\n",
       "    <tr>\n",
       "      <th>7</th>\n",
       "      <td>0.6319</td>\n",
       "      <td>-0.193630</td>\n",
       "      <td>0.000205</td>\n",
       "      <td>613.475936</td>\n",
       "      <td>0.000191</td>\n",
       "    </tr>\n",
       "    <tr>\n",
       "      <th>8</th>\n",
       "      <td>0.6769</td>\n",
       "      <td>-0.193747</td>\n",
       "      <td>-0.000025</td>\n",
       "      <td>609.764880</td>\n",
       "      <td>-0.000034</td>\n",
       "    </tr>\n",
       "  </tbody>\n",
       "</table>\n",
       "</div>"
      ],
      "text/plain": [
       "       Ts     Scale    Bias12  Misalign34    Bias34\n",
       "0  0.6769 -0.193740 -0.000057  611.297878 -0.000064\n",
       "1  0.6319 -0.193631  0.000277  615.021508  0.000266\n",
       "2  0.5786 -0.193603  0.000367  615.587909  0.000367\n",
       "3  0.5272 -0.193690  0.000353  617.239465  0.000336\n",
       "4  0.4767 -0.193881  0.000323  617.896090  0.000315\n",
       "5  0.5272 -0.193674  0.000248  614.217327  0.000114\n",
       "6  0.5786 -0.193613  0.000292  613.742153  0.000296\n",
       "7  0.6319 -0.193630  0.000205  613.475936  0.000191\n",
       "8  0.6769 -0.193747 -0.000025  609.764880 -0.000034"
      ]
     },
     "execution_count": 58,
     "metadata": {},
     "output_type": "execute_result"
    }
   ],
   "source": [
    "pdresult1"
   ]
  },
  {
   "cell_type": "code",
   "execution_count": 59,
   "metadata": {},
   "outputs": [
    {
     "data": {
      "text/html": [
       "<div>\n",
       "<style scoped>\n",
       "    .dataframe tbody tr th:only-of-type {\n",
       "        vertical-align: middle;\n",
       "    }\n",
       "\n",
       "    .dataframe tbody tr th {\n",
       "        vertical-align: top;\n",
       "    }\n",
       "\n",
       "    .dataframe thead th {\n",
       "        text-align: right;\n",
       "    }\n",
       "</style>\n",
       "<table border=\"1\" class=\"dataframe\">\n",
       "  <thead>\n",
       "    <tr style=\"text-align: right;\">\n",
       "      <th></th>\n",
       "      <th>Ts</th>\n",
       "      <th>Scale</th>\n",
       "      <th>Bias12</th>\n",
       "      <th>Misalign34</th>\n",
       "      <th>Bias34</th>\n",
       "    </tr>\n",
       "  </thead>\n",
       "  <tbody>\n",
       "    <tr>\n",
       "      <th>0</th>\n",
       "      <td>0.6769</td>\n",
       "      <td>-0.193742</td>\n",
       "      <td>-0.000057</td>\n",
       "      <td>610.299264</td>\n",
       "      <td>-0.000062</td>\n",
       "    </tr>\n",
       "    <tr>\n",
       "      <th>1</th>\n",
       "      <td>0.6319</td>\n",
       "      <td>-0.193631</td>\n",
       "      <td>0.000290</td>\n",
       "      <td>613.648777</td>\n",
       "      <td>0.000286</td>\n",
       "    </tr>\n",
       "    <tr>\n",
       "      <th>2</th>\n",
       "      <td>0.5786</td>\n",
       "      <td>-0.193605</td>\n",
       "      <td>0.000366</td>\n",
       "      <td>615.991907</td>\n",
       "      <td>0.000362</td>\n",
       "    </tr>\n",
       "    <tr>\n",
       "      <th>3</th>\n",
       "      <td>0.5272</td>\n",
       "      <td>-0.193691</td>\n",
       "      <td>0.000365</td>\n",
       "      <td>618.356983</td>\n",
       "      <td>0.000351</td>\n",
       "    </tr>\n",
       "    <tr>\n",
       "      <th>4</th>\n",
       "      <td>0.4767</td>\n",
       "      <td>-0.193880</td>\n",
       "      <td>0.000324</td>\n",
       "      <td>618.397292</td>\n",
       "      <td>0.000303</td>\n",
       "    </tr>\n",
       "    <tr>\n",
       "      <th>5</th>\n",
       "      <td>0.5272</td>\n",
       "      <td>-0.193673</td>\n",
       "      <td>0.000230</td>\n",
       "      <td>612.490667</td>\n",
       "      <td>0.000098</td>\n",
       "    </tr>\n",
       "    <tr>\n",
       "      <th>6</th>\n",
       "      <td>0.5786</td>\n",
       "      <td>-0.193612</td>\n",
       "      <td>0.000292</td>\n",
       "      <td>613.848965</td>\n",
       "      <td>0.000296</td>\n",
       "    </tr>\n",
       "    <tr>\n",
       "      <th>7</th>\n",
       "      <td>0.6319</td>\n",
       "      <td>-0.193630</td>\n",
       "      <td>0.000205</td>\n",
       "      <td>613.078447</td>\n",
       "      <td>0.000194</td>\n",
       "    </tr>\n",
       "    <tr>\n",
       "      <th>8</th>\n",
       "      <td>0.6769</td>\n",
       "      <td>-0.193744</td>\n",
       "      <td>-0.000001</td>\n",
       "      <td>610.183054</td>\n",
       "      <td>-0.000011</td>\n",
       "    </tr>\n",
       "  </tbody>\n",
       "</table>\n",
       "</div>"
      ],
      "text/plain": [
       "       Ts     Scale    Bias12  Misalign34    Bias34\n",
       "0  0.6769 -0.193742 -0.000057  610.299264 -0.000062\n",
       "1  0.6319 -0.193631  0.000290  613.648777  0.000286\n",
       "2  0.5786 -0.193605  0.000366  615.991907  0.000362\n",
       "3  0.5272 -0.193691  0.000365  618.356983  0.000351\n",
       "4  0.4767 -0.193880  0.000324  618.397292  0.000303\n",
       "5  0.5272 -0.193673  0.000230  612.490667  0.000098\n",
       "6  0.5786 -0.193612  0.000292  613.848965  0.000296\n",
       "7  0.6319 -0.193630  0.000205  613.078447  0.000194\n",
       "8  0.6769 -0.193744 -0.000001  610.183054 -0.000011"
      ]
     },
     "execution_count": 59,
     "metadata": {},
     "output_type": "execute_result"
    }
   ],
   "source": [
    "pdresult2"
   ]
  },
  {
   "cell_type": "code",
   "execution_count": 36,
   "metadata": {},
   "outputs": [
    {
     "data": {
      "text/plain": [
       "[0.6769, 0.6319, 0.5786, 0.5272, 0.4767, 0.5272, 0.5786, 0.6319, 0.6769]"
      ]
     },
     "execution_count": 36,
     "metadata": {},
     "output_type": "execute_result"
    }
   ],
   "source": [
    "list(pdresult1['Ts'])"
   ]
  },
  {
   "cell_type": "code",
   "execution_count": 2,
   "metadata": {
    "scrolled": true
   },
   "outputs": [
    {
     "data": {
      "image/png": "[encoded data removed]",
      "text/plain": [
       "<Figure size 432x288 with 1 Axes>"
      ]
     },
     "metadata": {
      "needs_background": "light"
     },
     "output_type": "display_data"
    }
   ],
   "source": [
    "%matplotlib inline\n",
    "import pandas as pd\n",
    "pdresult1 = pd.read_csv('RESULT1.DAT',delimiter= '\\s+')\n",
    "pdresult2 = pd.read_csv('RESULT2.DAT',delimiter= '\\s+')\n",
    "pdresult3 = pd.read_csv('RESULT3.DAT',delimiter= '\\s+')\n",
    "import matplotlib.pyplot as plt\n",
    "#plt.rc('text', usetex=True)\n",
    "\n",
    "x = list(pdresult1['Ts'])\n",
    "y_list1 = list(pdresult1['Scale'])\n",
    "y_list2 = list(pdresult2['Scale'])\n",
    "y_list3 = list(pdresult3['Scale'])\n",
    "\n",
    "# Create Figure (empty canvas)\n",
    "fig = plt.figure()\n",
    "\n",
    "# Add set of axes to figure\n",
    "axes = fig.add_axes([0.1, 0.1, 1, 1]) # left, bottom, width, height (range 0 to 1)\n",
    "\n",
    "# Plot on that set of axes\n",
    "axes.grid(True)\n",
    "axes.plot(x, y_list1,color='red',linewidth=1,alpha=1,linestyle='-',marker='o',markersize=2,\n",
    "          markerfacecolor='red', markeredgewidth=3, markeredgecolor='red',label=\"x**2\")\n",
    "\n",
    "\n",
    "axes.plot(x, y_list2,color='green',linewidth=1,alpha=1,linestyle='-',marker='s',markersize=2,\n",
    "          markerfacecolor='green', markeredgewidth=3, markeredgecolor='green',label=\"x**3\")\n",
    "axes.plot(x, y_list3,color='blue',linewidth=1,alpha=1,linestyle='-',marker='s',markersize=2,\n",
    "          markerfacecolor='blue', markeredgewidth=3, markeredgecolor='blue',label=\"x**4\")\n",
    "\n",
    "#axes.plot(x,z)\n",
    "axes.set_xlabel('Temp $^\\circ$ C') # Notice the use of set_ to begin methods  \n",
    "axes.set_ylabel('Scale, $mA(m/s^2)$')\n",
    "#axes.set_title('Set Title')\n",
    "axes.legend(loc=0)\n",
    "# legend\n",
    "#plt.legend(('phase field', 'level set', 'sharp interface'),\n",
    "#           shadow=True, loc=(0.01, 0.48), handlelength=1.5, fontsize=16)\n",
    "\n",
    "\n",
    "#fig.savefig(\"filename.png\", dpi=200)\n",
    "\n",
    "locs, labels = plt.yticks() \n",
    "for index,tuplexy in enumerate(zip(x, y_list1)):\n",
    "    i_x=tuplexy[0]\n",
    "    i_y=tuplexy[1]\n",
    "    #print(\"{},{},{}\".format(index,i_x, i_y))\n",
    "    label='{1:.7f}[{0}]'.format(index+1, i_y)\n",
    "    #plt.text(i_x, i_y,string )\n",
    "    plt.annotate(label, # this is the text\n",
    "                 (i_x,i_y), # this is the point to label\n",
    "                 textcoords=\"offset points\", # how to position the text\n",
    "                 xytext=(0,-2*index+20), # distance from text to points (x,y)\n",
    "                 ha='center',color='red') # horizontal alignment can be left, right or center\n",
    "    \n",
    "    \n",
    "for index,tuplexy in enumerate(zip(x, y_list2)):\n",
    "    i_x=tuplexy[0]\n",
    "    i_y=tuplexy[1]\n",
    "    #print(\"{},{},{}\".format(index,i_x, i_y))\n",
    "    label='{1:.7f}[{0}]'.format(index+1, i_y)\n",
    "    #plt.text(i_x, i_y,string )\n",
    "    plt.annotate(label, # this is the text\n",
    "                 (i_x,i_y), # this is the point to label\n",
    "                 textcoords=\"offset points\", # how to position the text\n",
    "                 xytext=(0,-3*index-20), # distance from text to points (x,y)\n",
    "                 ha='center',color='green') # horizontal alignment can be left, right or center   \n",
    "\n",
    "for index,tuplexy in enumerate(zip(x, y_list3)):\n",
    "    i_x=tuplexy[0]\n",
    "    i_y=tuplexy[1]\n",
    "    #print(\"{},{},{}\".format(index,i_x, i_y))\n",
    "    label='{1:.7f}[{0}]'.format(index+1, i_y)\n",
    "    #plt.text(i_x, i_y,string )\n",
    "    plt.annotate(label, # this is the text\n",
    "                 (i_x,i_y), # this is the point to label\n",
    "                 textcoords=\"offset points\", # how to position the text\n",
    "                 xytext=(0,-3*index-60), # distance from text to points (x,y)\n",
    "                 ha='center',color='blue') # horizontal alignment can be left, right or center       \n",
    "    \n"
   ]
  },
  {
   "cell_type": "code",
   "execution_count": 8,
   "metadata": {},
   "outputs": [
    {
     "data": {
      "text/plain": [
       "Text(0, -0.19390000000000002, '−0.19390')"
      ]
     },
     "execution_count": 8,
     "metadata": {},
     "output_type": "execute_result"
    }
   ],
   "source": [
    "list(labels)[0]"
   ]
  },
  {
   "cell_type": "code",
   "execution_count": 88,
   "metadata": {},
   "outputs": [
    {
     "ename": "AttributeError",
     "evalue": "'Axes' object has no attribute 'yticks'",
     "output_type": "error",
     "traceback": [
      "\u001b[1;31m---------------------------------------------------------------------------\u001b[0m",
      "\u001b[1;31mAttributeError\u001b[0m                            Traceback (most recent call last)",
      "\u001b[1;32m<ipython-input-88-d3a3580a8ce5>\u001b[0m in \u001b[0;36m<module>\u001b[1;34m\u001b[0m\n\u001b[1;32m----> 1\u001b[1;33m \u001b[0mlocs\u001b[0m\u001b[1;33m,\u001b[0m \u001b[0mlabels\u001b[0m \u001b[1;33m=\u001b[0m\u001b[0maxes\u001b[0m\u001b[1;33m.\u001b[0m\u001b[0myticks\u001b[0m\u001b[1;33m(\u001b[0m\u001b[1;33m)\u001b[0m\u001b[1;33m\u001b[0m\u001b[1;33m\u001b[0m\u001b[0m\n\u001b[0m",
      "\u001b[1;31mAttributeError\u001b[0m: 'Axes' object has no attribute 'yticks'"
     ]
    }
   ],
   "source": [
    "locs, labels =axes.yticks()"
   ]
  },
  {
   "cell_type": "code",
   "execution_count": 14,
   "metadata": {},
   "outputs": [
    {
     "data": {
      "text/plain": [
       "[(0, (1, 4)), (1, (2, 5)), (2, (3, 6))]"
      ]
     },
     "execution_count": 14,
     "metadata": {},
     "output_type": "execute_result"
    }
   ],
   "source": [
    "x=[1,2,3]\n",
    "y=[4,5,6]\n",
    "list(enumerate(zip(x,y)))"
   ]
  },
  {
   "cell_type": "code",
   "execution_count": 15,
   "metadata": {},
   "outputs": [
    {
     "data": {
      "image/png": "[encoded data removed]",
      "text/plain": [
       "<Figure size 432x288 with 1 Axes>"
      ]
     },
     "metadata": {
      "needs_background": "light"
     },
     "output_type": "display_data"
    }
   ],
   "source": [
    "for index,tuplexy in enumerate(zip(x, y)):\n",
    "    i_x=tuplexy[0]\n",
    "    i_y=tuplexy[1]\n",
    "    plt.text(i_x, i_y, '({},{}, {})'.format(index,i_x, i_y))\n"
   ]
  },
  {
   "cell_type": "code",
   "execution_count": 9,
   "metadata": {},
   "outputs": [],
   "source": [
    "import pandas as pd\n",
    "pdresult1 = pd.read_csv('RESULT1.DAT',delimiter= '\\s+')\n",
    "pdresult2 = pd.read_csv('RESULT2.DAT',delimiter= '\\s+')\n",
    "pdresult3 = pd.read_csv('RESULT3.DAT',delimiter= '\\s+')"
   ]
  },
  {
   "cell_type": "code",
   "execution_count": 10,
   "metadata": {},
   "outputs": [
    {
     "data": {
      "text/html": [
       "<div>\n",
       "<style scoped>\n",
       "    .dataframe tbody tr th:only-of-type {\n",
       "        vertical-align: middle;\n",
       "    }\n",
       "\n",
       "    .dataframe tbody tr th {\n",
       "        vertical-align: top;\n",
       "    }\n",
       "\n",
       "    .dataframe thead th {\n",
       "        text-align: right;\n",
       "    }\n",
       "</style>\n",
       "<table border=\"1\" class=\"dataframe\">\n",
       "  <thead>\n",
       "    <tr style=\"text-align: right;\">\n",
       "      <th></th>\n",
       "      <th>Ts</th>\n",
       "      <th>Scale</th>\n",
       "      <th>Bias12</th>\n",
       "      <th>Misalign34</th>\n",
       "      <th>Bias34</th>\n",
       "    </tr>\n",
       "  </thead>\n",
       "  <tbody>\n",
       "    <tr>\n",
       "      <th>0</th>\n",
       "      <td>0.6769</td>\n",
       "      <td>-0.193740</td>\n",
       "      <td>-0.000057</td>\n",
       "      <td>611.297878</td>\n",
       "      <td>-0.000064</td>\n",
       "    </tr>\n",
       "    <tr>\n",
       "      <th>1</th>\n",
       "      <td>0.6319</td>\n",
       "      <td>-0.193631</td>\n",
       "      <td>0.000277</td>\n",
       "      <td>615.021508</td>\n",
       "      <td>0.000266</td>\n",
       "    </tr>\n",
       "    <tr>\n",
       "      <th>2</th>\n",
       "      <td>0.5786</td>\n",
       "      <td>-0.193603</td>\n",
       "      <td>0.000367</td>\n",
       "      <td>615.587909</td>\n",
       "      <td>0.000367</td>\n",
       "    </tr>\n",
       "    <tr>\n",
       "      <th>3</th>\n",
       "      <td>0.5272</td>\n",
       "      <td>-0.193690</td>\n",
       "      <td>0.000353</td>\n",
       "      <td>617.239465</td>\n",
       "      <td>0.000336</td>\n",
       "    </tr>\n",
       "    <tr>\n",
       "      <th>4</th>\n",
       "      <td>0.4767</td>\n",
       "      <td>-0.193881</td>\n",
       "      <td>0.000323</td>\n",
       "      <td>617.896090</td>\n",
       "      <td>0.000315</td>\n",
       "    </tr>\n",
       "    <tr>\n",
       "      <th>5</th>\n",
       "      <td>0.5272</td>\n",
       "      <td>-0.193674</td>\n",
       "      <td>0.000248</td>\n",
       "      <td>614.217327</td>\n",
       "      <td>0.000114</td>\n",
       "    </tr>\n",
       "    <tr>\n",
       "      <th>6</th>\n",
       "      <td>0.5786</td>\n",
       "      <td>-0.193613</td>\n",
       "      <td>0.000292</td>\n",
       "      <td>613.742153</td>\n",
       "      <td>0.000296</td>\n",
       "    </tr>\n",
       "    <tr>\n",
       "      <th>7</th>\n",
       "      <td>0.6319</td>\n",
       "      <td>-0.193630</td>\n",
       "      <td>0.000205</td>\n",
       "      <td>613.475936</td>\n",
       "      <td>0.000191</td>\n",
       "    </tr>\n",
       "    <tr>\n",
       "      <th>8</th>\n",
       "      <td>0.6769</td>\n",
       "      <td>-0.193747</td>\n",
       "      <td>-0.000025</td>\n",
       "      <td>609.764880</td>\n",
       "      <td>-0.000034</td>\n",
       "    </tr>\n",
       "  </tbody>\n",
       "</table>\n",
       "</div>"
      ],
      "text/plain": [
       "       Ts     Scale    Bias12  Misalign34    Bias34\n",
       "0  0.6769 -0.193740 -0.000057  611.297878 -0.000064\n",
       "1  0.6319 -0.193631  0.000277  615.021508  0.000266\n",
       "2  0.5786 -0.193603  0.000367  615.587909  0.000367\n",
       "3  0.5272 -0.193690  0.000353  617.239465  0.000336\n",
       "4  0.4767 -0.193881  0.000323  617.896090  0.000315\n",
       "5  0.5272 -0.193674  0.000248  614.217327  0.000114\n",
       "6  0.5786 -0.193613  0.000292  613.742153  0.000296\n",
       "7  0.6319 -0.193630  0.000205  613.475936  0.000191\n",
       "8  0.6769 -0.193747 -0.000025  609.764880 -0.000034"
      ]
     },
     "execution_count": 10,
     "metadata": {},
     "output_type": "execute_result"
    }
   ],
   "source": [
    "pdresult1"
   ]
  },
  {
   "cell_type": "code",
   "execution_count": null,
   "metadata": {},
   "outputs": [],
   "source": []
  },
  {
   "cell_type": "code",
   "execution_count": 12,
   "metadata": {},
   "outputs": [
    {
     "data": {
      "image/png": "[encoded data removed]",
      "text/plain": [
       "<Figure size 432x288 with 1 Axes>"
      ]
     },
     "metadata": {
      "needs_background": "light"
     },
     "output_type": "display_data"
    }
   ],
   "source": [
    "%matplotlib inline\n",
    "import pandas as pd\n",
    "pdresult1 = pd.read_csv('RESULT1.DAT',delimiter= '\\s+')\n",
    "pdresult2 = pd.read_csv('RESULT2.DAT',delimiter= '\\s+')\n",
    "pdresult3 = pd.read_csv('RESULT3.DAT',delimiter= '\\s+')\n",
    "import matplotlib.pyplot as plt\n",
    "#plt.rc('text', usetex=True)\n",
    "\n",
    "x = list(pdresult1['Ts'])\n",
    "y_list1 = list(pdresult1['Misalign34'])\n",
    "y_list2 = list(pdresult2['Misalign34'])\n",
    "y_list3 = list(pdresult3['Misalign34'])\n",
    "\n",
    "# Create Figure (empty canvas)\n",
    "fig = plt.figure()\n",
    "\n",
    "# Add set of axes to figure\n",
    "axes = fig.add_axes([0.1, 0.1, 1, 1]) # left, bottom, width, height (range 0 to 1)\n",
    "\n",
    "# Plot on that set of axes\n",
    "axes.grid(True)\n",
    "axes.plot(x, y_list1,color='red',linewidth=1,alpha=1,linestyle='-',marker='o',markersize=2,\n",
    "          markerfacecolor='red', markeredgewidth=3, markeredgecolor='red',label=\"x**2\")\n",
    "\n",
    "\n",
    "axes.plot(x, y_list2,color='green',linewidth=1,alpha=1,linestyle='-',marker='s',markersize=2,\n",
    "          markerfacecolor='green', markeredgewidth=3, markeredgecolor='green',label=\"x**3\")\n",
    "axes.plot(x, y_list3,color='blue',linewidth=1,alpha=1,linestyle='-',marker='s',markersize=2,\n",
    "          markerfacecolor='blue', markeredgewidth=3, markeredgecolor='blue',label=\"x**4\")\n",
    "\n",
    "#axes.plot(x,z)\n",
    "axes.set_xlabel('Temp $^\\circ$ C') # Notice the use of set_ to begin methods  \n",
    "axes.set_ylabel('Scale, $mA(m/s^2)$')\n",
    "#axes.set_title('Set Title')\n",
    "axes.legend(loc=0)\n",
    "# legend\n",
    "#plt.legend(('phase field', 'level set', 'sharp interface'),\n",
    "#           shadow=True, loc=(0.01, 0.48), handlelength=1.5, fontsize=16)\n",
    "\n",
    "\n",
    "#fig.savefig(\"filename.png\", dpi=200)\n",
    "\n",
    "locs, labels = plt.yticks() \n",
    "for index,tuplexy in enumerate(zip(x, y_list1)):\n",
    "    i_x=tuplexy[0]\n",
    "    i_y=tuplexy[1]\n",
    "    #print(\"{},{},{}\".format(index,i_x, i_y))\n",
    "    label='{1:.7f}[{0}]'.format(index+1, i_y)\n",
    "    #plt.text(i_x, i_y,string )\n",
    "    plt.annotate(label, # this is the text\n",
    "                 (i_x,i_y), # this is the point to label\n",
    "                 textcoords=\"offset points\", # how to position the text\n",
    "                 xytext=(0,-2*index+20), # distance from text to points (x,y)\n",
    "                 ha='center',color='red') # horizontal alignment can be left, right or center\n",
    "    \n",
    "    \n",
    "for index,tuplexy in enumerate(zip(x, y_list2)):\n",
    "    i_x=tuplexy[0]\n",
    "    i_y=tuplexy[1]\n",
    "    #print(\"{},{},{}\".format(index,i_x, i_y))\n",
    "    label='{1:.7f}[{0}]'.format(index+1, i_y)\n",
    "    #plt.text(i_x, i_y,string )\n",
    "    plt.annotate(label, # this is the text\n",
    "                 (i_x,i_y), # this is the point to label\n",
    "                 textcoords=\"offset points\", # how to position the text\n",
    "                 xytext=(0,-3*index-20), # distance from text to points (x,y)\n",
    "                 ha='center',color='green') # horizontal alignment can be left, right or center   \n",
    "\n",
    "for index,tuplexy in enumerate(zip(x, y_list3)):\n",
    "    i_x=tuplexy[0]\n",
    "    i_y=tuplexy[1]\n",
    "    #print(\"{},{},{}\".format(index,i_x, i_y))\n",
    "    label='{1:.7f}[{0}]'.format(index+1, i_y)\n",
    "    #plt.text(i_x, i_y,string )\n",
    "    plt.annotate(label, # this is the text\n",
    "                 (i_x,i_y), # this is the point to label\n",
    "                 textcoords=\"offset points\", # how to position the text\n",
    "                 xytext=(0,-3*index-60), # distance from text to points (x,y)\n",
    "                 ha='center',color='blue') # horizontal alignment can be left, right or center       \n",
    "    \n"
   ]
  },
  {
   "cell_type": "code",
   "execution_count": 1,
   "metadata": {},
   "outputs": [
    {
     "ename": "NameError",
     "evalue": "name 'WinWaitActive' is not defined",
     "output_type": "error",
     "traceback": [
      "\u001b[1;31m---------------------------------------------------------------------------\u001b[0m",
      "\u001b[1;31mNameError\u001b[0m                                 Traceback (most recent call last)",
      "\u001b[1;32m<ipython-input-1-419e2f6b557c>\u001b[0m in \u001b[0;36m<module>\u001b[1;34m\u001b[0m\n\u001b[1;32m----> 1\u001b[1;33m \u001b[0mWinWaitActive\u001b[0m\u001b[1;33m(\u001b[0m\u001b[1;34m\"[TITLE:Order Tracking Main]\"\u001b[0m\u001b[1;33m,\u001b[0m \u001b[1;34m\"\"\u001b[0m\u001b[1;33m)\u001b[0m\u001b[1;33m\u001b[0m\u001b[1;33m\u001b[0m\u001b[0m\n\u001b[0m",
      "\u001b[1;31mNameError\u001b[0m: name 'WinWaitActive' is not defined"
     ]
    }
   ],
   "source": [
    "WinWaitActive(\"[TITLE:Order Tracking Main]\", \"\") \n"
   ]
  },
  {
   "cell_type": "code",
   "execution_count": 2,
   "metadata": {},
   "outputs": [],
   "source": [
    "import autoit"
   ]
  },
  {
   "cell_type": "code",
   "execution_count": 1,
   "metadata": {},
   "outputs": [
    {
     "ename": "NameError",
     "evalue": "name 'autoit' is not defined",
     "output_type": "error",
     "traceback": [
      "\u001b[1;31m---------------------------------------------------------------------------\u001b[0m",
      "\u001b[1;31mNameError\u001b[0m                                 Traceback (most recent call last)",
      "\u001b[1;32m<ipython-input-1-47be1bd8baf7>\u001b[0m in \u001b[0;36m<module>\u001b[1;34m\u001b[0m\n\u001b[1;32m----> 1\u001b[1;33m \u001b[0mautoit\u001b[0m\u001b[1;33m.\u001b[0m\u001b[0mwin_wait_active\u001b[0m\u001b[1;33m(\u001b[0m\u001b[1;34m\"\"\u001b[0m\u001b[1;33m)\u001b[0m\u001b[1;33m\u001b[0m\u001b[1;33m\u001b[0m\u001b[0m\n\u001b[0m",
      "\u001b[1;31mNameError\u001b[0m: name 'autoit' is not defined"
     ]
    }
   ],
   "source": [
    "autoit.win_wait_active(\"\")"
   ]
  },
  {
   "cell_type": "code",
   "execution_count": 14,
   "metadata": {},
   "outputs": [
    {
     "name": "stdout",
     "output_type": "stream",
     "text": [
      "['D:\\\\day2\\\\allitems\\\\30_run_runs\\\\Data 9_6_2019 16_33_54 1.csv', 'D:\\\\day2\\\\allitems\\\\30_run_runs\\\\Data 9_6_2019 16_36_46 1.csv', 'D:\\\\day2\\\\allitems\\\\30_run_runs\\\\Data 9_6_2019 16_40_29 1.csv', 'D:\\\\day2\\\\allitems\\\\30_run_runs\\\\Data 9_6_2019 16_43_06 1.csv']\n",
      "-------------------------------------------\n"
     ]
    }
   ],
   "source": [
    "import os\n",
    "\n",
    "path = 'D:\\\\day2\\\\allitems\\\\30_run_runs'\n",
    "\n",
    "files = []\n",
    "# r=root, d=directories, f = files\n",
    "for r, d, f in os.walk(path):\n",
    "    for file in f:\n",
    "        \n",
    "        if '.CSV'or '.csv' in file:\n",
    "            files.append(os.path.join(r, file))\n",
    "\n",
    "print(files)\n",
    "    \n",
    "print('-------------------------------------------')"
   ]
  },
  {
   "cell_type": "code",
   "execution_count": 9,
   "metadata": {},
   "outputs": [
    {
     "data": {
      "text/plain": [
       "4"
      ]
     },
     "execution_count": 9,
     "metadata": {},
     "output_type": "execute_result"
    }
   ],
   "source": [
    "2+2"
   ]
  },
  {
   "cell_type": "code",
   "execution_count": 12,
   "metadata": {},
   "outputs": [
    {
     "data": {
      "text/plain": [
       "[]"
      ]
     },
     "execution_count": 12,
     "metadata": {},
     "output_type": "execute_result"
    }
   ],
   "source": [
    "list(os.walk(path))"
   ]
  },
  {
   "cell_type": "code",
   "execution_count": 1,
   "metadata": {},
   "outputs": [],
   "source": [
    "import glob"
   ]
  },
  {
   "cell_type": "code",
   "execution_count": 8,
   "metadata": {},
   "outputs": [
    {
     "ename": "PermissionError",
     "evalue": "[WinError 5] Access is denied: 'C:/Users/sairamtvv/Desktop/delete_contents'",
     "output_type": "error",
     "traceback": [
      "\u001b[1;31m---------------------------------------------------------------------------\u001b[0m",
      "\u001b[1;31mPermissionError\u001b[0m                           Traceback (most recent call last)",
      "\u001b[1;32m<ipython-input-8-aba9977e20c8>\u001b[0m in \u001b[0;36m<module>\u001b[1;34m\u001b[0m\n\u001b[0;32m      5\u001b[0m \u001b[1;32mfor\u001b[0m \u001b[0mf\u001b[0m \u001b[1;32min\u001b[0m \u001b[0mfiles\u001b[0m\u001b[1;33m:\u001b[0m\u001b[1;33m\u001b[0m\u001b[1;33m\u001b[0m\u001b[0m\n\u001b[0;32m      6\u001b[0m     \u001b[0mos\u001b[0m\u001b[1;33m.\u001b[0m\u001b[0mchmod\u001b[0m\u001b[1;33m(\u001b[0m\u001b[0mf\u001b[0m\u001b[1;33m,\u001b[0m \u001b[0mstat\u001b[0m\u001b[1;33m.\u001b[0m\u001b[0mS_IRWXO\u001b[0m\u001b[1;33m)\u001b[0m\u001b[1;33m\u001b[0m\u001b[1;33m\u001b[0m\u001b[0m\n\u001b[1;32m----> 7\u001b[1;33m     \u001b[0mos\u001b[0m\u001b[1;33m.\u001b[0m\u001b[0mremove\u001b[0m\u001b[1;33m(\u001b[0m\u001b[0mf\u001b[0m\u001b[1;33m)\u001b[0m\u001b[1;33m\u001b[0m\u001b[1;33m\u001b[0m\u001b[0m\n\u001b[0m",
      "\u001b[1;31mPermissionError\u001b[0m: [WinError 5] Access is denied: 'C:/Users/sairamtvv/Desktop/delete_contents'"
     ]
    }
   ],
   "source": [
    "import os, sys, stat \n",
    "import glob\n",
    "\n",
    "files = glob.glob('C:/Users/sairamtvv/Desktop/delete_contents')\n",
    "for f in files:\n",
    "    os.chmod(f, stat.S_IRWXO) \n",
    "    os.remove(f)"
   ]
  },
  {
   "cell_type": "code",
   "execution_count": 12,
   "metadata": {},
   "outputs": [],
   "source": [
    "s=\"21.3,-40.0,165.0,-70\"\n",
    "lst=s.split(\",\")"
   ]
  },
  {
   "cell_type": "code",
   "execution_count": 13,
   "metadata": {},
   "outputs": [
    {
     "data": {
      "text/plain": [
       "['21.3', '-40.0', '165.0', '-70']"
      ]
     },
     "execution_count": 13,
     "metadata": {},
     "output_type": "execute_result"
    }
   ],
   "source": [
    "lst"
   ]
  },
  {
   "cell_type": "code",
   "execution_count": 15,
   "metadata": {},
   "outputs": [
    {
     "data": {
      "text/plain": [
       "21.3"
      ]
     },
     "execution_count": 15,
     "metadata": {},
     "output_type": "execute_result"
    }
   ],
   "source": [
    "float(lst[0])"
   ]
  },
  {
   "cell_type": "code",
   "execution_count": 18,
   "metadata": {},
   "outputs": [
    {
     "name": "stdout",
     "output_type": "stream",
     "text": [
      "Espec Validated and could read temperature\n"
     ]
    }
   ],
   "source": [
    "if -110<float(lst[0])<110:\n",
    "    print(\"Espec Validated and could read temperature\")\n",
    "else:\n",
    "    print(\"Please Check your connection to ESPEC\")"
   ]
  },
  {
   "cell_type": "code",
   "execution_count": 21,
   "metadata": {},
   "outputs": [
    {
     "data": {
      "text/plain": [
       "[1, 2, 3, 4, 5, 6, 7, 8, 9, 10]"
      ]
     },
     "execution_count": 21,
     "metadata": {},
     "output_type": "execute_result"
    }
   ],
   "source": [
    "list(range(1,11))"
   ]
  },
  {
   "cell_type": "code",
   "execution_count": 22,
   "metadata": {},
   "outputs": [],
   "source": [
    "#a = pd.DataFrame(data = [[1,2],[3,4]], index=range(2), columns = ['A', 'B'])\n",
    "#c,b = a.iloc[0].copy(), a.iloc[1].copy()\n",
    "#a.iloc[0],a.iloc[1] = b,c\n",
    "#print (\"Start : %s\" % time.ctime())"
   ]
  },
  {
   "cell_type": "code",
   "execution_count": 1,
   "metadata": {},
   "outputs": [],
   "source": [
    "a =  [[-372.675,372.434],[-372.671,372.437],[-372.669,372.435],\n",
    "      [-372.665,372.435],[-372.666,372.436],[-372.665,372.439]]"
   ]
  },
  {
   "cell_type": "code",
   "execution_count": 2,
   "metadata": {},
   "outputs": [
    {
     "data": {
      "text/plain": [
       "[[-372.675, 372.434],\n",
       " [-372.671, 372.437],\n",
       " [-372.669, 372.435],\n",
       " [-372.665, 372.435],\n",
       " [-372.666, 372.436],\n",
       " [-372.665, 372.439]]"
      ]
     },
     "execution_count": 2,
     "metadata": {},
     "output_type": "execute_result"
    }
   ],
   "source": [
    "a"
   ]
  },
  {
   "cell_type": "code",
   "execution_count": 3,
   "metadata": {},
   "outputs": [
    {
     "ename": "AttributeError",
     "evalue": "'list' object has no attribute 'shape'",
     "output_type": "error",
     "traceback": [
      "\u001b[1;31m---------------------------------------------------------------------------\u001b[0m",
      "\u001b[1;31mAttributeError\u001b[0m                            Traceback (most recent call last)",
      "\u001b[1;32m<ipython-input-3-d74f1bcdd37c>\u001b[0m in \u001b[0;36m<module>\u001b[1;34m\u001b[0m\n\u001b[1;32m----> 1\u001b[1;33m \u001b[0ma\u001b[0m\u001b[1;33m.\u001b[0m\u001b[0mshape\u001b[0m\u001b[1;33m\u001b[0m\u001b[1;33m\u001b[0m\u001b[0m\n\u001b[0m",
      "\u001b[1;31mAttributeError\u001b[0m: 'list' object has no attribute 'shape'"
     ]
    }
   ],
   "source": [
    "a.shape"
   ]
  },
  {
   "cell_type": "code",
   "execution_count": 17,
   "metadata": {},
   "outputs": [],
   "source": [
    "import openpyxl\n",
    "import pandas as pd\n",
    "srcfile = openpyxl.load_workbook('EQA3-31_(AS)_adj_param_p20.xlsx',read_only=False, keep_vba= True)#to open the excel sheet and if it has macros\n",
    "\n",
    "#g_sheet=srcfile.sheetnames\n",
    "sheetname=srcfile[\"sheetsai\"]\n",
    "#sheetname = srcfile.get_sheet_by_name('sheetsai')#get sheetname from the file\n",
    "#sheetname['C4']= 55.568 #write something in B2 cell of the supplied sheet\n",
    "\n",
    "temp20_33=list(range(0,10))\n",
    "pd.read_csv(\"check_33.txt\",header=None)\n",
    "df_temp1_33=pd.read_csv(\"check_33.txt\",header=None)\n",
    "for item in temp20_33:\n",
    "    sheetname.cell(row=item+4,column=3).value = df_temp1_33.loc[item,0] #write to row 1,col 1 explicitly, this type of writing is useful to write something in loops\n",
    "\n",
    "    \n",
    "    \n",
    "    \n",
    "    \n",
    "srcfile.save('EQA3-31_(AS)_adj_param_p20_modified.xlsm')#save it as a new file, the original file is untouched and here I am saving it as xlsm(m here denotes macros)."
   ]
  },
  {
   "cell_type": "code",
   "execution_count": 16,
   "metadata": {},
   "outputs": [
    {
     "data": {
      "text/plain": [
       "[0, 1, 2, 3, 4, 5, 6, 7, 8, 9]"
      ]
     },
     "execution_count": 16,
     "metadata": {},
     "output_type": "execute_result"
    }
   ],
   "source": [
    "list(range(0,10))"
   ]
  },
  {
   "cell_type": "code",
   "execution_count": 9,
   "metadata": {},
   "outputs": [],
   "source": [
    "import pandas as pd\n",
    "df_temp1_33=pd.read_csv(\"check_33.txt\",header=None)\n"
   ]
  },
  {
   "cell_type": "code",
   "execution_count": 15,
   "metadata": {},
   "outputs": [
    {
     "data": {
      "text/plain": [
       "0.07"
      ]
     },
     "execution_count": 15,
     "metadata": {},
     "output_type": "execute_result"
    }
   ],
   "source": [
    "df_temp1_33.loc[5,0]"
   ]
  },
  {
   "cell_type": "code",
   "execution_count": 18,
   "metadata": {},
   "outputs": [],
   "source": [
    "a=[1,2,3]\n",
    "b=[4,4]"
   ]
  },
  {
   "cell_type": "code",
   "execution_count": 19,
   "metadata": {},
   "outputs": [
    {
     "data": {
      "text/plain": [
       "[1, 2, 3, 4, 4]"
      ]
     },
     "execution_count": 19,
     "metadata": {},
     "output_type": "execute_result"
    }
   ],
   "source": [
    "a+b"
   ]
  },
  {
   "cell_type": "code",
   "execution_count": 2,
   "metadata": {},
   "outputs": [
    {
     "data": {
      "text/plain": [
       "'sai'"
      ]
     },
     "execution_count": 2,
     "metadata": {},
     "output_type": "execute_result"
    }
   ],
   "source": [
    "p=\"sai.txt\"\n",
    "p.split('.')[0]"
   ]
  },
  {
   "cell_type": "code",
   "execution_count": 7,
   "metadata": {},
   "outputs": [
    {
     "name": "stderr",
     "output_type": "stream",
     "text": [
      "C:\\ProgramData\\Anaconda3\\lib\\site-packages\\openpyxl\\reader\\drawings.py:58: UserWarning: wmf image format is not supported so the image is being dropped\n",
      "  warn(msg)\n"
     ]
    }
   ],
   "source": [
    "import openpyxl\n",
    "import pandas as pd\n",
    "srcfile = openpyxl.load_workbook('EQA3-31_(AS)_adj_param_p20_modified.xlsm',read_only=False, keep_vba= True)#to open the excel sheet and if it has macros\n",
    "\n",
    "#g_sheet=srcfile.sheetnames\n",
    "sheetname=srcfile[\"sheetsai\"]\n",
    "#sheetname = srcfile.get_sheet_by_name('sheetsai')#get sheetname from the file\n",
    "#sheetname['C4']= 55.568 #write something in B2 cell of the supplied sheet\n",
    "\n",
    "lstsix_numbers=list(range(0,6))\n",
    "\n",
    "df_temp1_33=pd.read_csv(\"check_d45.txt\",header=None)\n",
    "for rows in lstsix_numbers:\n",
    "    for columns in lstsix_numbers:\n",
    "        sheetname.cell(row=rows+19,column=columns+2).value = df_temp1_33.loc[rows,columns] #write to row 1,col 1 explicitly, this type of writing is useful to write something in loops\n",
    "\n",
    "    \n",
    "    \n",
    "    \n",
    "    \n",
    "srcfile.save('EQA3-31_(AS)_adj_param_p20_modified.xlsm')#save it as a new file, the origi"
   ]
  },
  {
   "cell_type": "code",
   "execution_count": 9,
   "metadata": {},
   "outputs": [],
   "source": [
    "df_for_matlab=df_temp_33=pd.read_csv((\"raw_text_D4_1_33.txt\"),header=None)"
   ]
  },
  {
   "cell_type": "code",
   "execution_count": 12,
   "metadata": {},
   "outputs": [
    {
     "data": {
      "text/plain": [
       "(6, 2)"
      ]
     },
     "execution_count": 12,
     "metadata": {},
     "output_type": "execute_result"
    }
   ],
   "source": [
    "df_for_matlab.iloc[:,0:2].values.shape"
   ]
  },
  {
   "cell_type": "code",
   "execution_count": 14,
   "metadata": {},
   "outputs": [],
   "source": [
    "import pathlib\n",
    "p=pathlib.Path(\"\")"
   ]
  },
  {
   "cell_type": "code",
   "execution_count": 16,
   "metadata": {},
   "outputs": [
    {
     "data": {
      "text/plain": [
       "True"
      ]
     },
     "execution_count": 16,
     "metadata": {},
     "output_type": "execute_result"
    }
   ],
   "source": [
    "p.is_file()"
   ]
  },
  {
   "cell_type": "code",
   "execution_count": 45,
   "metadata": {},
   "outputs": [],
   "source": [
    "dfL1= pd.read_csv('raw_text_L1.txt')"
   ]
  },
  {
   "cell_type": "code",
   "execution_count": 49,
   "metadata": {},
   "outputs": [
    {
     "data": {
      "text/plain": [
       "RangeIndex(start=0, stop=36, step=1)"
      ]
     },
     "execution_count": 49,
     "metadata": {},
     "output_type": "execute_result"
    }
   ],
   "source": [
    "dfL1.index"
   ]
  },
  {
   "cell_type": "code",
   "execution_count": 51,
   "metadata": {},
   "outputs": [
    {
     "data": {
      "text/plain": [
       "14"
      ]
     },
     "execution_count": 51,
     "metadata": {},
     "output_type": "execute_result"
    }
   ],
   "source": [
    "dfL1.columns.get_loc(\"201 (VDC)\")"
   ]
  },
  {
   "cell_type": "code",
   "execution_count": null,
   "metadata": {},
   "outputs": [],
   "source": []
  },
  {
   "cell_type": "code",
   "execution_count": 47,
   "metadata": {},
   "outputs": [
    {
     "data": {
      "text/plain": [
       "Index(['Scan', 'Time', '101 (VDC)', 'Alarm 101', '102 (VDC)', 'Alarm 102',\n",
       "       '103 (VDC)', 'Alarm 103', '104 (VDC)', 'Alarm 104', '105 (VDC)',\n",
       "       'Alarm 105', '106 (VDC)', 'Alarm 106', '201 (VDC)', 'Alarm 201',\n",
       "       '202 (VDC)', 'Alarm 202', '203 (VDC)', 'Alarm 203', '204 (VDC)',\n",
       "       'Alarm 204', '205 (VDC)', 'Alarm 205', '206 (VDC)', 'Alarm 206'],\n",
       "      dtype='object')"
      ]
     },
     "execution_count": 47,
     "metadata": {},
     "output_type": "execute_result"
    }
   ],
   "source": [
    "dfL1.columns"
   ]
  },
  {
   "cell_type": "code",
   "execution_count": 22,
   "metadata": {},
   "outputs": [],
   "source": [
    "lststepsoffour=list(range(0,37,4))"
   ]
  },
  {
   "cell_type": "code",
   "execution_count": 25,
   "metadata": {},
   "outputs": [],
   "source": [
    "dfL1temp=dfL1.iloc[0:4,[2,4]]"
   ]
  },
  {
   "cell_type": "code",
   "execution_count": 32,
   "metadata": {},
   "outputs": [
    {
     "data": {
      "text/html": [
       "<div>\n",
       "<style scoped>\n",
       "    .dataframe tbody tr th:only-of-type {\n",
       "        vertical-align: middle;\n",
       "    }\n",
       "\n",
       "    .dataframe tbody tr th {\n",
       "        vertical-align: top;\n",
       "    }\n",
       "\n",
       "    .dataframe thead th {\n",
       "        text-align: right;\n",
       "    }\n",
       "</style>\n",
       "<table border=\"1\" class=\"dataframe\">\n",
       "  <thead>\n",
       "    <tr style=\"text-align: right;\">\n",
       "      <th></th>\n",
       "      <th>101 (VDC)</th>\n",
       "      <th>102 (VDC)</th>\n",
       "    </tr>\n",
       "  </thead>\n",
       "  <tbody>\n",
       "    <tr>\n",
       "      <th>0</th>\n",
       "      <td>-0.367762</td>\n",
       "      <td>-0.362059</td>\n",
       "    </tr>\n",
       "    <tr>\n",
       "      <th>1</th>\n",
       "      <td>-0.367768</td>\n",
       "      <td>-0.362063</td>\n",
       "    </tr>\n",
       "    <tr>\n",
       "      <th>2</th>\n",
       "      <td>-0.367773</td>\n",
       "      <td>-0.362067</td>\n",
       "    </tr>\n",
       "    <tr>\n",
       "      <th>3</th>\n",
       "      <td>-0.367780</td>\n",
       "      <td>-0.362072</td>\n",
       "    </tr>\n",
       "  </tbody>\n",
       "</table>\n",
       "</div>"
      ],
      "text/plain": [
       "   101 (VDC)  102 (VDC)\n",
       "0  -0.367762  -0.362059\n",
       "1  -0.367768  -0.362063\n",
       "2  -0.367773  -0.362067\n",
       "3  -0.367780  -0.362072"
      ]
     },
     "execution_count": 32,
     "metadata": {},
     "output_type": "execute_result"
    }
   ],
   "source": [
    "dfL1temp"
   ]
  },
  {
   "cell_type": "code",
   "execution_count": 33,
   "metadata": {},
   "outputs": [],
   "source": [
    "b,c,d=dfL1temp.iloc[1,:].copy(),dfL1temp.iloc[2,:].copy(),dfL1temp.iloc[3,:].copy()"
   ]
  },
  {
   "cell_type": "code",
   "execution_count": 34,
   "metadata": {},
   "outputs": [
    {
     "data": {
      "text/plain": [
       "101 (VDC)   -0.367768\n",
       "102 (VDC)   -0.362063\n",
       "Name: 1, dtype: float64"
      ]
     },
     "execution_count": 34,
     "metadata": {},
     "output_type": "execute_result"
    }
   ],
   "source": [
    "dfL1temp.iloc[2,:],"
   ]
  },
  {
   "cell_type": "code",
   "execution_count": 35,
   "metadata": {},
   "outputs": [],
   "source": [
    "dfL1temp.iloc[1,:],dfL1temp.iloc[2,:],dfL1temp.iloc[3,:]=c,d,b"
   ]
  },
  {
   "cell_type": "code",
   "execution_count": 36,
   "metadata": {},
   "outputs": [
    {
     "data": {
      "text/html": [
       "<div>\n",
       "<style scoped>\n",
       "    .dataframe tbody tr th:only-of-type {\n",
       "        vertical-align: middle;\n",
       "    }\n",
       "\n",
       "    .dataframe tbody tr th {\n",
       "        vertical-align: top;\n",
       "    }\n",
       "\n",
       "    .dataframe thead th {\n",
       "        text-align: right;\n",
       "    }\n",
       "</style>\n",
       "<table border=\"1\" class=\"dataframe\">\n",
       "  <thead>\n",
       "    <tr style=\"text-align: right;\">\n",
       "      <th></th>\n",
       "      <th>101 (VDC)</th>\n",
       "      <th>102 (VDC)</th>\n",
       "    </tr>\n",
       "  </thead>\n",
       "  <tbody>\n",
       "    <tr>\n",
       "      <th>0</th>\n",
       "      <td>-0.367762</td>\n",
       "      <td>-0.362059</td>\n",
       "    </tr>\n",
       "    <tr>\n",
       "      <th>1</th>\n",
       "      <td>-0.367773</td>\n",
       "      <td>-0.362067</td>\n",
       "    </tr>\n",
       "    <tr>\n",
       "      <th>2</th>\n",
       "      <td>-0.367780</td>\n",
       "      <td>-0.362072</td>\n",
       "    </tr>\n",
       "    <tr>\n",
       "      <th>3</th>\n",
       "      <td>-0.367768</td>\n",
       "      <td>-0.362063</td>\n",
       "    </tr>\n",
       "  </tbody>\n",
       "</table>\n",
       "</div>"
      ],
      "text/plain": [
       "   101 (VDC)  102 (VDC)\n",
       "0  -0.367762  -0.362059\n",
       "1  -0.367773  -0.362067\n",
       "2  -0.367780  -0.362072\n",
       "3  -0.367768  -0.362063"
      ]
     },
     "execution_count": 36,
     "metadata": {},
     "output_type": "execute_result"
    }
   ],
   "source": [
    "dfL1temp"
   ]
  },
  {
   "cell_type": "code",
   "execution_count": null,
   "metadata": {},
   "outputs": [],
   "source": []
  },
  {
   "cell_type": "code",
   "execution_count": null,
   "metadata": {},
   "outputs": [],
   "source": []
  },
  {
   "cell_type": "code",
   "execution_count": null,
   "metadata": {},
   "outputs": [],
   "source": []
  },
  {
   "cell_type": "code",
   "execution_count": 27,
   "metadata": {},
   "outputs": [
    {
     "data": {
      "text/html": [
       "<div>\n",
       "<style scoped>\n",
       "    .dataframe tbody tr th:only-of-type {\n",
       "        vertical-align: middle;\n",
       "    }\n",
       "\n",
       "    .dataframe tbody tr th {\n",
       "        vertical-align: top;\n",
       "    }\n",
       "\n",
       "    .dataframe thead th {\n",
       "        text-align: right;\n",
       "    }\n",
       "</style>\n",
       "<table border=\"1\" class=\"dataframe\">\n",
       "  <thead>\n",
       "    <tr style=\"text-align: right;\">\n",
       "      <th></th>\n",
       "      <th>A</th>\n",
       "      <th>B</th>\n",
       "    </tr>\n",
       "  </thead>\n",
       "  <tbody>\n",
       "    <tr>\n",
       "      <th>0</th>\n",
       "      <td>1</td>\n",
       "      <td>2</td>\n",
       "    </tr>\n",
       "    <tr>\n",
       "      <th>1</th>\n",
       "      <td>3</td>\n",
       "      <td>4</td>\n",
       "    </tr>\n",
       "  </tbody>\n",
       "</table>\n",
       "</div>"
      ],
      "text/plain": [
       "   A  B\n",
       "0  1  2\n",
       "1  3  4"
      ]
     },
     "execution_count": 27,
     "metadata": {},
     "output_type": "execute_result"
    }
   ],
   "source": [
    "a = pd.DataFrame(data = [[1,2],[3,4]], index=range(2), columns = ['A', 'B'])\n",
    "a"
   ]
  },
  {
   "cell_type": "code",
   "execution_count": 28,
   "metadata": {},
   "outputs": [
    {
     "data": {
      "text/plain": [
       "A    1\n",
       "B    2\n",
       "Name: 0, dtype: int64"
      ]
     },
     "execution_count": 28,
     "metadata": {},
     "output_type": "execute_result"
    }
   ],
   "source": [
    "c,b = a.iloc[0].copy(), a.iloc[1].copy()\n",
    "c"
   ]
  },
  {
   "cell_type": "code",
   "execution_count": 29,
   "metadata": {},
   "outputs": [
    {
     "data": {
      "text/plain": [
       "A    3\n",
       "B    4\n",
       "Name: 1, dtype: int64"
      ]
     },
     "execution_count": 29,
     "metadata": {},
     "output_type": "execute_result"
    }
   ],
   "source": [
    "b"
   ]
  },
  {
   "cell_type": "code",
   "execution_count": 30,
   "metadata": {},
   "outputs": [],
   "source": [
    "a.iloc[0],a.iloc[1] = b,c"
   ]
  },
  {
   "cell_type": "code",
   "execution_count": 31,
   "metadata": {},
   "outputs": [
    {
     "data": {
      "text/html": [
       "<div>\n",
       "<style scoped>\n",
       "    .dataframe tbody tr th:only-of-type {\n",
       "        vertical-align: middle;\n",
       "    }\n",
       "\n",
       "    .dataframe tbody tr th {\n",
       "        vertical-align: top;\n",
       "    }\n",
       "\n",
       "    .dataframe thead th {\n",
       "        text-align: right;\n",
       "    }\n",
       "</style>\n",
       "<table border=\"1\" class=\"dataframe\">\n",
       "  <thead>\n",
       "    <tr style=\"text-align: right;\">\n",
       "      <th></th>\n",
       "      <th>A</th>\n",
       "      <th>B</th>\n",
       "    </tr>\n",
       "  </thead>\n",
       "  <tbody>\n",
       "    <tr>\n",
       "      <th>0</th>\n",
       "      <td>3</td>\n",
       "      <td>4</td>\n",
       "    </tr>\n",
       "    <tr>\n",
       "      <th>1</th>\n",
       "      <td>1</td>\n",
       "      <td>2</td>\n",
       "    </tr>\n",
       "  </tbody>\n",
       "</table>\n",
       "</div>"
      ],
      "text/plain": [
       "   A  B\n",
       "0  3  4\n",
       "1  1  2"
      ]
     },
     "execution_count": 31,
     "metadata": {},
     "output_type": "execute_result"
    }
   ],
   "source": [
    "a"
   ]
  },
  {
   "cell_type": "code",
   "execution_count": null,
   "metadata": {},
   "outputs": [],
   "source": []
  },
  {
   "cell_type": "code",
   "execution_count": 52,
   "metadata": {},
   "outputs": [
    {
     "data": {
      "text/plain": [
       "Index(['Scan', 'Time', '101 (VDC)', 'Alarm 101', '102 (VDC)', 'Alarm 102',\n",
       "       '103 (VDC)', 'Alarm 103', '104 (VDC)', 'Alarm 104', '105 (VDC)',\n",
       "       'Alarm 105', '106 (VDC)', 'Alarm 106', '201 (VDC)', 'Alarm 201',\n",
       "       '202 (VDC)', 'Alarm 202', '203 (VDC)', 'Alarm 203', '204 (VDC)',\n",
       "       'Alarm 204', '205 (VDC)', 'Alarm 205', '206 (VDC)', 'Alarm 206'],\n",
       "      dtype='object')"
      ]
     },
     "execution_count": 52,
     "metadata": {},
     "output_type": "execute_result"
    }
   ],
   "source": [
    "dfL1.columns"
   ]
  },
  {
   "cell_type": "code",
   "execution_count": 23,
   "metadata": {},
   "outputs": [
    {
     "data": {
      "text/plain": [
       "[0, 4, 8, 12, 16, 20, 24, 28, 32, 36]"
      ]
     },
     "execution_count": 23,
     "metadata": {},
     "output_type": "execute_result"
    }
   ],
   "source": [
    "lststepsoffour"
   ]
  },
  {
   "cell_type": "code",
   "execution_count": null,
   "metadata": {},
   "outputs": [],
   "source": [
    "sensor_input_set=\"257\"\n",
    "lstrawtext=['raw_text_L1.txt','raw_text_L2.txt','raw_text_L3.txt']\n",
    "lst_treatg_input=[sensor_input_set+\"_AS_L1\",sensor_input_set+\"_AS_L2\",sensor_input_set+\"_AS_L3\"]\n",
    "lst_channels101_to_106=[\"101 (VDC)\",\"201 (VDC)\",\"102 (VDC)\",\"202 (VDC)\",\"103 (VDC)\",\"203 (VDC)\",\"104 (VDC)\",\"204 (VDC)\",\"105 (VDC)\",\"205 (VDC)\",\"106 (VDC)\",\"206 (VDC)\",\"107 (VDC)\",\"207 (VDC)\",\"108 (VDC)\",\"208 (VDC)\"]\n",
    "lst_channels108_to_116=[\"109 (VDC)\",\"209 (VDC)\",\"110 (VDC)\",\"210 (VDC)\",\"111 (VDC)\",\"211 (VDC)\",\"112 (VDC)\",\"212 (VDC)\",\"113 (VDC)\",\"213 (VDC)\",\"114 (VDC)\",\"214 (VDC)\",\"115 (VDC)\",\"215 (VDC)\",\"116 (VDC)\",\"216 (VDC)\"]\n",
    "lstchannels=lst_channels101_to_106+lst_channels108_to_116\n",
    "\n",
    "dfL1= pd.read_csv('raw_text_L1.txt')\n",
    "location201=dfL1.columns.get_loc(\"201 (VDC)\")\n",
    "channels=(location201-2)/2\n",
    "\n",
    "for inputtreatg in lst_treatg_input:\n",
    "    for channelnum in range(0,channels-1):\n",
    "        with open(inputtreatg+\"_\"+str(channelnum+1), 'w') as f:\n",
    "                f.write(' pos  uacc     Rts\\n')\n",
    "\n",
    "\n",
    "                \n",
    "                \n",
    "for rawtext_day,inputtreatg in zip(lstrawtext,lst_treatg_input):\n",
    "    dfL1= pd.read_csv(rawtext_day)\n",
    "    #interchanging the rows to obtain the desired order from 1423 to 1234\n",
    "    for chose4rowspanda in range(0,37,4):\n",
    "        dfL1temp=dfL1.iloc[chose4rowspanda:chose4rowspanda+4,:]\n",
    "        b,c,d=dfL1temp.iloc[1,:].copy(),dfL1temp.iloc[2,:].copy(),dfL1temp.iloc[3,:].copy()\n",
    "        dfL1temp.iloc[1,:],dfL1temp.iloc[2,:],dfL1temp.iloc[3,:]=c,d,b\n",
    "\n",
    "            for channelnum in range(0,channels-1):\n",
    "                for rows in range(0,4):\n",
    "                    with open(inputtreatg+\"_\"+str(channelnum+1), 'a') as f:\n",
    "                        f.write('  {0} {1:.6f} {2:.5f}\\n'.format(rows,dfL1temp[lstchannels[2*channelnum]].loc[rows],dfL1temp[lstchannels[2*channelnum+1]].loc[rows]))\n",
    "\n",
    "            "
   ]
  },
  {
   "cell_type": "code",
   "execution_count": 38,
   "metadata": {},
   "outputs": [
    {
     "name": "stdout",
     "output_type": "stream",
     "text": [
      "0\n",
      "1\n",
      "2\n",
      "3\n",
      "4\n",
      "5\n",
      "6\n",
      "7\n",
      "8\n",
      "9\n"
     ]
    }
   ],
   "source": [
    "for i in range(0,10):\n",
    "    print (i)"
   ]
  },
  {
   "cell_type": "code",
   "execution_count": 40,
   "metadata": {},
   "outputs": [],
   "source": [
    "sensor_input_set=\"257\"\n",
    "lst=[sensor_input_set+\"sai\",sensor_input_set+\"hi\"]"
   ]
  },
  {
   "cell_type": "code",
   "execution_count": 41,
   "metadata": {},
   "outputs": [
    {
     "data": {
      "text/plain": [
       "['257sai', '257hi']"
      ]
     },
     "execution_count": 41,
     "metadata": {},
     "output_type": "execute_result"
    }
   ],
   "source": [
    "lst"
   ]
  },
  {
   "cell_type": "code",
   "execution_count": 42,
   "metadata": {},
   "outputs": [],
   "source": [
    "lst_treatg_input=[sensor_input_set+\"_AS_L1\",sensor_input_set+\"_AS_L2\",sensor_input_set+\"_AS_L3\"]"
   ]
  },
  {
   "cell_type": "code",
   "execution_count": 43,
   "metadata": {},
   "outputs": [
    {
     "data": {
      "text/plain": [
       "['257_AS_L1', '257_AS_L2', '257_AS_L3']"
      ]
     },
     "execution_count": 43,
     "metadata": {},
     "output_type": "execute_result"
    }
   ],
   "source": [
    "lst_treatg_input"
   ]
  },
  {
   "cell_type": "code",
   "execution_count": null,
   "metadata": {},
   "outputs": [],
   "source": []
  }
 ],
 "metadata": {
  "kernelspec": {
   "display_name": "Python 3",
   "language": "python",
   "name": "python3"
  },
  "language_info": {
   "codemirror_mode": {
    "name": "ipython",
    "version": 3
   },
   "file_extension": ".py",
   "mimetype": "text/x-python",
   "name": "python",
   "nbconvert_exporter": "python",
   "pygments_lexer": "ipython3",
   "version": "3.7.3"
  }
 },
 "nbformat": 4,
 "nbformat_minor": 2
}
